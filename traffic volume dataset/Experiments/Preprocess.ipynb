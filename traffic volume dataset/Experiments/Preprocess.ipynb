{
 "cells": [
  {
   "cell_type": "code",
   "execution_count": 1,
   "outputs": [
    {
     "name": "stdout",
     "output_type": "stream",
     "text": [
      "             date_time is_holiday  air_pollution_index  humidity  wind_speed  \\\n",
      "0  2012-10-02 09:00:00       None                  121        89           2   \n",
      "1  2012-10-02 10:00:00       None                  178        67           3   \n",
      "2  2012-10-02 11:00:00       None                  113        66           3   \n",
      "3  2012-10-02 12:00:00       None                   20        66           3   \n",
      "4  2012-10-02 13:00:00       None                  281        65           3   \n",
      "\n",
      "   wind_direction  visibility_in_miles  dew_point  temperature  rain_p_h  \\\n",
      "0             329                    1          1       288.28       0.0   \n",
      "1             330                    1          1       289.36       0.0   \n",
      "2             329                    2          2       289.58       0.0   \n",
      "3             329                    5          5       290.13       0.0   \n",
      "4             329                    7          7       291.14       0.0   \n",
      "\n",
      "   snow_p_h  clouds_all weather_type weather_description  traffic_volume  \n",
      "0       0.0          40       Clouds    scattered clouds            5545  \n",
      "1       0.0          75       Clouds       broken clouds            4516  \n",
      "2       0.0          90       Clouds     overcast clouds            4767  \n",
      "3       0.0          90       Clouds     overcast clouds            5026  \n",
      "4       0.0          75       Clouds       broken clouds            4918  \n"
     ]
    }
   ],
   "source": [
    "import pandas as pd\n",
    "import seaborn as sns\n",
    "import pandas as pd\n",
    "import numpy as np\n",
    "import xgboost as xgb\n",
    "from sklearn.model_selection import TimeSeriesSplit\n",
    "from sklearn.preprocessing import StandardScaler\n",
    "from sklearn.metrics import mean_squared_error, mean_absolute_error, r2_score, make_scorer\n",
    "from tqdm import tqdm\n",
    "import matplotlib.pyplot as plt\n",
    "\n",
    "# Load the dataset\n",
    "df_raw = pd.read_csv('../Train.csv')\n",
    "\n",
    "# Display the first few rows to check for a column that might indicate holidays\n",
    "print(df_raw.head())"
   ],
   "metadata": {
    "collapsed": false,
    "ExecuteTime": {
     "end_time": "2023-11-26T12:33:01.094259800Z",
     "start_time": "2023-11-26T12:33:00.816267600Z"
    }
   },
   "id": "13e6f2c7781101d9"
  },
  {
   "cell_type": "code",
   "execution_count": 2,
   "outputs": [
    {
     "name": "stdout",
     "output_type": "stream",
     "text": [
      "<class 'pandas.core.frame.DataFrame'>\n",
      "RangeIndex: 33750 entries, 0 to 33749\n",
      "Data columns (total 15 columns):\n",
      " #   Column               Non-Null Count  Dtype  \n",
      "---  ------               --------------  -----  \n",
      " 0   date_time            33750 non-null  object \n",
      " 1   is_holiday           33750 non-null  object \n",
      " 2   air_pollution_index  33750 non-null  int64  \n",
      " 3   humidity             33750 non-null  int64  \n",
      " 4   wind_speed           33750 non-null  int64  \n",
      " 5   wind_direction       33750 non-null  int64  \n",
      " 6   visibility_in_miles  33750 non-null  int64  \n",
      " 7   dew_point            33750 non-null  int64  \n",
      " 8   temperature          33750 non-null  float64\n",
      " 9   rain_p_h             33750 non-null  float64\n",
      " 10  snow_p_h             33750 non-null  float64\n",
      " 11  clouds_all           33750 non-null  int64  \n",
      " 12  weather_type         33750 non-null  object \n",
      " 13  weather_description  33750 non-null  object \n",
      " 14  traffic_volume       33750 non-null  int64  \n",
      "dtypes: float64(3), int64(8), object(4)\n",
      "memory usage: 3.9+ MB\n"
     ]
    }
   ],
   "source": [
    "df_raw.info()"
   ],
   "metadata": {
    "collapsed": false,
    "ExecuteTime": {
     "end_time": "2023-11-26T12:33:01.863925Z",
     "start_time": "2023-11-26T12:33:01.811924900Z"
    }
   },
   "id": "95b2f2b29d9ea6ef"
  },
  {
   "cell_type": "code",
   "execution_count": 3,
   "outputs": [
    {
     "data": {
      "text/plain": "12"
     },
     "execution_count": 3,
     "metadata": {},
     "output_type": "execute_result"
    }
   ],
   "source": [
    "df_raw['is_holiday'].nunique()"
   ],
   "metadata": {
    "collapsed": false,
    "ExecuteTime": {
     "end_time": "2023-11-26T12:33:13.458557500Z",
     "start_time": "2023-11-26T12:33:13.414564Z"
    }
   },
   "id": "71b29ec0ecada287"
  },
  {
   "cell_type": "code",
   "execution_count": 4,
   "outputs": [
    {
     "data": {
      "text/plain": "38"
     },
     "execution_count": 4,
     "metadata": {},
     "output_type": "execute_result"
    }
   ],
   "source": [
    "df_raw['weather_description'].nunique()"
   ],
   "metadata": {
    "collapsed": false,
    "ExecuteTime": {
     "end_time": "2023-11-26T12:33:21.702120300Z",
     "start_time": "2023-11-26T12:33:21.611123600Z"
    }
   },
   "id": "2702ad4985f48bf3"
  },
  {
   "cell_type": "code",
   "execution_count": 5,
   "outputs": [
    {
     "data": {
      "text/plain": "11"
     },
     "execution_count": 5,
     "metadata": {},
     "output_type": "execute_result"
    }
   ],
   "source": [
    "df_raw['weather_type'].nunique()"
   ],
   "metadata": {
    "collapsed": false,
    "ExecuteTime": {
     "end_time": "2023-11-26T12:33:29.182257400Z",
     "start_time": "2023-11-26T12:33:29.137267700Z"
    }
   },
   "id": "cec32424346f02a4"
  },
  {
   "cell_type": "code",
   "execution_count": 10,
   "outputs": [],
   "source": [
    "df_raw = pd.read_csv('../Train.csv')"
   ],
   "metadata": {
    "collapsed": false,
    "ExecuteTime": {
     "end_time": "2023-11-26T12:35:13.389549400Z",
     "start_time": "2023-11-26T12:35:13.310551700Z"
    }
   },
   "id": "4697e202d98a5682"
  },
  {
   "cell_type": "code",
   "execution_count": 11,
   "outputs": [
    {
     "data": {
      "text/plain": "                    is_holiday  air_pollution_index  humidity  wind_speed  \\\ndate_time                                                                   \n2012-10-02 09:00:00       None                  121        89           2   \n2012-10-02 10:00:00       None                  178        67           3   \n2012-10-02 11:00:00       None                  113        66           3   \n2012-10-02 12:00:00       None                   20        66           3   \n2012-10-02 13:00:00       None                  281        65           3   \n\n                     wind_direction  visibility_in_miles  dew_point  \\\ndate_time                                                             \n2012-10-02 09:00:00             329                    1          1   \n2012-10-02 10:00:00             330                    1          1   \n2012-10-02 11:00:00             329                    2          2   \n2012-10-02 12:00:00             329                    5          5   \n2012-10-02 13:00:00             329                    7          7   \n\n                     temperature  rain_p_h  snow_p_h  clouds_all weather_type  \\\ndate_time                                                                       \n2012-10-02 09:00:00       288.28       0.0       0.0          40       Clouds   \n2012-10-02 10:00:00       289.36       0.0       0.0          75       Clouds   \n2012-10-02 11:00:00       289.58       0.0       0.0          90       Clouds   \n2012-10-02 12:00:00       290.13       0.0       0.0          90       Clouds   \n2012-10-02 13:00:00       291.14       0.0       0.0          75       Clouds   \n\n                    weather_description  traffic_volume  \ndate_time                                                \n2012-10-02 09:00:00    scattered clouds            5545  \n2012-10-02 10:00:00       broken clouds            4516  \n2012-10-02 11:00:00     overcast clouds            4767  \n2012-10-02 12:00:00     overcast clouds            5026  \n2012-10-02 13:00:00       broken clouds            4918  ",
      "text/html": "<div>\n<style scoped>\n    .dataframe tbody tr th:only-of-type {\n        vertical-align: middle;\n    }\n\n    .dataframe tbody tr th {\n        vertical-align: top;\n    }\n\n    .dataframe thead th {\n        text-align: right;\n    }\n</style>\n<table border=\"1\" class=\"dataframe\">\n  <thead>\n    <tr style=\"text-align: right;\">\n      <th></th>\n      <th>is_holiday</th>\n      <th>air_pollution_index</th>\n      <th>humidity</th>\n      <th>wind_speed</th>\n      <th>wind_direction</th>\n      <th>visibility_in_miles</th>\n      <th>dew_point</th>\n      <th>temperature</th>\n      <th>rain_p_h</th>\n      <th>snow_p_h</th>\n      <th>clouds_all</th>\n      <th>weather_type</th>\n      <th>weather_description</th>\n      <th>traffic_volume</th>\n    </tr>\n    <tr>\n      <th>date_time</th>\n      <th></th>\n      <th></th>\n      <th></th>\n      <th></th>\n      <th></th>\n      <th></th>\n      <th></th>\n      <th></th>\n      <th></th>\n      <th></th>\n      <th></th>\n      <th></th>\n      <th></th>\n      <th></th>\n    </tr>\n  </thead>\n  <tbody>\n    <tr>\n      <th>2012-10-02 09:00:00</th>\n      <td>None</td>\n      <td>121</td>\n      <td>89</td>\n      <td>2</td>\n      <td>329</td>\n      <td>1</td>\n      <td>1</td>\n      <td>288.28</td>\n      <td>0.0</td>\n      <td>0.0</td>\n      <td>40</td>\n      <td>Clouds</td>\n      <td>scattered clouds</td>\n      <td>5545</td>\n    </tr>\n    <tr>\n      <th>2012-10-02 10:00:00</th>\n      <td>None</td>\n      <td>178</td>\n      <td>67</td>\n      <td>3</td>\n      <td>330</td>\n      <td>1</td>\n      <td>1</td>\n      <td>289.36</td>\n      <td>0.0</td>\n      <td>0.0</td>\n      <td>75</td>\n      <td>Clouds</td>\n      <td>broken clouds</td>\n      <td>4516</td>\n    </tr>\n    <tr>\n      <th>2012-10-02 11:00:00</th>\n      <td>None</td>\n      <td>113</td>\n      <td>66</td>\n      <td>3</td>\n      <td>329</td>\n      <td>2</td>\n      <td>2</td>\n      <td>289.58</td>\n      <td>0.0</td>\n      <td>0.0</td>\n      <td>90</td>\n      <td>Clouds</td>\n      <td>overcast clouds</td>\n      <td>4767</td>\n    </tr>\n    <tr>\n      <th>2012-10-02 12:00:00</th>\n      <td>None</td>\n      <td>20</td>\n      <td>66</td>\n      <td>3</td>\n      <td>329</td>\n      <td>5</td>\n      <td>5</td>\n      <td>290.13</td>\n      <td>0.0</td>\n      <td>0.0</td>\n      <td>90</td>\n      <td>Clouds</td>\n      <td>overcast clouds</td>\n      <td>5026</td>\n    </tr>\n    <tr>\n      <th>2012-10-02 13:00:00</th>\n      <td>None</td>\n      <td>281</td>\n      <td>65</td>\n      <td>3</td>\n      <td>329</td>\n      <td>7</td>\n      <td>7</td>\n      <td>291.14</td>\n      <td>0.0</td>\n      <td>0.0</td>\n      <td>75</td>\n      <td>Clouds</td>\n      <td>broken clouds</td>\n      <td>4918</td>\n    </tr>\n  </tbody>\n</table>\n</div>"
     },
     "execution_count": 11,
     "metadata": {},
     "output_type": "execute_result"
    }
   ],
   "source": [
    "# Convert it to datetime format\n",
    "\n",
    "df_raw['date_time'] = pd.to_datetime(df_raw['date_time'])\n",
    "\n",
    "# Set 'date_time' as the index\n",
    "df_raw.set_index('date_time', inplace=True)\n",
    "\n",
    "df_raw.head()"
   ],
   "metadata": {
    "collapsed": false,
    "ExecuteTime": {
     "end_time": "2023-11-26T12:35:16.450635400Z",
     "start_time": "2023-11-26T12:35:16.408634600Z"
    }
   },
   "id": "71f4c4ac6b0a820d"
  },
  {
   "cell_type": "code",
   "execution_count": 12,
   "outputs": [
    {
     "name": "stdout",
     "output_type": "stream",
     "text": [
      "<class 'pandas.core.frame.DataFrame'>\n",
      "DatetimeIndex: 33750 entries, 2012-10-02 09:00:00 to 2017-05-17 23:00:00\n",
      "Data columns (total 14 columns):\n",
      " #   Column               Non-Null Count  Dtype  \n",
      "---  ------               --------------  -----  \n",
      " 0   is_holiday           33750 non-null  object \n",
      " 1   air_pollution_index  33750 non-null  int64  \n",
      " 2   humidity             33750 non-null  int64  \n",
      " 3   wind_speed           33750 non-null  int64  \n",
      " 4   wind_direction       33750 non-null  int64  \n",
      " 5   visibility_in_miles  33750 non-null  int64  \n",
      " 6   dew_point            33750 non-null  int64  \n",
      " 7   temperature          33750 non-null  float64\n",
      " 8   rain_p_h             33750 non-null  float64\n",
      " 9   snow_p_h             33750 non-null  float64\n",
      " 10  clouds_all           33750 non-null  int64  \n",
      " 11  weather_type         33750 non-null  object \n",
      " 12  weather_description  33750 non-null  object \n",
      " 13  traffic_volume       33750 non-null  int64  \n",
      "dtypes: float64(3), int64(8), object(3)\n",
      "memory usage: 3.9+ MB\n"
     ]
    }
   ],
   "source": [
    "df_raw.info()"
   ],
   "metadata": {
    "collapsed": false,
    "ExecuteTime": {
     "end_time": "2023-11-26T12:35:51.716413700Z",
     "start_time": "2023-11-26T12:35:51.643408300Z"
    }
   },
   "id": "b9f3fe60c7f5935b"
  },
  {
   "cell_type": "code",
   "execution_count": 14,
   "outputs": [
    {
     "name": "stdout",
     "output_type": "stream",
     "text": [
      "<class 'pandas.core.frame.DataFrame'>\n",
      "DatetimeIndex: 33750 entries, 2012-10-02 09:00:00 to 2017-05-17 23:00:00\n",
      "Data columns (total 12 columns):\n",
      " #   Column                     Non-Null Count  Dtype\n",
      "---  ------                     --------------  -----\n",
      " 0   Christmas Day              33750 non-null  uint8\n",
      " 1   Columbus Day               33750 non-null  uint8\n",
      " 2   Independence Day           33750 non-null  uint8\n",
      " 3   Labor Day                  33750 non-null  uint8\n",
      " 4   Martin Luther King Jr Day  33750 non-null  uint8\n",
      " 5   Memorial Day               33750 non-null  uint8\n",
      " 6   New Years Day              33750 non-null  uint8\n",
      " 7   None                       33750 non-null  uint8\n",
      " 8   State Fair                 33750 non-null  uint8\n",
      " 9   Thanksgiving Day           33750 non-null  uint8\n",
      " 10  Veterans Day               33750 non-null  uint8\n",
      " 11  Washingtons Birthday       33750 non-null  uint8\n",
      "dtypes: uint8(12)\n",
      "memory usage: 659.2 KB\n"
     ]
    }
   ],
   "source": [
    "df_is_holiday = pd.get_dummies(df_raw['is_holiday'])\n",
    "\n",
    "df_is_holiday.info()"
   ],
   "metadata": {
    "collapsed": false,
    "ExecuteTime": {
     "end_time": "2023-11-26T12:36:15.011039500Z",
     "start_time": "2023-11-26T12:36:14.928023300Z"
    }
   },
   "id": "616361cebaa8223"
  },
  {
   "cell_type": "code",
   "execution_count": 15,
   "outputs": [
    {
     "name": "stdout",
     "output_type": "stream",
     "text": [
      "<class 'pandas.core.frame.DataFrame'>\n",
      "DatetimeIndex: 33750 entries, 2012-10-02 09:00:00 to 2017-05-17 23:00:00\n",
      "Data columns (total 11 columns):\n",
      " #   Column        Non-Null Count  Dtype\n",
      "---  ------        --------------  -----\n",
      " 0   Clear         33750 non-null  uint8\n",
      " 1   Clouds        33750 non-null  uint8\n",
      " 2   Drizzle       33750 non-null  uint8\n",
      " 3   Fog           33750 non-null  uint8\n",
      " 4   Haze          33750 non-null  uint8\n",
      " 5   Mist          33750 non-null  uint8\n",
      " 6   Rain          33750 non-null  uint8\n",
      " 7   Smoke         33750 non-null  uint8\n",
      " 8   Snow          33750 non-null  uint8\n",
      " 9   Squall        33750 non-null  uint8\n",
      " 10  Thunderstorm  33750 non-null  uint8\n",
      "dtypes: uint8(11)\n",
      "memory usage: 626.2 KB\n"
     ]
    }
   ],
   "source": [
    "df_weather_type = pd.get_dummies(df_raw['weather_type'])\n",
    "\n",
    "df_weather_type.info()"
   ],
   "metadata": {
    "collapsed": false,
    "ExecuteTime": {
     "end_time": "2023-11-26T12:36:39.223713700Z",
     "start_time": "2023-11-26T12:36:39.126720100Z"
    }
   },
   "id": "c147a89c1e3baa90"
  },
  {
   "cell_type": "code",
   "execution_count": 16,
   "outputs": [
    {
     "name": "stdout",
     "output_type": "stream",
     "text": [
      "<class 'pandas.core.frame.DataFrame'>\n",
      "DatetimeIndex: 33750 entries, 2012-10-02 09:00:00 to 2017-05-17 23:00:00\n",
      "Data columns (total 38 columns):\n",
      " #   Column                               Non-Null Count  Dtype\n",
      "---  ------                               --------------  -----\n",
      " 0   SQUALLS                              33750 non-null  uint8\n",
      " 1   Sky is Clear                         33750 non-null  uint8\n",
      " 2   broken clouds                        33750 non-null  uint8\n",
      " 3   drizzle                              33750 non-null  uint8\n",
      " 4   few clouds                           33750 non-null  uint8\n",
      " 5   fog                                  33750 non-null  uint8\n",
      " 6   freezing rain                        33750 non-null  uint8\n",
      " 7   haze                                 33750 non-null  uint8\n",
      " 8   heavy intensity drizzle              33750 non-null  uint8\n",
      " 9   heavy intensity rain                 33750 non-null  uint8\n",
      " 10  heavy snow                           33750 non-null  uint8\n",
      " 11  light intensity drizzle              33750 non-null  uint8\n",
      " 12  light intensity shower rain          33750 non-null  uint8\n",
      " 13  light rain                           33750 non-null  uint8\n",
      " 14  light rain and snow                  33750 non-null  uint8\n",
      " 15  light shower snow                    33750 non-null  uint8\n",
      " 16  light snow                           33750 non-null  uint8\n",
      " 17  mist                                 33750 non-null  uint8\n",
      " 18  moderate rain                        33750 non-null  uint8\n",
      " 19  overcast clouds                      33750 non-null  uint8\n",
      " 20  proximity shower rain                33750 non-null  uint8\n",
      " 21  proximity thunderstorm               33750 non-null  uint8\n",
      " 22  proximity thunderstorm with drizzle  33750 non-null  uint8\n",
      " 23  proximity thunderstorm with rain     33750 non-null  uint8\n",
      " 24  scattered clouds                     33750 non-null  uint8\n",
      " 25  shower drizzle                       33750 non-null  uint8\n",
      " 26  shower snow                          33750 non-null  uint8\n",
      " 27  sky is clear                         33750 non-null  uint8\n",
      " 28  sleet                                33750 non-null  uint8\n",
      " 29  smoke                                33750 non-null  uint8\n",
      " 30  snow                                 33750 non-null  uint8\n",
      " 31  thunderstorm                         33750 non-null  uint8\n",
      " 32  thunderstorm with drizzle            33750 non-null  uint8\n",
      " 33  thunderstorm with heavy rain         33750 non-null  uint8\n",
      " 34  thunderstorm with light drizzle      33750 non-null  uint8\n",
      " 35  thunderstorm with light rain         33750 non-null  uint8\n",
      " 36  thunderstorm with rain               33750 non-null  uint8\n",
      " 37  very heavy rain                      33750 non-null  uint8\n",
      "dtypes: uint8(38)\n",
      "memory usage: 1.5 MB\n"
     ]
    }
   ],
   "source": [
    "df_weather_description = pd.get_dummies(df_raw['weather_description'])\n",
    "\n",
    "df_weather_description.info()"
   ],
   "metadata": {
    "collapsed": false,
    "ExecuteTime": {
     "end_time": "2023-11-26T12:37:06.111666500Z",
     "start_time": "2023-11-26T12:37:06.041652300Z"
    }
   },
   "id": "de1dd78f4056e722"
  },
  {
   "cell_type": "code",
   "execution_count": 17,
   "outputs": [
    {
     "name": "stdout",
     "output_type": "stream",
     "text": [
      "<class 'pandas.core.frame.DataFrame'>\n",
      "DatetimeIndex: 33750 entries, 2012-10-02 09:00:00 to 2017-05-17 23:00:00\n",
      "Data columns (total 75 columns):\n",
      " #   Column                               Non-Null Count  Dtype  \n",
      "---  ------                               --------------  -----  \n",
      " 0   is_holiday                           33750 non-null  object \n",
      " 1   air_pollution_index                  33750 non-null  int64  \n",
      " 2   humidity                             33750 non-null  int64  \n",
      " 3   wind_speed                           33750 non-null  int64  \n",
      " 4   wind_direction                       33750 non-null  int64  \n",
      " 5   visibility_in_miles                  33750 non-null  int64  \n",
      " 6   dew_point                            33750 non-null  int64  \n",
      " 7   temperature                          33750 non-null  float64\n",
      " 8   rain_p_h                             33750 non-null  float64\n",
      " 9   snow_p_h                             33750 non-null  float64\n",
      " 10  clouds_all                           33750 non-null  int64  \n",
      " 11  weather_type                         33750 non-null  object \n",
      " 12  weather_description                  33750 non-null  object \n",
      " 13  traffic_volume                       33750 non-null  int64  \n",
      " 14  Christmas Day                        33750 non-null  uint8  \n",
      " 15  Columbus Day                         33750 non-null  uint8  \n",
      " 16  Independence Day                     33750 non-null  uint8  \n",
      " 17  Labor Day                            33750 non-null  uint8  \n",
      " 18  Martin Luther King Jr Day            33750 non-null  uint8  \n",
      " 19  Memorial Day                         33750 non-null  uint8  \n",
      " 20  New Years Day                        33750 non-null  uint8  \n",
      " 21  None                                 33750 non-null  uint8  \n",
      " 22  State Fair                           33750 non-null  uint8  \n",
      " 23  Thanksgiving Day                     33750 non-null  uint8  \n",
      " 24  Veterans Day                         33750 non-null  uint8  \n",
      " 25  Washingtons Birthday                 33750 non-null  uint8  \n",
      " 26  Clear                                33750 non-null  uint8  \n",
      " 27  Clouds                               33750 non-null  uint8  \n",
      " 28  Drizzle                              33750 non-null  uint8  \n",
      " 29  Fog                                  33750 non-null  uint8  \n",
      " 30  Haze                                 33750 non-null  uint8  \n",
      " 31  Mist                                 33750 non-null  uint8  \n",
      " 32  Rain                                 33750 non-null  uint8  \n",
      " 33  Smoke                                33750 non-null  uint8  \n",
      " 34  Snow                                 33750 non-null  uint8  \n",
      " 35  Squall                               33750 non-null  uint8  \n",
      " 36  Thunderstorm                         33750 non-null  uint8  \n",
      " 37  SQUALLS                              33750 non-null  uint8  \n",
      " 38  Sky is Clear                         33750 non-null  uint8  \n",
      " 39  broken clouds                        33750 non-null  uint8  \n",
      " 40  drizzle                              33750 non-null  uint8  \n",
      " 41  few clouds                           33750 non-null  uint8  \n",
      " 42  fog                                  33750 non-null  uint8  \n",
      " 43  freezing rain                        33750 non-null  uint8  \n",
      " 44  haze                                 33750 non-null  uint8  \n",
      " 45  heavy intensity drizzle              33750 non-null  uint8  \n",
      " 46  heavy intensity rain                 33750 non-null  uint8  \n",
      " 47  heavy snow                           33750 non-null  uint8  \n",
      " 48  light intensity drizzle              33750 non-null  uint8  \n",
      " 49  light intensity shower rain          33750 non-null  uint8  \n",
      " 50  light rain                           33750 non-null  uint8  \n",
      " 51  light rain and snow                  33750 non-null  uint8  \n",
      " 52  light shower snow                    33750 non-null  uint8  \n",
      " 53  light snow                           33750 non-null  uint8  \n",
      " 54  mist                                 33750 non-null  uint8  \n",
      " 55  moderate rain                        33750 non-null  uint8  \n",
      " 56  overcast clouds                      33750 non-null  uint8  \n",
      " 57  proximity shower rain                33750 non-null  uint8  \n",
      " 58  proximity thunderstorm               33750 non-null  uint8  \n",
      " 59  proximity thunderstorm with drizzle  33750 non-null  uint8  \n",
      " 60  proximity thunderstorm with rain     33750 non-null  uint8  \n",
      " 61  scattered clouds                     33750 non-null  uint8  \n",
      " 62  shower drizzle                       33750 non-null  uint8  \n",
      " 63  shower snow                          33750 non-null  uint8  \n",
      " 64  sky is clear                         33750 non-null  uint8  \n",
      " 65  sleet                                33750 non-null  uint8  \n",
      " 66  smoke                                33750 non-null  uint8  \n",
      " 67  snow                                 33750 non-null  uint8  \n",
      " 68  thunderstorm                         33750 non-null  uint8  \n",
      " 69  thunderstorm with drizzle            33750 non-null  uint8  \n",
      " 70  thunderstorm with heavy rain         33750 non-null  uint8  \n",
      " 71  thunderstorm with light drizzle      33750 non-null  uint8  \n",
      " 72  thunderstorm with light rain         33750 non-null  uint8  \n",
      " 73  thunderstorm with rain               33750 non-null  uint8  \n",
      " 74  very heavy rain                      33750 non-null  uint8  \n",
      "dtypes: float64(3), int64(8), object(3), uint8(61)\n",
      "memory usage: 5.8+ MB\n"
     ]
    }
   ],
   "source": [
    "df_processed = pd.concat([df_raw, df_is_holiday, df_weather_type, df_weather_description], axis=1)\n",
    "\n",
    "df_processed.info()"
   ],
   "metadata": {
    "collapsed": false,
    "ExecuteTime": {
     "end_time": "2023-11-26T12:37:24.742913500Z",
     "start_time": "2023-11-26T12:37:24.666919300Z"
    }
   },
   "id": "42b7eb22681878f8"
  },
  {
   "cell_type": "code",
   "execution_count": 18,
   "outputs": [
    {
     "name": "stdout",
     "output_type": "stream",
     "text": [
      "<class 'pandas.core.frame.DataFrame'>\n",
      "DatetimeIndex: 33750 entries, 2012-10-02 09:00:00 to 2017-05-17 23:00:00\n",
      "Data columns (total 72 columns):\n",
      " #   Column                               Non-Null Count  Dtype  \n",
      "---  ------                               --------------  -----  \n",
      " 0   air_pollution_index                  33750 non-null  int64  \n",
      " 1   humidity                             33750 non-null  int64  \n",
      " 2   wind_speed                           33750 non-null  int64  \n",
      " 3   wind_direction                       33750 non-null  int64  \n",
      " 4   visibility_in_miles                  33750 non-null  int64  \n",
      " 5   dew_point                            33750 non-null  int64  \n",
      " 6   temperature                          33750 non-null  float64\n",
      " 7   rain_p_h                             33750 non-null  float64\n",
      " 8   snow_p_h                             33750 non-null  float64\n",
      " 9   clouds_all                           33750 non-null  int64  \n",
      " 10  traffic_volume                       33750 non-null  int64  \n",
      " 11  Christmas Day                        33750 non-null  uint8  \n",
      " 12  Columbus Day                         33750 non-null  uint8  \n",
      " 13  Independence Day                     33750 non-null  uint8  \n",
      " 14  Labor Day                            33750 non-null  uint8  \n",
      " 15  Martin Luther King Jr Day            33750 non-null  uint8  \n",
      " 16  Memorial Day                         33750 non-null  uint8  \n",
      " 17  New Years Day                        33750 non-null  uint8  \n",
      " 18  None                                 33750 non-null  uint8  \n",
      " 19  State Fair                           33750 non-null  uint8  \n",
      " 20  Thanksgiving Day                     33750 non-null  uint8  \n",
      " 21  Veterans Day                         33750 non-null  uint8  \n",
      " 22  Washingtons Birthday                 33750 non-null  uint8  \n",
      " 23  Clear                                33750 non-null  uint8  \n",
      " 24  Clouds                               33750 non-null  uint8  \n",
      " 25  Drizzle                              33750 non-null  uint8  \n",
      " 26  Fog                                  33750 non-null  uint8  \n",
      " 27  Haze                                 33750 non-null  uint8  \n",
      " 28  Mist                                 33750 non-null  uint8  \n",
      " 29  Rain                                 33750 non-null  uint8  \n",
      " 30  Smoke                                33750 non-null  uint8  \n",
      " 31  Snow                                 33750 non-null  uint8  \n",
      " 32  Squall                               33750 non-null  uint8  \n",
      " 33  Thunderstorm                         33750 non-null  uint8  \n",
      " 34  SQUALLS                              33750 non-null  uint8  \n",
      " 35  Sky is Clear                         33750 non-null  uint8  \n",
      " 36  broken clouds                        33750 non-null  uint8  \n",
      " 37  drizzle                              33750 non-null  uint8  \n",
      " 38  few clouds                           33750 non-null  uint8  \n",
      " 39  fog                                  33750 non-null  uint8  \n",
      " 40  freezing rain                        33750 non-null  uint8  \n",
      " 41  haze                                 33750 non-null  uint8  \n",
      " 42  heavy intensity drizzle              33750 non-null  uint8  \n",
      " 43  heavy intensity rain                 33750 non-null  uint8  \n",
      " 44  heavy snow                           33750 non-null  uint8  \n",
      " 45  light intensity drizzle              33750 non-null  uint8  \n",
      " 46  light intensity shower rain          33750 non-null  uint8  \n",
      " 47  light rain                           33750 non-null  uint8  \n",
      " 48  light rain and snow                  33750 non-null  uint8  \n",
      " 49  light shower snow                    33750 non-null  uint8  \n",
      " 50  light snow                           33750 non-null  uint8  \n",
      " 51  mist                                 33750 non-null  uint8  \n",
      " 52  moderate rain                        33750 non-null  uint8  \n",
      " 53  overcast clouds                      33750 non-null  uint8  \n",
      " 54  proximity shower rain                33750 non-null  uint8  \n",
      " 55  proximity thunderstorm               33750 non-null  uint8  \n",
      " 56  proximity thunderstorm with drizzle  33750 non-null  uint8  \n",
      " 57  proximity thunderstorm with rain     33750 non-null  uint8  \n",
      " 58  scattered clouds                     33750 non-null  uint8  \n",
      " 59  shower drizzle                       33750 non-null  uint8  \n",
      " 60  shower snow                          33750 non-null  uint8  \n",
      " 61  sky is clear                         33750 non-null  uint8  \n",
      " 62  sleet                                33750 non-null  uint8  \n",
      " 63  smoke                                33750 non-null  uint8  \n",
      " 64  snow                                 33750 non-null  uint8  \n",
      " 65  thunderstorm                         33750 non-null  uint8  \n",
      " 66  thunderstorm with drizzle            33750 non-null  uint8  \n",
      " 67  thunderstorm with heavy rain         33750 non-null  uint8  \n",
      " 68  thunderstorm with light drizzle      33750 non-null  uint8  \n",
      " 69  thunderstorm with light rain         33750 non-null  uint8  \n",
      " 70  thunderstorm with rain               33750 non-null  uint8  \n",
      " 71  very heavy rain                      33750 non-null  uint8  \n",
      "dtypes: float64(3), int64(8), uint8(61)\n",
      "memory usage: 5.1 MB\n"
     ]
    }
   ],
   "source": [
    "df_processed.drop(columns=['is_holiday', 'weather_type', 'weather_description'], inplace=True)\n",
    "\n",
    "df_processed.info()"
   ],
   "metadata": {
    "collapsed": false,
    "ExecuteTime": {
     "end_time": "2023-11-26T12:37:55.376038500Z",
     "start_time": "2023-11-26T12:37:55.291046Z"
    }
   },
   "id": "6948ac309c260adb"
  },
  {
   "cell_type": "code",
   "execution_count": 19,
   "outputs": [
    {
     "data": {
      "text/plain": "date_time\n2012-10-02 09:00:00    5545\n2012-10-02 10:00:00    4516\n2012-10-02 11:00:00    4767\n2012-10-02 12:00:00    5026\n2012-10-02 13:00:00    4918\n                       ... \n2017-05-17 21:00:00    2348\n2017-05-17 22:00:00    2194\n2017-05-17 22:00:00    2194\n2017-05-17 23:00:00    1328\n2017-05-17 23:00:00    1328\nName: traffic_volume, Length: 33750, dtype: int64"
     },
     "execution_count": 19,
     "metadata": {},
     "output_type": "execute_result"
    }
   ],
   "source": [
    "df_target = df_processed['traffic_volume']\n",
    "\n",
    "df_target"
   ],
   "metadata": {
    "collapsed": false,
    "ExecuteTime": {
     "end_time": "2023-11-26T12:38:21.692852500Z",
     "start_time": "2023-11-26T12:38:21.640854400Z"
    }
   },
   "id": "10b31a24dd85afa4"
  },
  {
   "cell_type": "code",
   "execution_count": 20,
   "outputs": [
    {
     "name": "stdout",
     "output_type": "stream",
     "text": [
      "<class 'pandas.core.frame.DataFrame'>\n",
      "DatetimeIndex: 33750 entries, 2012-10-02 09:00:00 to 2017-05-17 23:00:00\n",
      "Data columns (total 72 columns):\n",
      " #   Column                               Non-Null Count  Dtype  \n",
      "---  ------                               --------------  -----  \n",
      " 0   air_pollution_index                  33750 non-null  int64  \n",
      " 1   humidity                             33750 non-null  int64  \n",
      " 2   wind_speed                           33750 non-null  int64  \n",
      " 3   wind_direction                       33750 non-null  int64  \n",
      " 4   visibility_in_miles                  33750 non-null  int64  \n",
      " 5   dew_point                            33750 non-null  int64  \n",
      " 6   temperature                          33750 non-null  float64\n",
      " 7   rain_p_h                             33750 non-null  float64\n",
      " 8   snow_p_h                             33750 non-null  float64\n",
      " 9   clouds_all                           33750 non-null  int64  \n",
      " 10  Christmas Day                        33750 non-null  uint8  \n",
      " 11  Columbus Day                         33750 non-null  uint8  \n",
      " 12  Independence Day                     33750 non-null  uint8  \n",
      " 13  Labor Day                            33750 non-null  uint8  \n",
      " 14  Martin Luther King Jr Day            33750 non-null  uint8  \n",
      " 15  Memorial Day                         33750 non-null  uint8  \n",
      " 16  New Years Day                        33750 non-null  uint8  \n",
      " 17  None                                 33750 non-null  uint8  \n",
      " 18  State Fair                           33750 non-null  uint8  \n",
      " 19  Thanksgiving Day                     33750 non-null  uint8  \n",
      " 20  Veterans Day                         33750 non-null  uint8  \n",
      " 21  Washingtons Birthday                 33750 non-null  uint8  \n",
      " 22  Clear                                33750 non-null  uint8  \n",
      " 23  Clouds                               33750 non-null  uint8  \n",
      " 24  Drizzle                              33750 non-null  uint8  \n",
      " 25  Fog                                  33750 non-null  uint8  \n",
      " 26  Haze                                 33750 non-null  uint8  \n",
      " 27  Mist                                 33750 non-null  uint8  \n",
      " 28  Rain                                 33750 non-null  uint8  \n",
      " 29  Smoke                                33750 non-null  uint8  \n",
      " 30  Snow                                 33750 non-null  uint8  \n",
      " 31  Squall                               33750 non-null  uint8  \n",
      " 32  Thunderstorm                         33750 non-null  uint8  \n",
      " 33  SQUALLS                              33750 non-null  uint8  \n",
      " 34  Sky is Clear                         33750 non-null  uint8  \n",
      " 35  broken clouds                        33750 non-null  uint8  \n",
      " 36  drizzle                              33750 non-null  uint8  \n",
      " 37  few clouds                           33750 non-null  uint8  \n",
      " 38  fog                                  33750 non-null  uint8  \n",
      " 39  freezing rain                        33750 non-null  uint8  \n",
      " 40  haze                                 33750 non-null  uint8  \n",
      " 41  heavy intensity drizzle              33750 non-null  uint8  \n",
      " 42  heavy intensity rain                 33750 non-null  uint8  \n",
      " 43  heavy snow                           33750 non-null  uint8  \n",
      " 44  light intensity drizzle              33750 non-null  uint8  \n",
      " 45  light intensity shower rain          33750 non-null  uint8  \n",
      " 46  light rain                           33750 non-null  uint8  \n",
      " 47  light rain and snow                  33750 non-null  uint8  \n",
      " 48  light shower snow                    33750 non-null  uint8  \n",
      " 49  light snow                           33750 non-null  uint8  \n",
      " 50  mist                                 33750 non-null  uint8  \n",
      " 51  moderate rain                        33750 non-null  uint8  \n",
      " 52  overcast clouds                      33750 non-null  uint8  \n",
      " 53  proximity shower rain                33750 non-null  uint8  \n",
      " 54  proximity thunderstorm               33750 non-null  uint8  \n",
      " 55  proximity thunderstorm with drizzle  33750 non-null  uint8  \n",
      " 56  proximity thunderstorm with rain     33750 non-null  uint8  \n",
      " 57  scattered clouds                     33750 non-null  uint8  \n",
      " 58  shower drizzle                       33750 non-null  uint8  \n",
      " 59  shower snow                          33750 non-null  uint8  \n",
      " 60  sky is clear                         33750 non-null  uint8  \n",
      " 61  sleet                                33750 non-null  uint8  \n",
      " 62  smoke                                33750 non-null  uint8  \n",
      " 63  snow                                 33750 non-null  uint8  \n",
      " 64  thunderstorm                         33750 non-null  uint8  \n",
      " 65  thunderstorm with drizzle            33750 non-null  uint8  \n",
      " 66  thunderstorm with heavy rain         33750 non-null  uint8  \n",
      " 67  thunderstorm with light drizzle      33750 non-null  uint8  \n",
      " 68  thunderstorm with light rain         33750 non-null  uint8  \n",
      " 69  thunderstorm with rain               33750 non-null  uint8  \n",
      " 70  very heavy rain                      33750 non-null  uint8  \n",
      " 71  traffic_volume                       33750 non-null  int64  \n",
      "dtypes: float64(3), int64(8), uint8(61)\n",
      "memory usage: 5.1 MB\n"
     ]
    }
   ],
   "source": [
    "df_processed.drop(columns=['traffic_volume'], inplace=True)\n",
    "\n",
    "df_processed['traffic_volume'] = df_target\n",
    "\n",
    "df_processed.info()"
   ],
   "metadata": {
    "collapsed": false,
    "ExecuteTime": {
     "end_time": "2023-11-26T12:38:53.330409200Z",
     "start_time": "2023-11-26T12:38:53.241384600Z"
    }
   },
   "id": "692492bc1697f35b"
  },
  {
   "cell_type": "code",
   "execution_count": 22,
   "outputs": [
    {
     "data": {
      "text/plain": "array([[-0.40415257,  1.05572004, -0.67040489, ..., -0.0261141 ,\n        -0.02310017,  1.15738423],\n       [ 0.27657226, -0.2497631 , -0.18396715, ..., -0.0261141 ,\n        -0.02310017,  0.64067732],\n       [-0.4996929 , -0.30910324, -0.18396715, ..., -0.0261141 ,\n        -0.02310017,  0.76671564],\n       ...,\n       [-0.20112938, -0.07174267, -1.15684263, ..., -0.0261141 ,\n        -0.02310017, -0.52530271],\n       [ 0.88564185, -0.30910324, -1.15684263, ..., -0.0261141 ,\n        -0.02310017, -0.96016003],\n       [-0.17724429, -0.48712367, -1.15684263, ..., -0.0261141 ,\n        -0.02310017, -0.96016003]])"
     },
     "execution_count": 22,
     "metadata": {},
     "output_type": "execute_result"
    }
   ],
   "source": [
    "scaler = StandardScaler()\n",
    "scaler = scaler.fit(df_processed)\n",
    "df_processed_scaled = scaler.transform(df_processed)\n",
    "\n",
    "df_processed_scaled"
   ],
   "metadata": {
    "collapsed": false,
    "ExecuteTime": {
     "end_time": "2023-11-26T12:39:14.296602300Z",
     "start_time": "2023-11-26T12:39:14.187604700Z"
    }
   },
   "id": "8a96285a96d91c6b"
  },
  {
   "cell_type": "code",
   "execution_count": null,
   "outputs": [],
   "source": [],
   "metadata": {
    "collapsed": false
   },
   "id": "8cbaf5ce643fb2d"
  }
 ],
 "metadata": {
  "kernelspec": {
   "display_name": "Python 3",
   "language": "python",
   "name": "python3"
  },
  "language_info": {
   "codemirror_mode": {
    "name": "ipython",
    "version": 2
   },
   "file_extension": ".py",
   "mimetype": "text/x-python",
   "name": "python",
   "nbconvert_exporter": "python",
   "pygments_lexer": "ipython2",
   "version": "2.7.6"
  }
 },
 "nbformat": 4,
 "nbformat_minor": 5
}
