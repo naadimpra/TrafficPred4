{
 "cells": [
  {
   "cell_type": "code",
   "execution_count": 4,
   "outputs": [
    {
     "ename": "ValueError",
     "evalue": "cannot insert date_time, already exists",
     "output_type": "error",
     "traceback": [
      "\u001B[1;31m---------------------------------------------------------------------------\u001B[0m",
      "\u001B[1;31mValueError\u001B[0m                                Traceback (most recent call last)",
      "\u001B[1;32m~\\AppData\\Local\\Temp\\ipykernel_40620\\1039354241.py\u001B[0m in \u001B[0;36m?\u001B[1;34m()\u001B[0m\n\u001B[1;32m---> 28\u001B[1;33m \u001B[1;32mimport\u001B[0m \u001B[0mpandas\u001B[0m \u001B[1;32mas\u001B[0m \u001B[0mpd\u001B[0m\u001B[1;33m\u001B[0m\u001B[1;33m\u001B[0m\u001B[0m\n\u001B[0m\u001B[0;32m     29\u001B[0m \u001B[1;32mimport\u001B[0m \u001B[0mnumpy\u001B[0m \u001B[1;32mas\u001B[0m \u001B[0mnp\u001B[0m\u001B[1;33m\u001B[0m\u001B[1;33m\u001B[0m\u001B[0m\n\u001B[0;32m     30\u001B[0m \u001B[1;32mfrom\u001B[0m \u001B[0mstatsmodels\u001B[0m\u001B[1;33m.\u001B[0m\u001B[0mtsa\u001B[0m\u001B[1;33m.\u001B[0m\u001B[0mstatespace\u001B[0m\u001B[1;33m.\u001B[0m\u001B[0msarimax\u001B[0m \u001B[1;32mimport\u001B[0m \u001B[0mSARIMAX\u001B[0m\u001B[1;33m\u001B[0m\u001B[1;33m\u001B[0m\u001B[0m\n\u001B[0;32m     31\u001B[0m \u001B[1;32mfrom\u001B[0m \u001B[0msklearn\u001B[0m\u001B[1;33m.\u001B[0m\u001B[0mmetrics\u001B[0m \u001B[1;32mimport\u001B[0m \u001B[0mmean_squared_error\u001B[0m\u001B[1;33m,\u001B[0m \u001B[0mmean_absolute_error\u001B[0m\u001B[1;33m\u001B[0m\u001B[1;33m\u001B[0m\u001B[0m\n",
      "\u001B[1;32m~\\PycharmProjects\\pythonProject1\\v392\\lib\\site-packages\\pandas\\util\\_decorators.py\u001B[0m in \u001B[0;36m?\u001B[1;34m(*args, **kwargs)\u001B[0m\n\u001B[0;32m    327\u001B[0m                     \u001B[0mmsg\u001B[0m\u001B[1;33m.\u001B[0m\u001B[0mformat\u001B[0m\u001B[1;33m(\u001B[0m\u001B[0marguments\u001B[0m\u001B[1;33m=\u001B[0m\u001B[0m_format_argument_list\u001B[0m\u001B[1;33m(\u001B[0m\u001B[0mallow_args\u001B[0m\u001B[1;33m)\u001B[0m\u001B[1;33m)\u001B[0m\u001B[1;33m,\u001B[0m\u001B[1;33m\u001B[0m\u001B[1;33m\u001B[0m\u001B[0m\n\u001B[0;32m    328\u001B[0m                     \u001B[0mFutureWarning\u001B[0m\u001B[1;33m,\u001B[0m\u001B[1;33m\u001B[0m\u001B[1;33m\u001B[0m\u001B[0m\n\u001B[0;32m    329\u001B[0m                     \u001B[0mstacklevel\u001B[0m\u001B[1;33m=\u001B[0m\u001B[0mfind_stack_level\u001B[0m\u001B[1;33m(\u001B[0m\u001B[1;33m)\u001B[0m\u001B[1;33m,\u001B[0m\u001B[1;33m\u001B[0m\u001B[1;33m\u001B[0m\u001B[0m\n\u001B[0;32m    330\u001B[0m                 )\n\u001B[1;32m--> 331\u001B[1;33m             \u001B[1;32mreturn\u001B[0m \u001B[0mfunc\u001B[0m\u001B[1;33m(\u001B[0m\u001B[1;33m*\u001B[0m\u001B[0margs\u001B[0m\u001B[1;33m,\u001B[0m \u001B[1;33m**\u001B[0m\u001B[0mkwargs\u001B[0m\u001B[1;33m)\u001B[0m\u001B[1;33m\u001B[0m\u001B[1;33m\u001B[0m\u001B[0m\n\u001B[0m",
      "\u001B[1;32m~\\PycharmProjects\\pythonProject1\\v392\\lib\\site-packages\\pandas\\core\\frame.py\u001B[0m in \u001B[0;36m?\u001B[1;34m(self, level, drop, inplace, col_level, col_fill, allow_duplicates, names)\u001B[0m\n\u001B[0;32m   6357\u001B[0m                     level_values = algorithms.take(\n\u001B[0;32m   6358\u001B[0m                         \u001B[0mlevel_values\u001B[0m\u001B[1;33m,\u001B[0m \u001B[0mlab\u001B[0m\u001B[1;33m,\u001B[0m \u001B[0mallow_fill\u001B[0m\u001B[1;33m=\u001B[0m\u001B[1;32mTrue\u001B[0m\u001B[1;33m,\u001B[0m \u001B[0mfill_value\u001B[0m\u001B[1;33m=\u001B[0m\u001B[0mlev\u001B[0m\u001B[1;33m.\u001B[0m\u001B[0m_na_value\u001B[0m\u001B[1;33m\u001B[0m\u001B[1;33m\u001B[0m\u001B[0m\n\u001B[0;32m   6359\u001B[0m                     )\n\u001B[0;32m   6360\u001B[0m \u001B[1;33m\u001B[0m\u001B[0m\n\u001B[1;32m-> 6361\u001B[1;33m                 new_obj.insert(\n\u001B[0m\u001B[0;32m   6362\u001B[0m                     \u001B[1;36m0\u001B[0m\u001B[1;33m,\u001B[0m\u001B[1;33m\u001B[0m\u001B[1;33m\u001B[0m\u001B[0m\n\u001B[0;32m   6363\u001B[0m                     \u001B[0mname\u001B[0m\u001B[1;33m,\u001B[0m\u001B[1;33m\u001B[0m\u001B[1;33m\u001B[0m\u001B[0m\n\u001B[0;32m   6364\u001B[0m                     \u001B[0mlevel_values\u001B[0m\u001B[1;33m,\u001B[0m\u001B[1;33m\u001B[0m\u001B[1;33m\u001B[0m\u001B[0m\n",
      "\u001B[1;32m~\\PycharmProjects\\pythonProject1\\v392\\lib\\site-packages\\pandas\\core\\frame.py\u001B[0m in \u001B[0;36m?\u001B[1;34m(self, loc, column, value, allow_duplicates)\u001B[0m\n\u001B[0;32m   4813\u001B[0m                 \u001B[1;34m\"'self.flags.allows_duplicate_labels' is False.\"\u001B[0m\u001B[1;33m\u001B[0m\u001B[1;33m\u001B[0m\u001B[0m\n\u001B[0;32m   4814\u001B[0m             )\n\u001B[0;32m   4815\u001B[0m         \u001B[1;32mif\u001B[0m \u001B[1;32mnot\u001B[0m \u001B[0mallow_duplicates\u001B[0m \u001B[1;32mand\u001B[0m \u001B[0mcolumn\u001B[0m \u001B[1;32min\u001B[0m \u001B[0mself\u001B[0m\u001B[1;33m.\u001B[0m\u001B[0mcolumns\u001B[0m\u001B[1;33m:\u001B[0m\u001B[1;33m\u001B[0m\u001B[1;33m\u001B[0m\u001B[0m\n\u001B[0;32m   4816\u001B[0m             \u001B[1;31m# Should this be a different kind of error??\u001B[0m\u001B[1;33m\u001B[0m\u001B[1;33m\u001B[0m\u001B[1;33m\u001B[0m\u001B[0m\n\u001B[1;32m-> 4817\u001B[1;33m             \u001B[1;32mraise\u001B[0m \u001B[0mValueError\u001B[0m\u001B[1;33m(\u001B[0m\u001B[1;34mf\"cannot insert {column}, already exists\"\u001B[0m\u001B[1;33m)\u001B[0m\u001B[1;33m\u001B[0m\u001B[1;33m\u001B[0m\u001B[0m\n\u001B[0m\u001B[0;32m   4818\u001B[0m         \u001B[1;32mif\u001B[0m \u001B[1;32mnot\u001B[0m \u001B[0misinstance\u001B[0m\u001B[1;33m(\u001B[0m\u001B[0mloc\u001B[0m\u001B[1;33m,\u001B[0m \u001B[0mint\u001B[0m\u001B[1;33m)\u001B[0m\u001B[1;33m:\u001B[0m\u001B[1;33m\u001B[0m\u001B[1;33m\u001B[0m\u001B[0m\n\u001B[0;32m   4819\u001B[0m             \u001B[1;32mraise\u001B[0m \u001B[0mTypeError\u001B[0m\u001B[1;33m(\u001B[0m\u001B[1;34m\"loc must be int\"\u001B[0m\u001B[1;33m)\u001B[0m\u001B[1;33m\u001B[0m\u001B[1;33m\u001B[0m\u001B[0m\n\u001B[0;32m   4820\u001B[0m \u001B[1;33m\u001B[0m\u001B[0m\n",
      "\u001B[1;31mValueError\u001B[0m: cannot insert date_time, already exists"
     ]
    }
   ],
   "source": [
    "import pandas as pd\n",
    "import numpy as np\n",
    "from statsmodels.tsa.statespace.sarimax import SARIMAX\n",
    "from sklearn.metrics import mean_squared_error, mean_absolute_error\n",
    "import matplotlib.pyplot as plt\n",
    "import joblib\n",
    "\n",
    "# Define custom scorer for MAPE\n",
    "def mape_scorer(y_true, y_pred):\n",
    "    y_true, y_pred = np.array(y_true), np.array(y_pred)\n",
    "    non_zero_mask = y_true != 0\n",
    "    return np.mean(np.abs((y_true[non_zero_mask] - y_pred[non_zero_mask]) / y_true[non_zero_mask])) * 100\n",
    "\n",
    "# Load the dataset\n",
    "df_raw = pd.read_csv('../Train.csv')\n",
    "\n",
    "# Convert the 'date_time' column to datetime and sort the dataset\n",
    "df_raw['date_time'] = pd.to_datetime(df_raw['date_time'])\n",
    "df_raw.sort_values('date_time', inplace=True)\n",
    "\n",
    "# Extracting non-numeric columns\n",
    "non_numeric_cols = ['is_holiday', 'weather_type', 'weather_description']\n",
    "\n",
    "# Group by 'date_time' and aggregate: mean for numeric columns, mode for non-numeric columns\n",
    "agg_funcs = {col: 'mean' for col in df_raw.columns if col not in non_numeric_cols}\n",
    "agg_funcs.update({col: lambda x: x.mode()[0] if not x.mode().empty else np.nan for col in non_numeric_cols})\n",
    "\n",
    "df_aggregated = df_raw.groupby('date_time').agg(agg_funcs).reset_index()\n",
    "\n",
    "# One-hot encode categorical features\n",
    "df = pd.get_dummies(df_aggregated, columns=non_numeric_cols, drop_first=True)"
   ],
   "metadata": {
    "collapsed": false,
    "ExecuteTime": {
     "end_time": "2023-12-30T01:42:29.753656Z",
     "start_time": "2023-12-30T01:42:14.076670400Z"
    }
   },
   "id": "9fed7af40639b60f"
  },
  {
   "cell_type": "code",
   "execution_count": 3,
   "outputs": [
    {
     "ename": "ValueError",
     "evalue": "cannot insert date_time, already exists",
     "output_type": "error",
     "traceback": [
      "\u001B[1;31m---------------------------------------------------------------------------\u001B[0m",
      "\u001B[1;31mValueError\u001B[0m                                Traceback (most recent call last)",
      "\u001B[1;32m~\\AppData\\Local\\Temp\\ipykernel_40620\\1511711589.py\u001B[0m in \u001B[0;36m?\u001B[1;34m()\u001B[0m\n\u001B[1;32m---> 27\u001B[1;33m \u001B[1;32mimport\u001B[0m \u001B[0mpandas\u001B[0m \u001B[1;32mas\u001B[0m \u001B[0mpd\u001B[0m\u001B[1;33m\u001B[0m\u001B[1;33m\u001B[0m\u001B[0m\n\u001B[0m\u001B[0;32m     28\u001B[0m \u001B[1;32mimport\u001B[0m \u001B[0mnumpy\u001B[0m \u001B[1;32mas\u001B[0m \u001B[0mnp\u001B[0m\u001B[1;33m\u001B[0m\u001B[1;33m\u001B[0m\u001B[0m\n\u001B[0;32m     29\u001B[0m \u001B[1;32mfrom\u001B[0m \u001B[0mstatsmodels\u001B[0m\u001B[1;33m.\u001B[0m\u001B[0mtsa\u001B[0m\u001B[1;33m.\u001B[0m\u001B[0mstatespace\u001B[0m\u001B[1;33m.\u001B[0m\u001B[0msarimax\u001B[0m \u001B[1;32mimport\u001B[0m \u001B[0mSARIMAX\u001B[0m\u001B[1;33m\u001B[0m\u001B[1;33m\u001B[0m\u001B[0m\n\u001B[0;32m     30\u001B[0m \u001B[1;32mfrom\u001B[0m \u001B[0msklearn\u001B[0m\u001B[1;33m.\u001B[0m\u001B[0mmetrics\u001B[0m \u001B[1;32mimport\u001B[0m \u001B[0mmean_squared_error\u001B[0m\u001B[1;33m,\u001B[0m \u001B[0mmean_absolute_error\u001B[0m\u001B[1;33m\u001B[0m\u001B[1;33m\u001B[0m\u001B[0m\n",
      "\u001B[1;32m~\\PycharmProjects\\pythonProject1\\v392\\lib\\site-packages\\pandas\\util\\_decorators.py\u001B[0m in \u001B[0;36m?\u001B[1;34m(*args, **kwargs)\u001B[0m\n\u001B[0;32m    327\u001B[0m                     \u001B[0mmsg\u001B[0m\u001B[1;33m.\u001B[0m\u001B[0mformat\u001B[0m\u001B[1;33m(\u001B[0m\u001B[0marguments\u001B[0m\u001B[1;33m=\u001B[0m\u001B[0m_format_argument_list\u001B[0m\u001B[1;33m(\u001B[0m\u001B[0mallow_args\u001B[0m\u001B[1;33m)\u001B[0m\u001B[1;33m)\u001B[0m\u001B[1;33m,\u001B[0m\u001B[1;33m\u001B[0m\u001B[1;33m\u001B[0m\u001B[0m\n\u001B[0;32m    328\u001B[0m                     \u001B[0mFutureWarning\u001B[0m\u001B[1;33m,\u001B[0m\u001B[1;33m\u001B[0m\u001B[1;33m\u001B[0m\u001B[0m\n\u001B[0;32m    329\u001B[0m                     \u001B[0mstacklevel\u001B[0m\u001B[1;33m=\u001B[0m\u001B[0mfind_stack_level\u001B[0m\u001B[1;33m(\u001B[0m\u001B[1;33m)\u001B[0m\u001B[1;33m,\u001B[0m\u001B[1;33m\u001B[0m\u001B[1;33m\u001B[0m\u001B[0m\n\u001B[0;32m    330\u001B[0m                 )\n\u001B[1;32m--> 331\u001B[1;33m             \u001B[1;32mreturn\u001B[0m \u001B[0mfunc\u001B[0m\u001B[1;33m(\u001B[0m\u001B[1;33m*\u001B[0m\u001B[0margs\u001B[0m\u001B[1;33m,\u001B[0m \u001B[1;33m**\u001B[0m\u001B[0mkwargs\u001B[0m\u001B[1;33m)\u001B[0m\u001B[1;33m\u001B[0m\u001B[1;33m\u001B[0m\u001B[0m\n\u001B[0m",
      "\u001B[1;32m~\\PycharmProjects\\pythonProject1\\v392\\lib\\site-packages\\pandas\\core\\frame.py\u001B[0m in \u001B[0;36m?\u001B[1;34m(self, level, drop, inplace, col_level, col_fill, allow_duplicates, names)\u001B[0m\n\u001B[0;32m   6357\u001B[0m                     level_values = algorithms.take(\n\u001B[0;32m   6358\u001B[0m                         \u001B[0mlevel_values\u001B[0m\u001B[1;33m,\u001B[0m \u001B[0mlab\u001B[0m\u001B[1;33m,\u001B[0m \u001B[0mallow_fill\u001B[0m\u001B[1;33m=\u001B[0m\u001B[1;32mTrue\u001B[0m\u001B[1;33m,\u001B[0m \u001B[0mfill_value\u001B[0m\u001B[1;33m=\u001B[0m\u001B[0mlev\u001B[0m\u001B[1;33m.\u001B[0m\u001B[0m_na_value\u001B[0m\u001B[1;33m\u001B[0m\u001B[1;33m\u001B[0m\u001B[0m\n\u001B[0;32m   6359\u001B[0m                     )\n\u001B[0;32m   6360\u001B[0m \u001B[1;33m\u001B[0m\u001B[0m\n\u001B[1;32m-> 6361\u001B[1;33m                 new_obj.insert(\n\u001B[0m\u001B[0;32m   6362\u001B[0m                     \u001B[1;36m0\u001B[0m\u001B[1;33m,\u001B[0m\u001B[1;33m\u001B[0m\u001B[1;33m\u001B[0m\u001B[0m\n\u001B[0;32m   6363\u001B[0m                     \u001B[0mname\u001B[0m\u001B[1;33m,\u001B[0m\u001B[1;33m\u001B[0m\u001B[1;33m\u001B[0m\u001B[0m\n\u001B[0;32m   6364\u001B[0m                     \u001B[0mlevel_values\u001B[0m\u001B[1;33m,\u001B[0m\u001B[1;33m\u001B[0m\u001B[1;33m\u001B[0m\u001B[0m\n",
      "\u001B[1;32m~\\PycharmProjects\\pythonProject1\\v392\\lib\\site-packages\\pandas\\core\\frame.py\u001B[0m in \u001B[0;36m?\u001B[1;34m(self, loc, column, value, allow_duplicates)\u001B[0m\n\u001B[0;32m   4813\u001B[0m                 \u001B[1;34m\"'self.flags.allows_duplicate_labels' is False.\"\u001B[0m\u001B[1;33m\u001B[0m\u001B[1;33m\u001B[0m\u001B[0m\n\u001B[0;32m   4814\u001B[0m             )\n\u001B[0;32m   4815\u001B[0m         \u001B[1;32mif\u001B[0m \u001B[1;32mnot\u001B[0m \u001B[0mallow_duplicates\u001B[0m \u001B[1;32mand\u001B[0m \u001B[0mcolumn\u001B[0m \u001B[1;32min\u001B[0m \u001B[0mself\u001B[0m\u001B[1;33m.\u001B[0m\u001B[0mcolumns\u001B[0m\u001B[1;33m:\u001B[0m\u001B[1;33m\u001B[0m\u001B[1;33m\u001B[0m\u001B[0m\n\u001B[0;32m   4816\u001B[0m             \u001B[1;31m# Should this be a different kind of error??\u001B[0m\u001B[1;33m\u001B[0m\u001B[1;33m\u001B[0m\u001B[1;33m\u001B[0m\u001B[0m\n\u001B[1;32m-> 4817\u001B[1;33m             \u001B[1;32mraise\u001B[0m \u001B[0mValueError\u001B[0m\u001B[1;33m(\u001B[0m\u001B[1;34mf\"cannot insert {column}, already exists\"\u001B[0m\u001B[1;33m)\u001B[0m\u001B[1;33m\u001B[0m\u001B[1;33m\u001B[0m\u001B[0m\n\u001B[0m\u001B[0;32m   4818\u001B[0m         \u001B[1;32mif\u001B[0m \u001B[1;32mnot\u001B[0m \u001B[0misinstance\u001B[0m\u001B[1;33m(\u001B[0m\u001B[0mloc\u001B[0m\u001B[1;33m,\u001B[0m \u001B[0mint\u001B[0m\u001B[1;33m)\u001B[0m\u001B[1;33m:\u001B[0m\u001B[1;33m\u001B[0m\u001B[1;33m\u001B[0m\u001B[0m\n\u001B[0;32m   4819\u001B[0m             \u001B[1;32mraise\u001B[0m \u001B[0mTypeError\u001B[0m\u001B[1;33m(\u001B[0m\u001B[1;34m\"loc must be int\"\u001B[0m\u001B[1;33m)\u001B[0m\u001B[1;33m\u001B[0m\u001B[1;33m\u001B[0m\u001B[0m\n\u001B[0;32m   4820\u001B[0m \u001B[1;33m\u001B[0m\u001B[0m\n",
      "\u001B[1;31mValueError\u001B[0m: cannot insert date_time, already exists"
     ]
    }
   ],
   "source": [
    "\n",
    "\n",
    "# Add hour from the 'date_time' column\n",
    "df['hour'] = df.index.hour\n",
    "\n",
    "# Remove rows with NaN values resulting from lagged features\n",
    "df.dropna(inplace=True)\n",
    "\n",
    "# Split the dataset into features and the target\n",
    "X = df.drop('traffic_volume', axis=1)\n",
    "y = df['traffic_volume']\n",
    "\n",
    "# Split the data into train and test sets\n",
    "total_samples = df.shape[0]\n",
    "split_index = int(total_samples * 0.9)\n",
    "\n",
    "X_train = X.iloc[:split_index]\n",
    "y_train = y.iloc[:split_index]\n",
    "X_test = X.iloc[split_index:]\n",
    "y_test = y.iloc[split_index:]\n",
    "\n",
    "# Fit the SARIMAX model\n",
    "model = SARIMAX(y_train, exog=X_train, order=(3, 1, 1), seasonal_order=(1, 1, 1, 12))\n",
    "results = model.fit(disp=False)\n",
    "\n",
    "# Save the trained SARIMAX model\n",
    "joblib.dump(results, 'sarimax_model.joblib')\n",
    "\n",
    "# Make predictions on the validation set\n",
    "predictions_sarimax = results.get_forecast(steps=len(X_test), exog=X_test)\n",
    "predicted_traffic_volume_sarimax = predictions_sarimax.predicted_mean\n",
    "\n",
    "# Evaluate metrics on the training set for SARIMAX\n",
    "train_metrics_sarimax = {\n",
    "    'RMSE': np.sqrt(mean_squared_error(y_train, results.fittedvalues)),\n",
    "    'MSE': mean_squared_error(y_train, results.fittedvalues),\n",
    "    'MAE': mean_absolute_error(y_train, results.fittedvalues),\n",
    "    'MAPE': mape_scorer(y_train, results.fittedvalues)\n",
    "}\n",
    "\n",
    "# Evaluate metrics on the validation set for SARIMAX\n",
    "val_metrics_sarimax = {\n",
    "    'RMSE': np.sqrt(mean_squared_error(y_test, predicted_traffic_volume_sarimax)),\n",
    "    'MSE': mean_squared_error(y_test, predicted_traffic_volume_sarimax),\n",
    "    'MAE': mean_absolute_error(y_test, predicted_traffic_volume_sarimax),\n",
    "    'MAPE': mape_scorer(y_test, predicted_traffic_volume_sarimax)\n",
    "}\n",
    "\n",
    "# Print and compare metrics for SARIMAX\n",
    "print(\"Training Set Metrics (SARIMAX):\")\n",
    "print(train_metrics_sarimax)\n",
    "\n",
    "print(\"\\nValidation Set Metrics (SARIMAX):\")\n",
    "print(val_metrics_sarimax)\n",
    "\n",
    "# Visualization\n",
    "plt.figure(figsize=(12, 6))\n",
    "plt.plot(y_train.index, y_train, label='Train')\n",
    "plt.plot(y_test.index, y_test, label='Test')\n",
    "plt.plot(y_test.index, predicted_traffic_volume_sarimax, label='SARIMAX Forecast', linestyle='--')\n",
    "plt.legend()\n",
    "plt.title('SARIMAX Forecast vs Actuals')\n",
    "plt.show()\n"
   ],
   "metadata": {
    "collapsed": false,
    "ExecuteTime": {
     "end_time": "2023-12-30T01:41:39.123457300Z",
     "start_time": "2023-12-30T01:41:23.092865200Z"
    }
   },
   "id": "4bacbbaf95cb23a2"
  },
  {
   "cell_type": "code",
   "execution_count": null,
   "outputs": [],
   "source": [
    "# Make predictions on the first 7 days of unseen data\n",
    "forecast_unseen = results.get_forecast(steps=7*24, exog=X_test.iloc[:7*24])\n",
    "predicted_traffic_volume_unseen = forecast_unseen.predicted_mean\n",
    "\n",
    "# Visualization\n",
    "plt.figure(figsize=(12, 6))\n",
    "plt.plot(y_test.index[:7*24], y_test[:7*24], label='Actual Unseen')\n",
    "plt.plot(y_test.index[:7*24], predicted_traffic_volume_unseen, label='Forecast', linestyle='--')\n",
    "plt.legend()\n",
    "plt.title('Multivariate SARIMAX Forecast vs Actuals for the First 7 Days of Unseen Data')\n",
    "plt.xlabel('Date')\n",
    "plt.ylabel('Traffic Volume')\n",
    "plt.xticks(rotation=45)\n",
    "plt.tight_layout()\n",
    "plt.show()\n"
   ],
   "metadata": {
    "collapsed": false,
    "ExecuteTime": {
     "end_time": "2023-12-30T01:41:39.130981900Z",
     "start_time": "2023-12-30T01:41:39.124455100Z"
    }
   },
   "id": "516a03da93a45905"
  },
  {
   "cell_type": "code",
   "execution_count": null,
   "outputs": [],
   "source": [],
   "metadata": {
    "collapsed": false,
    "ExecuteTime": {
     "end_time": "2023-12-30T01:40:19.937118100Z",
     "start_time": "2023-12-30T01:40:19.936106Z"
    }
   },
   "id": "a6e100206266694e"
  }
 ],
 "metadata": {
  "kernelspec": {
   "display_name": "Python 3",
   "language": "python",
   "name": "python3"
  },
  "language_info": {
   "codemirror_mode": {
    "name": "ipython",
    "version": 2
   },
   "file_extension": ".py",
   "mimetype": "text/x-python",
   "name": "python",
   "nbconvert_exporter": "python",
   "pygments_lexer": "ipython2",
   "version": "2.7.6"
  }
 },
 "nbformat": 4,
 "nbformat_minor": 5
}
