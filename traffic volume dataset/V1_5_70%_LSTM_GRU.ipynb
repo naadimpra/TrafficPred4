{
 "cells": [
  {
   "cell_type": "code",
   "execution_count": 1,
   "metadata": {
    "collapsed": true,
    "ExecuteTime": {
     "end_time": "2023-08-25T01:29:52.685657800Z",
     "start_time": "2023-08-25T01:29:48.974855400Z"
    }
   },
   "outputs": [],
   "source": [
    "import numpy as np\n",
    "from tensorflow.keras.models import Sequential\n",
    "from tensorflow.keras.layers import GRU\n",
    "from tensorflow.keras.layers import Dense, Dropout\n",
    "import pandas as pd\n",
    "from matplotlib import pyplot as plt\n",
    "from sklearn.preprocessing import StandardScaler\n",
    "import seaborn as sns"
   ]
  },
  {
   "cell_type": "code",
   "execution_count": 2,
   "outputs": [],
   "source": [
    "df_raw = pd.read_csv('Train.csv')"
   ],
   "metadata": {
    "collapsed": false,
    "ExecuteTime": {
     "end_time": "2023-08-25T01:29:52.763772300Z",
     "start_time": "2023-08-25T01:29:52.691415900Z"
    }
   }
  },
  {
   "cell_type": "code",
   "execution_count": 3,
   "outputs": [
    {
     "data": {
      "text/plain": "             date_time is_holiday  air_pollution_index  humidity  wind_speed  \\\n0  2012-10-02 09:00:00       None                  121        89           2   \n1  2012-10-02 10:00:00       None                  178        67           3   \n2  2012-10-02 11:00:00       None                  113        66           3   \n3  2012-10-02 12:00:00       None                   20        66           3   \n4  2012-10-02 13:00:00       None                  281        65           3   \n\n   wind_direction  visibility_in_miles  dew_point  temperature  rain_p_h  \\\n0             329                    1          1       288.28       0.0   \n1             330                    1          1       289.36       0.0   \n2             329                    2          2       289.58       0.0   \n3             329                    5          5       290.13       0.0   \n4             329                    7          7       291.14       0.0   \n\n   snow_p_h  clouds_all weather_type weather_description  traffic_volume  \n0       0.0          40       Clouds    scattered clouds            5545  \n1       0.0          75       Clouds       broken clouds            4516  \n2       0.0          90       Clouds     overcast clouds            4767  \n3       0.0          90       Clouds     overcast clouds            5026  \n4       0.0          75       Clouds       broken clouds            4918  ",
      "text/html": "<div>\n<style scoped>\n    .dataframe tbody tr th:only-of-type {\n        vertical-align: middle;\n    }\n\n    .dataframe tbody tr th {\n        vertical-align: top;\n    }\n\n    .dataframe thead th {\n        text-align: right;\n    }\n</style>\n<table border=\"1\" class=\"dataframe\">\n  <thead>\n    <tr style=\"text-align: right;\">\n      <th></th>\n      <th>date_time</th>\n      <th>is_holiday</th>\n      <th>air_pollution_index</th>\n      <th>humidity</th>\n      <th>wind_speed</th>\n      <th>wind_direction</th>\n      <th>visibility_in_miles</th>\n      <th>dew_point</th>\n      <th>temperature</th>\n      <th>rain_p_h</th>\n      <th>snow_p_h</th>\n      <th>clouds_all</th>\n      <th>weather_type</th>\n      <th>weather_description</th>\n      <th>traffic_volume</th>\n    </tr>\n  </thead>\n  <tbody>\n    <tr>\n      <th>0</th>\n      <td>2012-10-02 09:00:00</td>\n      <td>None</td>\n      <td>121</td>\n      <td>89</td>\n      <td>2</td>\n      <td>329</td>\n      <td>1</td>\n      <td>1</td>\n      <td>288.28</td>\n      <td>0.0</td>\n      <td>0.0</td>\n      <td>40</td>\n      <td>Clouds</td>\n      <td>scattered clouds</td>\n      <td>5545</td>\n    </tr>\n    <tr>\n      <th>1</th>\n      <td>2012-10-02 10:00:00</td>\n      <td>None</td>\n      <td>178</td>\n      <td>67</td>\n      <td>3</td>\n      <td>330</td>\n      <td>1</td>\n      <td>1</td>\n      <td>289.36</td>\n      <td>0.0</td>\n      <td>0.0</td>\n      <td>75</td>\n      <td>Clouds</td>\n      <td>broken clouds</td>\n      <td>4516</td>\n    </tr>\n    <tr>\n      <th>2</th>\n      <td>2012-10-02 11:00:00</td>\n      <td>None</td>\n      <td>113</td>\n      <td>66</td>\n      <td>3</td>\n      <td>329</td>\n      <td>2</td>\n      <td>2</td>\n      <td>289.58</td>\n      <td>0.0</td>\n      <td>0.0</td>\n      <td>90</td>\n      <td>Clouds</td>\n      <td>overcast clouds</td>\n      <td>4767</td>\n    </tr>\n    <tr>\n      <th>3</th>\n      <td>2012-10-02 12:00:00</td>\n      <td>None</td>\n      <td>20</td>\n      <td>66</td>\n      <td>3</td>\n      <td>329</td>\n      <td>5</td>\n      <td>5</td>\n      <td>290.13</td>\n      <td>0.0</td>\n      <td>0.0</td>\n      <td>90</td>\n      <td>Clouds</td>\n      <td>overcast clouds</td>\n      <td>5026</td>\n    </tr>\n    <tr>\n      <th>4</th>\n      <td>2012-10-02 13:00:00</td>\n      <td>None</td>\n      <td>281</td>\n      <td>65</td>\n      <td>3</td>\n      <td>329</td>\n      <td>7</td>\n      <td>7</td>\n      <td>291.14</td>\n      <td>0.0</td>\n      <td>0.0</td>\n      <td>75</td>\n      <td>Clouds</td>\n      <td>broken clouds</td>\n      <td>4918</td>\n    </tr>\n  </tbody>\n</table>\n</div>"
     },
     "execution_count": 3,
     "metadata": {},
     "output_type": "execute_result"
    }
   ],
   "source": [
    "df_raw.head()"
   ],
   "metadata": {
    "collapsed": false,
    "ExecuteTime": {
     "end_time": "2023-08-25T01:29:52.823320600Z",
     "start_time": "2023-08-25T01:29:52.765741600Z"
    }
   }
  },
  {
   "cell_type": "code",
   "execution_count": 4,
   "outputs": [
    {
     "name": "stdout",
     "output_type": "stream",
     "text": [
      "<class 'pandas.core.frame.DataFrame'>\n",
      "RangeIndex: 33750 entries, 0 to 33749\n",
      "Data columns (total 15 columns):\n",
      " #   Column               Non-Null Count  Dtype  \n",
      "---  ------               --------------  -----  \n",
      " 0   date_time            33750 non-null  object \n",
      " 1   is_holiday           33750 non-null  object \n",
      " 2   air_pollution_index  33750 non-null  int64  \n",
      " 3   humidity             33750 non-null  int64  \n",
      " 4   wind_speed           33750 non-null  int64  \n",
      " 5   wind_direction       33750 non-null  int64  \n",
      " 6   visibility_in_miles  33750 non-null  int64  \n",
      " 7   dew_point            33750 non-null  int64  \n",
      " 8   temperature          33750 non-null  float64\n",
      " 9   rain_p_h             33750 non-null  float64\n",
      " 10  snow_p_h             33750 non-null  float64\n",
      " 11  clouds_all           33750 non-null  int64  \n",
      " 12  weather_type         33750 non-null  object \n",
      " 13  weather_description  33750 non-null  object \n",
      " 14  traffic_volume       33750 non-null  int64  \n",
      "dtypes: float64(3), int64(8), object(4)\n",
      "memory usage: 3.9+ MB\n"
     ]
    }
   ],
   "source": [
    "df_raw.info()"
   ],
   "metadata": {
    "collapsed": false,
    "ExecuteTime": {
     "end_time": "2023-08-25T01:29:52.931500600Z",
     "start_time": "2023-08-25T01:29:52.797795Z"
    }
   }
  },
  {
   "cell_type": "code",
   "execution_count": 5,
   "outputs": [
    {
     "data": {
      "text/plain": "12"
     },
     "execution_count": 5,
     "metadata": {},
     "output_type": "execute_result"
    }
   ],
   "source": [
    "df_raw['is_holiday'].nunique()"
   ],
   "metadata": {
    "collapsed": false,
    "ExecuteTime": {
     "end_time": "2023-08-25T01:29:53.024050900Z",
     "start_time": "2023-08-25T01:29:52.846320Z"
    }
   }
  },
  {
   "cell_type": "code",
   "execution_count": 6,
   "outputs": [
    {
     "data": {
      "text/plain": "38"
     },
     "execution_count": 6,
     "metadata": {},
     "output_type": "execute_result"
    }
   ],
   "source": [
    "df_raw['weather_description'].nunique()"
   ],
   "metadata": {
    "collapsed": false,
    "ExecuteTime": {
     "end_time": "2023-08-25T01:29:53.042053Z",
     "start_time": "2023-08-25T01:29:52.870355500Z"
    }
   }
  },
  {
   "cell_type": "code",
   "execution_count": 7,
   "outputs": [
    {
     "data": {
      "text/plain": "11"
     },
     "execution_count": 7,
     "metadata": {},
     "output_type": "execute_result"
    }
   ],
   "source": [
    "df_raw['weather_type'].nunique()"
   ],
   "metadata": {
    "collapsed": false,
    "ExecuteTime": {
     "end_time": "2023-08-25T01:29:53.043053700Z",
     "start_time": "2023-08-25T01:29:52.878341100Z"
    }
   }
  },
  {
   "cell_type": "code",
   "execution_count": 8,
   "outputs": [],
   "source": [
    "# Convert it to datetime format\n",
    "df_raw['date_time'] = pd.to_datetime(df_raw['date_time'])\n",
    "\n",
    "df_raw['hour'] = df_raw['date_time'].dt.hour\n",
    "\n",
    "# Set 'date_time' as the index\n",
    "df_raw.set_index('date_time', inplace=True)"
   ],
   "metadata": {
    "collapsed": false,
    "ExecuteTime": {
     "end_time": "2023-08-25T01:29:53.044056300Z",
     "start_time": "2023-08-25T01:29:52.890349Z"
    }
   }
  },
  {
   "cell_type": "code",
   "execution_count": 9,
   "outputs": [
    {
     "data": {
      "text/plain": "                    is_holiday  air_pollution_index  humidity  wind_speed  \\\ndate_time                                                                   \n2012-10-02 09:00:00       None                  121        89           2   \n2012-10-02 10:00:00       None                  178        67           3   \n2012-10-02 11:00:00       None                  113        66           3   \n2012-10-02 12:00:00       None                   20        66           3   \n2012-10-02 13:00:00       None                  281        65           3   \n\n                     wind_direction  visibility_in_miles  dew_point  \\\ndate_time                                                             \n2012-10-02 09:00:00             329                    1          1   \n2012-10-02 10:00:00             330                    1          1   \n2012-10-02 11:00:00             329                    2          2   \n2012-10-02 12:00:00             329                    5          5   \n2012-10-02 13:00:00             329                    7          7   \n\n                     temperature  rain_p_h  snow_p_h  clouds_all weather_type  \\\ndate_time                                                                       \n2012-10-02 09:00:00       288.28       0.0       0.0          40       Clouds   \n2012-10-02 10:00:00       289.36       0.0       0.0          75       Clouds   \n2012-10-02 11:00:00       289.58       0.0       0.0          90       Clouds   \n2012-10-02 12:00:00       290.13       0.0       0.0          90       Clouds   \n2012-10-02 13:00:00       291.14       0.0       0.0          75       Clouds   \n\n                    weather_description  traffic_volume  hour  \ndate_time                                                      \n2012-10-02 09:00:00    scattered clouds            5545     9  \n2012-10-02 10:00:00       broken clouds            4516    10  \n2012-10-02 11:00:00     overcast clouds            4767    11  \n2012-10-02 12:00:00     overcast clouds            5026    12  \n2012-10-02 13:00:00       broken clouds            4918    13  ",
      "text/html": "<div>\n<style scoped>\n    .dataframe tbody tr th:only-of-type {\n        vertical-align: middle;\n    }\n\n    .dataframe tbody tr th {\n        vertical-align: top;\n    }\n\n    .dataframe thead th {\n        text-align: right;\n    }\n</style>\n<table border=\"1\" class=\"dataframe\">\n  <thead>\n    <tr style=\"text-align: right;\">\n      <th></th>\n      <th>is_holiday</th>\n      <th>air_pollution_index</th>\n      <th>humidity</th>\n      <th>wind_speed</th>\n      <th>wind_direction</th>\n      <th>visibility_in_miles</th>\n      <th>dew_point</th>\n      <th>temperature</th>\n      <th>rain_p_h</th>\n      <th>snow_p_h</th>\n      <th>clouds_all</th>\n      <th>weather_type</th>\n      <th>weather_description</th>\n      <th>traffic_volume</th>\n      <th>hour</th>\n    </tr>\n    <tr>\n      <th>date_time</th>\n      <th></th>\n      <th></th>\n      <th></th>\n      <th></th>\n      <th></th>\n      <th></th>\n      <th></th>\n      <th></th>\n      <th></th>\n      <th></th>\n      <th></th>\n      <th></th>\n      <th></th>\n      <th></th>\n      <th></th>\n    </tr>\n  </thead>\n  <tbody>\n    <tr>\n      <th>2012-10-02 09:00:00</th>\n      <td>None</td>\n      <td>121</td>\n      <td>89</td>\n      <td>2</td>\n      <td>329</td>\n      <td>1</td>\n      <td>1</td>\n      <td>288.28</td>\n      <td>0.0</td>\n      <td>0.0</td>\n      <td>40</td>\n      <td>Clouds</td>\n      <td>scattered clouds</td>\n      <td>5545</td>\n      <td>9</td>\n    </tr>\n    <tr>\n      <th>2012-10-02 10:00:00</th>\n      <td>None</td>\n      <td>178</td>\n      <td>67</td>\n      <td>3</td>\n      <td>330</td>\n      <td>1</td>\n      <td>1</td>\n      <td>289.36</td>\n      <td>0.0</td>\n      <td>0.0</td>\n      <td>75</td>\n      <td>Clouds</td>\n      <td>broken clouds</td>\n      <td>4516</td>\n      <td>10</td>\n    </tr>\n    <tr>\n      <th>2012-10-02 11:00:00</th>\n      <td>None</td>\n      <td>113</td>\n      <td>66</td>\n      <td>3</td>\n      <td>329</td>\n      <td>2</td>\n      <td>2</td>\n      <td>289.58</td>\n      <td>0.0</td>\n      <td>0.0</td>\n      <td>90</td>\n      <td>Clouds</td>\n      <td>overcast clouds</td>\n      <td>4767</td>\n      <td>11</td>\n    </tr>\n    <tr>\n      <th>2012-10-02 12:00:00</th>\n      <td>None</td>\n      <td>20</td>\n      <td>66</td>\n      <td>3</td>\n      <td>329</td>\n      <td>5</td>\n      <td>5</td>\n      <td>290.13</td>\n      <td>0.0</td>\n      <td>0.0</td>\n      <td>90</td>\n      <td>Clouds</td>\n      <td>overcast clouds</td>\n      <td>5026</td>\n      <td>12</td>\n    </tr>\n    <tr>\n      <th>2012-10-02 13:00:00</th>\n      <td>None</td>\n      <td>281</td>\n      <td>65</td>\n      <td>3</td>\n      <td>329</td>\n      <td>7</td>\n      <td>7</td>\n      <td>291.14</td>\n      <td>0.0</td>\n      <td>0.0</td>\n      <td>75</td>\n      <td>Clouds</td>\n      <td>broken clouds</td>\n      <td>4918</td>\n      <td>13</td>\n    </tr>\n  </tbody>\n</table>\n</div>"
     },
     "execution_count": 9,
     "metadata": {},
     "output_type": "execute_result"
    }
   ],
   "source": [
    "df_raw.head()"
   ],
   "metadata": {
    "collapsed": false,
    "ExecuteTime": {
     "end_time": "2023-08-25T01:29:53.045056300Z",
     "start_time": "2023-08-25T01:29:52.936498Z"
    }
   }
  },
  {
   "cell_type": "code",
   "execution_count": 10,
   "outputs": [
    {
     "name": "stdout",
     "output_type": "stream",
     "text": [
      "<class 'pandas.core.frame.DataFrame'>\n",
      "DatetimeIndex: 33750 entries, 2012-10-02 09:00:00 to 2017-05-17 23:00:00\n",
      "Data columns (total 15 columns):\n",
      " #   Column               Non-Null Count  Dtype  \n",
      "---  ------               --------------  -----  \n",
      " 0   is_holiday           33750 non-null  object \n",
      " 1   air_pollution_index  33750 non-null  int64  \n",
      " 2   humidity             33750 non-null  int64  \n",
      " 3   wind_speed           33750 non-null  int64  \n",
      " 4   wind_direction       33750 non-null  int64  \n",
      " 5   visibility_in_miles  33750 non-null  int64  \n",
      " 6   dew_point            33750 non-null  int64  \n",
      " 7   temperature          33750 non-null  float64\n",
      " 8   rain_p_h             33750 non-null  float64\n",
      " 9   snow_p_h             33750 non-null  float64\n",
      " 10  clouds_all           33750 non-null  int64  \n",
      " 11  weather_type         33750 non-null  object \n",
      " 12  weather_description  33750 non-null  object \n",
      " 13  traffic_volume       33750 non-null  int64  \n",
      " 14  hour                 33750 non-null  int64  \n",
      "dtypes: float64(3), int64(9), object(3)\n",
      "memory usage: 4.1+ MB\n"
     ]
    }
   ],
   "source": [
    "df_raw.info()"
   ],
   "metadata": {
    "collapsed": false,
    "ExecuteTime": {
     "end_time": "2023-08-25T01:29:53.046050400Z",
     "start_time": "2023-08-25T01:29:52.974503400Z"
    }
   }
  },
  {
   "cell_type": "code",
   "execution_count": 11,
   "outputs": [],
   "source": [
    "df_is_holiday = pd.get_dummies(df_raw['is_holiday'])"
   ],
   "metadata": {
    "collapsed": false,
    "ExecuteTime": {
     "end_time": "2023-08-25T01:29:53.047065500Z",
     "start_time": "2023-08-25T01:29:52.998517900Z"
    }
   }
  },
  {
   "cell_type": "code",
   "execution_count": 12,
   "outputs": [
    {
     "name": "stdout",
     "output_type": "stream",
     "text": [
      "<class 'pandas.core.frame.DataFrame'>\n",
      "DatetimeIndex: 33750 entries, 2012-10-02 09:00:00 to 2017-05-17 23:00:00\n",
      "Data columns (total 12 columns):\n",
      " #   Column                     Non-Null Count  Dtype\n",
      "---  ------                     --------------  -----\n",
      " 0   Christmas Day              33750 non-null  uint8\n",
      " 1   Columbus Day               33750 non-null  uint8\n",
      " 2   Independence Day           33750 non-null  uint8\n",
      " 3   Labor Day                  33750 non-null  uint8\n",
      " 4   Martin Luther King Jr Day  33750 non-null  uint8\n",
      " 5   Memorial Day               33750 non-null  uint8\n",
      " 6   New Years Day              33750 non-null  uint8\n",
      " 7   None                       33750 non-null  uint8\n",
      " 8   State Fair                 33750 non-null  uint8\n",
      " 9   Thanksgiving Day           33750 non-null  uint8\n",
      " 10  Veterans Day               33750 non-null  uint8\n",
      " 11  Washingtons Birthday       33750 non-null  uint8\n",
      "dtypes: uint8(12)\n",
      "memory usage: 659.2 KB\n"
     ]
    }
   ],
   "source": [
    "df_is_holiday.info()"
   ],
   "metadata": {
    "collapsed": false,
    "ExecuteTime": {
     "end_time": "2023-08-25T01:29:53.065054500Z",
     "start_time": "2023-08-25T01:29:53.024050900Z"
    }
   }
  },
  {
   "cell_type": "code",
   "execution_count": 13,
   "outputs": [],
   "source": [
    "df_weather_type = pd.get_dummies(df_raw['weather_type'])"
   ],
   "metadata": {
    "collapsed": false,
    "ExecuteTime": {
     "end_time": "2023-08-25T01:29:53.066051400Z",
     "start_time": "2023-08-25T01:29:53.033061900Z"
    }
   }
  },
  {
   "cell_type": "code",
   "execution_count": 14,
   "outputs": [
    {
     "name": "stdout",
     "output_type": "stream",
     "text": [
      "<class 'pandas.core.frame.DataFrame'>\n",
      "DatetimeIndex: 33750 entries, 2012-10-02 09:00:00 to 2017-05-17 23:00:00\n",
      "Data columns (total 11 columns):\n",
      " #   Column        Non-Null Count  Dtype\n",
      "---  ------        --------------  -----\n",
      " 0   Clear         33750 non-null  uint8\n",
      " 1   Clouds        33750 non-null  uint8\n",
      " 2   Drizzle       33750 non-null  uint8\n",
      " 3   Fog           33750 non-null  uint8\n",
      " 4   Haze          33750 non-null  uint8\n",
      " 5   Mist          33750 non-null  uint8\n",
      " 6   Rain          33750 non-null  uint8\n",
      " 7   Smoke         33750 non-null  uint8\n",
      " 8   Snow          33750 non-null  uint8\n",
      " 9   Squall        33750 non-null  uint8\n",
      " 10  Thunderstorm  33750 non-null  uint8\n",
      "dtypes: uint8(11)\n",
      "memory usage: 626.2 KB\n"
     ]
    }
   ],
   "source": [
    "df_weather_type.info()"
   ],
   "metadata": {
    "collapsed": false,
    "ExecuteTime": {
     "end_time": "2023-08-25T01:29:53.198641900Z",
     "start_time": "2023-08-25T01:29:53.051055700Z"
    }
   }
  },
  {
   "cell_type": "code",
   "execution_count": 15,
   "outputs": [],
   "source": [
    "df_weather_description = pd.get_dummies(df_raw['weather_description'])"
   ],
   "metadata": {
    "collapsed": false,
    "ExecuteTime": {
     "end_time": "2023-08-25T01:29:53.242060Z",
     "start_time": "2023-08-25T01:29:53.078053Z"
    }
   }
  },
  {
   "cell_type": "code",
   "execution_count": 16,
   "outputs": [
    {
     "name": "stdout",
     "output_type": "stream",
     "text": [
      "<class 'pandas.core.frame.DataFrame'>\n",
      "DatetimeIndex: 33750 entries, 2012-10-02 09:00:00 to 2017-05-17 23:00:00\n",
      "Data columns (total 38 columns):\n",
      " #   Column                               Non-Null Count  Dtype\n",
      "---  ------                               --------------  -----\n",
      " 0   SQUALLS                              33750 non-null  uint8\n",
      " 1   Sky is Clear                         33750 non-null  uint8\n",
      " 2   broken clouds                        33750 non-null  uint8\n",
      " 3   drizzle                              33750 non-null  uint8\n",
      " 4   few clouds                           33750 non-null  uint8\n",
      " 5   fog                                  33750 non-null  uint8\n",
      " 6   freezing rain                        33750 non-null  uint8\n",
      " 7   haze                                 33750 non-null  uint8\n",
      " 8   heavy intensity drizzle              33750 non-null  uint8\n",
      " 9   heavy intensity rain                 33750 non-null  uint8\n",
      " 10  heavy snow                           33750 non-null  uint8\n",
      " 11  light intensity drizzle              33750 non-null  uint8\n",
      " 12  light intensity shower rain          33750 non-null  uint8\n",
      " 13  light rain                           33750 non-null  uint8\n",
      " 14  light rain and snow                  33750 non-null  uint8\n",
      " 15  light shower snow                    33750 non-null  uint8\n",
      " 16  light snow                           33750 non-null  uint8\n",
      " 17  mist                                 33750 non-null  uint8\n",
      " 18  moderate rain                        33750 non-null  uint8\n",
      " 19  overcast clouds                      33750 non-null  uint8\n",
      " 20  proximity shower rain                33750 non-null  uint8\n",
      " 21  proximity thunderstorm               33750 non-null  uint8\n",
      " 22  proximity thunderstorm with drizzle  33750 non-null  uint8\n",
      " 23  proximity thunderstorm with rain     33750 non-null  uint8\n",
      " 24  scattered clouds                     33750 non-null  uint8\n",
      " 25  shower drizzle                       33750 non-null  uint8\n",
      " 26  shower snow                          33750 non-null  uint8\n",
      " 27  sky is clear                         33750 non-null  uint8\n",
      " 28  sleet                                33750 non-null  uint8\n",
      " 29  smoke                                33750 non-null  uint8\n",
      " 30  snow                                 33750 non-null  uint8\n",
      " 31  thunderstorm                         33750 non-null  uint8\n",
      " 32  thunderstorm with drizzle            33750 non-null  uint8\n",
      " 33  thunderstorm with heavy rain         33750 non-null  uint8\n",
      " 34  thunderstorm with light drizzle      33750 non-null  uint8\n",
      " 35  thunderstorm with light rain         33750 non-null  uint8\n",
      " 36  thunderstorm with rain               33750 non-null  uint8\n",
      " 37  very heavy rain                      33750 non-null  uint8\n",
      "dtypes: uint8(38)\n",
      "memory usage: 1.5 MB\n"
     ]
    }
   ],
   "source": [
    "df_weather_description.info()"
   ],
   "metadata": {
    "collapsed": false,
    "ExecuteTime": {
     "end_time": "2023-08-25T01:29:53.269055200Z",
     "start_time": "2023-08-25T01:29:53.110104600Z"
    }
   }
  },
  {
   "cell_type": "code",
   "execution_count": 17,
   "outputs": [],
   "source": [
    "df_processed = pd.concat([df_raw, df_is_holiday, df_weather_type, df_weather_description], axis=1)"
   ],
   "metadata": {
    "collapsed": false,
    "ExecuteTime": {
     "end_time": "2023-08-25T01:29:53.269055200Z",
     "start_time": "2023-08-25T01:29:53.138622700Z"
    }
   }
  },
  {
   "cell_type": "code",
   "execution_count": 18,
   "outputs": [
    {
     "name": "stdout",
     "output_type": "stream",
     "text": [
      "<class 'pandas.core.frame.DataFrame'>\n",
      "DatetimeIndex: 33750 entries, 2012-10-02 09:00:00 to 2017-05-17 23:00:00\n",
      "Data columns (total 76 columns):\n",
      " #   Column                               Non-Null Count  Dtype  \n",
      "---  ------                               --------------  -----  \n",
      " 0   is_holiday                           33750 non-null  object \n",
      " 1   air_pollution_index                  33750 non-null  int64  \n",
      " 2   humidity                             33750 non-null  int64  \n",
      " 3   wind_speed                           33750 non-null  int64  \n",
      " 4   wind_direction                       33750 non-null  int64  \n",
      " 5   visibility_in_miles                  33750 non-null  int64  \n",
      " 6   dew_point                            33750 non-null  int64  \n",
      " 7   temperature                          33750 non-null  float64\n",
      " 8   rain_p_h                             33750 non-null  float64\n",
      " 9   snow_p_h                             33750 non-null  float64\n",
      " 10  clouds_all                           33750 non-null  int64  \n",
      " 11  weather_type                         33750 non-null  object \n",
      " 12  weather_description                  33750 non-null  object \n",
      " 13  traffic_volume                       33750 non-null  int64  \n",
      " 14  hour                                 33750 non-null  int64  \n",
      " 15  Christmas Day                        33750 non-null  uint8  \n",
      " 16  Columbus Day                         33750 non-null  uint8  \n",
      " 17  Independence Day                     33750 non-null  uint8  \n",
      " 18  Labor Day                            33750 non-null  uint8  \n",
      " 19  Martin Luther King Jr Day            33750 non-null  uint8  \n",
      " 20  Memorial Day                         33750 non-null  uint8  \n",
      " 21  New Years Day                        33750 non-null  uint8  \n",
      " 22  None                                 33750 non-null  uint8  \n",
      " 23  State Fair                           33750 non-null  uint8  \n",
      " 24  Thanksgiving Day                     33750 non-null  uint8  \n",
      " 25  Veterans Day                         33750 non-null  uint8  \n",
      " 26  Washingtons Birthday                 33750 non-null  uint8  \n",
      " 27  Clear                                33750 non-null  uint8  \n",
      " 28  Clouds                               33750 non-null  uint8  \n",
      " 29  Drizzle                              33750 non-null  uint8  \n",
      " 30  Fog                                  33750 non-null  uint8  \n",
      " 31  Haze                                 33750 non-null  uint8  \n",
      " 32  Mist                                 33750 non-null  uint8  \n",
      " 33  Rain                                 33750 non-null  uint8  \n",
      " 34  Smoke                                33750 non-null  uint8  \n",
      " 35  Snow                                 33750 non-null  uint8  \n",
      " 36  Squall                               33750 non-null  uint8  \n",
      " 37  Thunderstorm                         33750 non-null  uint8  \n",
      " 38  SQUALLS                              33750 non-null  uint8  \n",
      " 39  Sky is Clear                         33750 non-null  uint8  \n",
      " 40  broken clouds                        33750 non-null  uint8  \n",
      " 41  drizzle                              33750 non-null  uint8  \n",
      " 42  few clouds                           33750 non-null  uint8  \n",
      " 43  fog                                  33750 non-null  uint8  \n",
      " 44  freezing rain                        33750 non-null  uint8  \n",
      " 45  haze                                 33750 non-null  uint8  \n",
      " 46  heavy intensity drizzle              33750 non-null  uint8  \n",
      " 47  heavy intensity rain                 33750 non-null  uint8  \n",
      " 48  heavy snow                           33750 non-null  uint8  \n",
      " 49  light intensity drizzle              33750 non-null  uint8  \n",
      " 50  light intensity shower rain          33750 non-null  uint8  \n",
      " 51  light rain                           33750 non-null  uint8  \n",
      " 52  light rain and snow                  33750 non-null  uint8  \n",
      " 53  light shower snow                    33750 non-null  uint8  \n",
      " 54  light snow                           33750 non-null  uint8  \n",
      " 55  mist                                 33750 non-null  uint8  \n",
      " 56  moderate rain                        33750 non-null  uint8  \n",
      " 57  overcast clouds                      33750 non-null  uint8  \n",
      " 58  proximity shower rain                33750 non-null  uint8  \n",
      " 59  proximity thunderstorm               33750 non-null  uint8  \n",
      " 60  proximity thunderstorm with drizzle  33750 non-null  uint8  \n",
      " 61  proximity thunderstorm with rain     33750 non-null  uint8  \n",
      " 62  scattered clouds                     33750 non-null  uint8  \n",
      " 63  shower drizzle                       33750 non-null  uint8  \n",
      " 64  shower snow                          33750 non-null  uint8  \n",
      " 65  sky is clear                         33750 non-null  uint8  \n",
      " 66  sleet                                33750 non-null  uint8  \n",
      " 67  smoke                                33750 non-null  uint8  \n",
      " 68  snow                                 33750 non-null  uint8  \n",
      " 69  thunderstorm                         33750 non-null  uint8  \n",
      " 70  thunderstorm with drizzle            33750 non-null  uint8  \n",
      " 71  thunderstorm with heavy rain         33750 non-null  uint8  \n",
      " 72  thunderstorm with light drizzle      33750 non-null  uint8  \n",
      " 73  thunderstorm with light rain         33750 non-null  uint8  \n",
      " 74  thunderstorm with rain               33750 non-null  uint8  \n",
      " 75  very heavy rain                      33750 non-null  uint8  \n",
      "dtypes: float64(3), int64(9), object(3), uint8(61)\n",
      "memory usage: 6.1+ MB\n"
     ]
    }
   ],
   "source": [
    "df_processed.info()"
   ],
   "metadata": {
    "collapsed": false,
    "ExecuteTime": {
     "end_time": "2023-08-25T01:29:53.381588Z",
     "start_time": "2023-08-25T01:29:53.168629Z"
    }
   }
  },
  {
   "cell_type": "code",
   "execution_count": 19,
   "outputs": [],
   "source": [
    "df_processed.drop(columns=['is_holiday', 'weather_type', 'weather_description'], inplace=True)"
   ],
   "metadata": {
    "collapsed": false,
    "ExecuteTime": {
     "end_time": "2023-08-25T01:29:53.451667600Z",
     "start_time": "2023-08-25T01:29:53.199636600Z"
    }
   }
  },
  {
   "cell_type": "code",
   "execution_count": 20,
   "outputs": [
    {
     "name": "stdout",
     "output_type": "stream",
     "text": [
      "<class 'pandas.core.frame.DataFrame'>\n",
      "DatetimeIndex: 33750 entries, 2012-10-02 09:00:00 to 2017-05-17 23:00:00\n",
      "Data columns (total 73 columns):\n",
      " #   Column                               Non-Null Count  Dtype  \n",
      "---  ------                               --------------  -----  \n",
      " 0   air_pollution_index                  33750 non-null  int64  \n",
      " 1   humidity                             33750 non-null  int64  \n",
      " 2   wind_speed                           33750 non-null  int64  \n",
      " 3   wind_direction                       33750 non-null  int64  \n",
      " 4   visibility_in_miles                  33750 non-null  int64  \n",
      " 5   dew_point                            33750 non-null  int64  \n",
      " 6   temperature                          33750 non-null  float64\n",
      " 7   rain_p_h                             33750 non-null  float64\n",
      " 8   snow_p_h                             33750 non-null  float64\n",
      " 9   clouds_all                           33750 non-null  int64  \n",
      " 10  traffic_volume                       33750 non-null  int64  \n",
      " 11  hour                                 33750 non-null  int64  \n",
      " 12  Christmas Day                        33750 non-null  uint8  \n",
      " 13  Columbus Day                         33750 non-null  uint8  \n",
      " 14  Independence Day                     33750 non-null  uint8  \n",
      " 15  Labor Day                            33750 non-null  uint8  \n",
      " 16  Martin Luther King Jr Day            33750 non-null  uint8  \n",
      " 17  Memorial Day                         33750 non-null  uint8  \n",
      " 18  New Years Day                        33750 non-null  uint8  \n",
      " 19  None                                 33750 non-null  uint8  \n",
      " 20  State Fair                           33750 non-null  uint8  \n",
      " 21  Thanksgiving Day                     33750 non-null  uint8  \n",
      " 22  Veterans Day                         33750 non-null  uint8  \n",
      " 23  Washingtons Birthday                 33750 non-null  uint8  \n",
      " 24  Clear                                33750 non-null  uint8  \n",
      " 25  Clouds                               33750 non-null  uint8  \n",
      " 26  Drizzle                              33750 non-null  uint8  \n",
      " 27  Fog                                  33750 non-null  uint8  \n",
      " 28  Haze                                 33750 non-null  uint8  \n",
      " 29  Mist                                 33750 non-null  uint8  \n",
      " 30  Rain                                 33750 non-null  uint8  \n",
      " 31  Smoke                                33750 non-null  uint8  \n",
      " 32  Snow                                 33750 non-null  uint8  \n",
      " 33  Squall                               33750 non-null  uint8  \n",
      " 34  Thunderstorm                         33750 non-null  uint8  \n",
      " 35  SQUALLS                              33750 non-null  uint8  \n",
      " 36  Sky is Clear                         33750 non-null  uint8  \n",
      " 37  broken clouds                        33750 non-null  uint8  \n",
      " 38  drizzle                              33750 non-null  uint8  \n",
      " 39  few clouds                           33750 non-null  uint8  \n",
      " 40  fog                                  33750 non-null  uint8  \n",
      " 41  freezing rain                        33750 non-null  uint8  \n",
      " 42  haze                                 33750 non-null  uint8  \n",
      " 43  heavy intensity drizzle              33750 non-null  uint8  \n",
      " 44  heavy intensity rain                 33750 non-null  uint8  \n",
      " 45  heavy snow                           33750 non-null  uint8  \n",
      " 46  light intensity drizzle              33750 non-null  uint8  \n",
      " 47  light intensity shower rain          33750 non-null  uint8  \n",
      " 48  light rain                           33750 non-null  uint8  \n",
      " 49  light rain and snow                  33750 non-null  uint8  \n",
      " 50  light shower snow                    33750 non-null  uint8  \n",
      " 51  light snow                           33750 non-null  uint8  \n",
      " 52  mist                                 33750 non-null  uint8  \n",
      " 53  moderate rain                        33750 non-null  uint8  \n",
      " 54  overcast clouds                      33750 non-null  uint8  \n",
      " 55  proximity shower rain                33750 non-null  uint8  \n",
      " 56  proximity thunderstorm               33750 non-null  uint8  \n",
      " 57  proximity thunderstorm with drizzle  33750 non-null  uint8  \n",
      " 58  proximity thunderstorm with rain     33750 non-null  uint8  \n",
      " 59  scattered clouds                     33750 non-null  uint8  \n",
      " 60  shower drizzle                       33750 non-null  uint8  \n",
      " 61  shower snow                          33750 non-null  uint8  \n",
      " 62  sky is clear                         33750 non-null  uint8  \n",
      " 63  sleet                                33750 non-null  uint8  \n",
      " 64  smoke                                33750 non-null  uint8  \n",
      " 65  snow                                 33750 non-null  uint8  \n",
      " 66  thunderstorm                         33750 non-null  uint8  \n",
      " 67  thunderstorm with drizzle            33750 non-null  uint8  \n",
      " 68  thunderstorm with heavy rain         33750 non-null  uint8  \n",
      " 69  thunderstorm with light drizzle      33750 non-null  uint8  \n",
      " 70  thunderstorm with light rain         33750 non-null  uint8  \n",
      " 71  thunderstorm with rain               33750 non-null  uint8  \n",
      " 72  very heavy rain                      33750 non-null  uint8  \n",
      "dtypes: float64(3), int64(9), uint8(61)\n",
      "memory usage: 5.3 MB\n"
     ]
    }
   ],
   "source": [
    "df_processed.info()"
   ],
   "metadata": {
    "collapsed": false,
    "ExecuteTime": {
     "end_time": "2023-08-25T01:29:53.452656500Z",
     "start_time": "2023-08-25T01:29:53.243057Z"
    }
   }
  },
  {
   "cell_type": "code",
   "execution_count": 21,
   "outputs": [],
   "source": [
    "df_target = df_processed['traffic_volume']"
   ],
   "metadata": {
    "collapsed": false,
    "ExecuteTime": {
     "end_time": "2023-08-25T01:29:53.453653700Z",
     "start_time": "2023-08-25T01:29:53.264060300Z"
    }
   }
  },
  {
   "cell_type": "code",
   "execution_count": 22,
   "outputs": [
    {
     "data": {
      "text/plain": "date_time\n2012-10-02 09:00:00    5545\n2012-10-02 10:00:00    4516\n2012-10-02 11:00:00    4767\n2012-10-02 12:00:00    5026\n2012-10-02 13:00:00    4918\n                       ... \n2017-05-17 21:00:00    2348\n2017-05-17 22:00:00    2194\n2017-05-17 22:00:00    2194\n2017-05-17 23:00:00    1328\n2017-05-17 23:00:00    1328\nName: traffic_volume, Length: 33750, dtype: int64"
     },
     "execution_count": 22,
     "metadata": {},
     "output_type": "execute_result"
    }
   ],
   "source": [
    "df_target"
   ],
   "metadata": {
    "collapsed": false,
    "ExecuteTime": {
     "end_time": "2023-08-25T01:29:53.453653700Z",
     "start_time": "2023-08-25T01:29:53.282055500Z"
    }
   }
  },
  {
   "cell_type": "code",
   "execution_count": 23,
   "outputs": [],
   "source": [
    "df_processed.drop(columns=['traffic_volume'], inplace=True)"
   ],
   "metadata": {
    "collapsed": false,
    "ExecuteTime": {
     "end_time": "2023-08-25T01:29:53.454655500Z",
     "start_time": "2023-08-25T01:29:53.298069300Z"
    }
   }
  },
  {
   "cell_type": "code",
   "execution_count": 24,
   "outputs": [],
   "source": [
    "df_processed['traffic_volume'] = df_target"
   ],
   "metadata": {
    "collapsed": false,
    "ExecuteTime": {
     "end_time": "2023-08-25T01:29:53.454655500Z",
     "start_time": "2023-08-25T01:29:53.307067500Z"
    }
   }
  },
  {
   "cell_type": "code",
   "execution_count": 25,
   "outputs": [
    {
     "name": "stdout",
     "output_type": "stream",
     "text": [
      "<class 'pandas.core.frame.DataFrame'>\n",
      "DatetimeIndex: 33750 entries, 2012-10-02 09:00:00 to 2017-05-17 23:00:00\n",
      "Data columns (total 73 columns):\n",
      " #   Column                               Non-Null Count  Dtype  \n",
      "---  ------                               --------------  -----  \n",
      " 0   air_pollution_index                  33750 non-null  int64  \n",
      " 1   humidity                             33750 non-null  int64  \n",
      " 2   wind_speed                           33750 non-null  int64  \n",
      " 3   wind_direction                       33750 non-null  int64  \n",
      " 4   visibility_in_miles                  33750 non-null  int64  \n",
      " 5   dew_point                            33750 non-null  int64  \n",
      " 6   temperature                          33750 non-null  float64\n",
      " 7   rain_p_h                             33750 non-null  float64\n",
      " 8   snow_p_h                             33750 non-null  float64\n",
      " 9   clouds_all                           33750 non-null  int64  \n",
      " 10  hour                                 33750 non-null  int64  \n",
      " 11  Christmas Day                        33750 non-null  uint8  \n",
      " 12  Columbus Day                         33750 non-null  uint8  \n",
      " 13  Independence Day                     33750 non-null  uint8  \n",
      " 14  Labor Day                            33750 non-null  uint8  \n",
      " 15  Martin Luther King Jr Day            33750 non-null  uint8  \n",
      " 16  Memorial Day                         33750 non-null  uint8  \n",
      " 17  New Years Day                        33750 non-null  uint8  \n",
      " 18  None                                 33750 non-null  uint8  \n",
      " 19  State Fair                           33750 non-null  uint8  \n",
      " 20  Thanksgiving Day                     33750 non-null  uint8  \n",
      " 21  Veterans Day                         33750 non-null  uint8  \n",
      " 22  Washingtons Birthday                 33750 non-null  uint8  \n",
      " 23  Clear                                33750 non-null  uint8  \n",
      " 24  Clouds                               33750 non-null  uint8  \n",
      " 25  Drizzle                              33750 non-null  uint8  \n",
      " 26  Fog                                  33750 non-null  uint8  \n",
      " 27  Haze                                 33750 non-null  uint8  \n",
      " 28  Mist                                 33750 non-null  uint8  \n",
      " 29  Rain                                 33750 non-null  uint8  \n",
      " 30  Smoke                                33750 non-null  uint8  \n",
      " 31  Snow                                 33750 non-null  uint8  \n",
      " 32  Squall                               33750 non-null  uint8  \n",
      " 33  Thunderstorm                         33750 non-null  uint8  \n",
      " 34  SQUALLS                              33750 non-null  uint8  \n",
      " 35  Sky is Clear                         33750 non-null  uint8  \n",
      " 36  broken clouds                        33750 non-null  uint8  \n",
      " 37  drizzle                              33750 non-null  uint8  \n",
      " 38  few clouds                           33750 non-null  uint8  \n",
      " 39  fog                                  33750 non-null  uint8  \n",
      " 40  freezing rain                        33750 non-null  uint8  \n",
      " 41  haze                                 33750 non-null  uint8  \n",
      " 42  heavy intensity drizzle              33750 non-null  uint8  \n",
      " 43  heavy intensity rain                 33750 non-null  uint8  \n",
      " 44  heavy snow                           33750 non-null  uint8  \n",
      " 45  light intensity drizzle              33750 non-null  uint8  \n",
      " 46  light intensity shower rain          33750 non-null  uint8  \n",
      " 47  light rain                           33750 non-null  uint8  \n",
      " 48  light rain and snow                  33750 non-null  uint8  \n",
      " 49  light shower snow                    33750 non-null  uint8  \n",
      " 50  light snow                           33750 non-null  uint8  \n",
      " 51  mist                                 33750 non-null  uint8  \n",
      " 52  moderate rain                        33750 non-null  uint8  \n",
      " 53  overcast clouds                      33750 non-null  uint8  \n",
      " 54  proximity shower rain                33750 non-null  uint8  \n",
      " 55  proximity thunderstorm               33750 non-null  uint8  \n",
      " 56  proximity thunderstorm with drizzle  33750 non-null  uint8  \n",
      " 57  proximity thunderstorm with rain     33750 non-null  uint8  \n",
      " 58  scattered clouds                     33750 non-null  uint8  \n",
      " 59  shower drizzle                       33750 non-null  uint8  \n",
      " 60  shower snow                          33750 non-null  uint8  \n",
      " 61  sky is clear                         33750 non-null  uint8  \n",
      " 62  sleet                                33750 non-null  uint8  \n",
      " 63  smoke                                33750 non-null  uint8  \n",
      " 64  snow                                 33750 non-null  uint8  \n",
      " 65  thunderstorm                         33750 non-null  uint8  \n",
      " 66  thunderstorm with drizzle            33750 non-null  uint8  \n",
      " 67  thunderstorm with heavy rain         33750 non-null  uint8  \n",
      " 68  thunderstorm with light drizzle      33750 non-null  uint8  \n",
      " 69  thunderstorm with light rain         33750 non-null  uint8  \n",
      " 70  thunderstorm with rain               33750 non-null  uint8  \n",
      " 71  very heavy rain                      33750 non-null  uint8  \n",
      " 72  traffic_volume                       33750 non-null  int64  \n",
      "dtypes: float64(3), int64(9), uint8(61)\n",
      "memory usage: 5.3 MB\n"
     ]
    }
   ],
   "source": [
    "df_processed.info()"
   ],
   "metadata": {
    "collapsed": false,
    "ExecuteTime": {
     "end_time": "2023-08-25T01:29:53.455657700Z",
     "start_time": "2023-08-25T01:29:53.327591400Z"
    }
   }
  },
  {
   "cell_type": "code",
   "execution_count": 26,
   "outputs": [],
   "source": [
    "scaler = StandardScaler()\n",
    "scaler = scaler.fit(df_processed)\n",
    "df_processed_scaled = scaler.transform(df_processed)"
   ],
   "metadata": {
    "collapsed": false,
    "ExecuteTime": {
     "end_time": "2023-08-25T01:29:53.662140700Z",
     "start_time": "2023-08-25T01:29:53.358587900Z"
    }
   }
  },
  {
   "cell_type": "code",
   "execution_count": 27,
   "outputs": [
    {
     "data": {
      "text/plain": "array([[-0.40415257,  1.05572004, -0.67040489, ..., -0.0261141 ,\n        -0.02310017,  1.15738423],\n       [ 0.27657226, -0.2497631 , -0.18396715, ..., -0.0261141 ,\n        -0.02310017,  0.64067732],\n       [-0.4996929 , -0.30910324, -0.18396715, ..., -0.0261141 ,\n        -0.02310017,  0.76671564],\n       ...,\n       [-0.20112938, -0.07174267, -1.15684263, ..., -0.0261141 ,\n        -0.02310017, -0.52530271],\n       [ 0.88564185, -0.30910324, -1.15684263, ..., -0.0261141 ,\n        -0.02310017, -0.96016003],\n       [-0.17724429, -0.48712367, -1.15684263, ..., -0.0261141 ,\n        -0.02310017, -0.96016003]])"
     },
     "execution_count": 27,
     "metadata": {},
     "output_type": "execute_result"
    }
   ],
   "source": [
    "df_processed_scaled"
   ],
   "metadata": {
    "collapsed": false,
    "ExecuteTime": {
     "end_time": "2023-08-25T01:29:53.681149800Z",
     "start_time": "2023-08-25T01:29:53.432657400Z"
    }
   }
  },
  {
   "cell_type": "code",
   "execution_count": 28,
   "outputs": [],
   "source": [
    "trainX = []\n",
    "trainY = []"
   ],
   "metadata": {
    "collapsed": false,
    "ExecuteTime": {
     "end_time": "2023-08-25T01:29:53.683143800Z",
     "start_time": "2023-08-25T01:29:53.447658900Z"
    }
   }
  },
  {
   "cell_type": "code",
   "execution_count": 29,
   "outputs": [],
   "source": [
    "selected_features = ['traffic_volume', 'hour', 'temperature', 'clouds_all', 'humidity']\n",
    "df_selected = df_raw[selected_features]\n",
    "\n",
    "scaler = StandardScaler()\n",
    "df_processed_scaled = scaler.fit_transform(df_selected)"
   ],
   "metadata": {
    "collapsed": false,
    "ExecuteTime": {
     "end_time": "2023-08-25T01:29:53.684147900Z",
     "start_time": "2023-08-25T01:29:53.464660400Z"
    }
   }
  },
  {
   "cell_type": "code",
   "execution_count": 30,
   "outputs": [],
   "source": [
    "n_future = 1   # Number of data we want to look into the future based on the past data.\n",
    "n_past = 14  # Number of past data we want to use to predict the future."
   ],
   "metadata": {
    "collapsed": false,
    "ExecuteTime": {
     "end_time": "2023-08-25T01:29:53.685149700Z",
     "start_time": "2023-08-25T01:29:53.493654800Z"
    }
   }
  },
  {
   "cell_type": "code",
   "execution_count": 31,
   "outputs": [],
   "source": [
    "for i in range(n_past, len(df_processed_scaled) - n_future + 1):\n",
    "    trainX.append(df_processed_scaled[i - n_past:i, :-1])\n",
    "    trainY.append(df_processed_scaled[i + n_future - 1:i + n_future, 0])\n",
    "\n",
    "trainX, trainY = np.array(trainX), np.array(trainY)"
   ],
   "metadata": {
    "collapsed": false,
    "ExecuteTime": {
     "end_time": "2023-08-25T01:29:53.686155Z",
     "start_time": "2023-08-25T01:29:53.549748900Z"
    }
   }
  },
  {
   "cell_type": "code",
   "execution_count": 32,
   "outputs": [
    {
     "name": "stdout",
     "output_type": "stream",
     "text": [
      "trainX shape == (33736, 14, 4).\n",
      "trainY shape == (33736, 1).\n"
     ]
    }
   ],
   "source": [
    "print('trainX shape == {}.'.format(trainX.shape))\n",
    "print('trainY shape == {}.'.format(trainY.shape))"
   ],
   "metadata": {
    "collapsed": false,
    "ExecuteTime": {
     "end_time": "2023-08-25T01:29:53.686155Z",
     "start_time": "2023-08-25T01:29:53.603760600Z"
    }
   }
  },
  {
   "cell_type": "code",
   "execution_count": 33,
   "outputs": [
    {
     "name": "stdout",
     "output_type": "stream",
     "text": [
      "Model: \"sequential\"\n",
      "_________________________________________________________________\n",
      " Layer (type)                Output Shape              Param #   \n",
      "=================================================================\n",
      " gru (GRU)                   (None, 14, 128)           51456     \n",
      "                                                                 \n",
      " gru_1 (GRU)                 (None, 64)                37248     \n",
      "                                                                 \n",
      " dropout (Dropout)           (None, 64)                0         \n",
      "                                                                 \n",
      " dense (Dense)               (None, 1)                 65        \n",
      "                                                                 \n",
      "=================================================================\n",
      "Total params: 88,769\n",
      "Trainable params: 88,769\n",
      "Non-trainable params: 0\n",
      "_________________________________________________________________\n"
     ]
    }
   ],
   "source": [
    "model = Sequential()\n",
    "model.add(GRU(128, activation='relu', input_shape=(trainX.shape[1], trainX.shape[2]), return_sequences=True))\n",
    "model.add(GRU(64, activation='relu', return_sequences=False))\n",
    "model.add(Dropout(0.2))\n",
    "model.add(Dense(trainY.shape[1]))\n",
    "\n",
    "model.compile(optimizer='adam', loss='mse')\n",
    "model.summary()"
   ],
   "metadata": {
    "collapsed": false,
    "ExecuteTime": {
     "end_time": "2023-08-25T01:29:53.911328100Z",
     "start_time": "2023-08-25T01:29:53.623134200Z"
    }
   }
  },
  {
   "cell_type": "code",
   "execution_count": 34,
   "outputs": [
    {
     "name": "stdout",
     "output_type": "stream",
     "text": [
      "Epoch 1/5\n",
      "1898/1898 [==============================] - 30s 15ms/step - loss: 0.1262 - val_loss: 0.0588\n",
      "Epoch 2/5\n",
      "1898/1898 [==============================] - 25s 13ms/step - loss: 0.0910 - val_loss: 0.0575\n",
      "Epoch 3/5\n",
      "1898/1898 [==============================] - 25s 13ms/step - loss: 0.0825 - val_loss: 0.0571\n",
      "Epoch 4/5\n",
      "1898/1898 [==============================] - 187s 98ms/step - loss: 0.0782 - val_loss: 0.0520\n",
      "Epoch 5/5\n",
      "1898/1898 [==============================] - 113s 60ms/step - loss: 0.0757 - val_loss: 0.0536\n"
     ]
    },
    {
     "data": {
      "text/plain": "<matplotlib.legend.Legend at 0x182322f13d0>"
     },
     "execution_count": 34,
     "metadata": {},
     "output_type": "execute_result"
    },
    {
     "data": {
      "text/plain": "<Figure size 640x480 with 1 Axes>",
      "image/png": "[encoded data removed]"
     },
     "metadata": {},
     "output_type": "display_data"
    }
   ],
   "source": [
    "# Fit the model\n",
    "history = model.fit(trainX, trainY, epochs=5, batch_size=16, validation_split=0.1, verbose=1)\n",
    "\n",
    "plt.plot(history.history['loss'], label='Training loss')\n",
    "plt.plot(history.history['val_loss'], label='Validation loss')\n",
    "plt.legend()"
   ],
   "metadata": {
    "collapsed": false,
    "ExecuteTime": {
     "end_time": "2023-08-25T01:36:15.072291700Z",
     "start_time": "2023-08-25T01:29:53.871869500Z"
    }
   }
  },
  {
   "cell_type": "code",
   "execution_count": 35,
   "outputs": [],
   "source": [
    "df_raw = pd.read_csv('Train.csv')"
   ],
   "metadata": {
    "collapsed": false,
    "ExecuteTime": {
     "end_time": "2023-08-25T01:36:15.193381900Z",
     "start_time": "2023-08-25T01:36:15.076293500Z"
    }
   }
  },
  {
   "cell_type": "code",
   "execution_count": 36,
   "outputs": [
    {
     "name": "stdout",
     "output_type": "stream",
     "text": [
      "33720   2017-05-17 10:00:00\n",
      "33721   2017-05-17 10:00:00\n",
      "33722   2017-05-17 11:00:00\n",
      "33723   2017-05-17 12:00:00\n",
      "33724   2017-05-17 12:00:00\n",
      "33725   2017-05-17 13:00:00\n",
      "33726   2017-05-17 13:00:00\n",
      "33727   2017-05-17 14:00:00\n",
      "33728   2017-05-17 15:00:00\n",
      "33729   2017-05-17 16:00:00\n",
      "33730   2017-05-17 16:00:00\n",
      "33731   2017-05-17 17:00:00\n",
      "33732   2017-05-17 17:00:00\n",
      "33733   2017-05-17 18:00:00\n",
      "33734   2017-05-17 18:00:00\n",
      "33735   2017-05-17 18:00:00\n",
      "33736   2017-05-17 18:00:00\n",
      "33737   2017-05-17 19:00:00\n",
      "33738   2017-05-17 19:00:00\n",
      "33739   2017-05-17 19:00:00\n",
      "33740   2017-05-17 20:00:00\n",
      "33741   2017-05-17 20:00:00\n",
      "33742   2017-05-17 20:00:00\n",
      "33743   2017-05-17 21:00:00\n",
      "33744   2017-05-17 21:00:00\n",
      "33745   2017-05-17 21:00:00\n",
      "33746   2017-05-17 22:00:00\n",
      "33747   2017-05-17 22:00:00\n",
      "33748   2017-05-17 23:00:00\n",
      "33749   2017-05-17 23:00:00\n",
      "Name: date_time, dtype: datetime64[ns]\n"
     ]
    }
   ],
   "source": [
    "#Separate dates for future plotting\n",
    "train_dates = pd.to_datetime(df_raw['date_time'])\n",
    "print(train_dates.tail(30)) #Check last few dates."
   ],
   "metadata": {
    "collapsed": false,
    "ExecuteTime": {
     "end_time": "2023-08-25T01:36:15.294529900Z",
     "start_time": "2023-08-25T01:36:15.213380100Z"
    }
   }
  },
  {
   "cell_type": "code",
   "execution_count": 37,
   "outputs": [],
   "source": [
    "n_days_for_prediction=200"
   ],
   "metadata": {
    "collapsed": false,
    "ExecuteTime": {
     "end_time": "2023-08-25T01:36:15.327526800Z",
     "start_time": "2023-08-25T01:36:15.227376800Z"
    }
   }
  },
  {
   "cell_type": "code",
   "execution_count": 38,
   "outputs": [
    {
     "name": "stdout",
     "output_type": "stream",
     "text": [
      "7/7 [==============================] - 0s 7ms/step\n"
     ]
    }
   ],
   "source": [
    "prediction = model.predict(trainX[-n_days_for_prediction:])"
   ],
   "metadata": {
    "collapsed": false,
    "ExecuteTime": {
     "end_time": "2023-08-25T01:36:15.793997300Z",
     "start_time": "2023-08-25T01:36:15.245382100Z"
    }
   }
  },
  {
   "cell_type": "code",
   "execution_count": 39,
   "outputs": [],
   "source": [
    "true = trainY[-n_days_for_prediction:]"
   ],
   "metadata": {
    "collapsed": false,
    "ExecuteTime": {
     "end_time": "2023-08-25T01:36:15.794995100Z",
     "start_time": "2023-08-25T01:36:15.777982400Z"
    }
   }
  },
  {
   "cell_type": "code",
   "execution_count": 40,
   "outputs": [
    {
     "data": {
      "text/plain": "<Figure size 640x480 with 1 Axes>",
      "image/png": "[encoded data removed]"
     },
     "metadata": {},
     "output_type": "display_data"
    }
   ],
   "source": [
    "# Plot the training and validation accuracy\n",
    "plt.plot(prediction)\n",
    "plt.plot(true)\n",
    "plt.title('Compare')\n",
    "plt.xlabel('Datetime')\n",
    "plt.ylabel('Traffic Volume (Scaled)')\n",
    "plt.legend(['Prediction','True'], loc='upper left')\n",
    "plt.show()"
   ],
   "metadata": {
    "collapsed": false,
    "ExecuteTime": {
     "end_time": "2023-08-25T01:36:16.138863200Z",
     "start_time": "2023-08-25T01:36:15.782996Z"
    }
   }
  },
  {
   "cell_type": "code",
   "execution_count": 41,
   "outputs": [
    {
     "ename": "ValueError",
     "evalue": "operands could not be broadcast together with shapes (200,73) (5,) (200,73) ",
     "output_type": "error",
     "traceback": [
      "\u001B[1;31m---------------------------------------------------------------------------\u001B[0m",
      "\u001B[1;31mValueError\u001B[0m                                Traceback (most recent call last)",
      "Cell \u001B[1;32mIn[41], line 2\u001B[0m\n\u001B[0;32m      1\u001B[0m prediction_copies \u001B[38;5;241m=\u001B[39m np\u001B[38;5;241m.\u001B[39mrepeat(prediction, df_processed\u001B[38;5;241m.\u001B[39mshape[\u001B[38;5;241m1\u001B[39m], axis\u001B[38;5;241m=\u001B[39m\u001B[38;5;241m-\u001B[39m\u001B[38;5;241m1\u001B[39m)\n\u001B[1;32m----> 2\u001B[0m y_pred_future \u001B[38;5;241m=\u001B[39m \u001B[43mscaler\u001B[49m\u001B[38;5;241;43m.\u001B[39;49m\u001B[43minverse_transform\u001B[49m\u001B[43m(\u001B[49m\u001B[43mprediction_copies\u001B[49m\u001B[43m)\u001B[49m[:,\u001B[38;5;241m-\u001B[39m\u001B[38;5;241m1\u001B[39m]\n",
      "File \u001B[1;32m~\\PycharmProjects\\pythonProject1\\venv\\lib\\site-packages\\sklearn\\preprocessing\\_data.py:1064\u001B[0m, in \u001B[0;36mStandardScaler.inverse_transform\u001B[1;34m(self, X, copy)\u001B[0m\n\u001B[0;32m   1062\u001B[0m \u001B[38;5;28;01melse\u001B[39;00m:\n\u001B[0;32m   1063\u001B[0m     \u001B[38;5;28;01mif\u001B[39;00m \u001B[38;5;28mself\u001B[39m\u001B[38;5;241m.\u001B[39mwith_std:\n\u001B[1;32m-> 1064\u001B[0m         X \u001B[38;5;241m*\u001B[39m\u001B[38;5;241m=\u001B[39m \u001B[38;5;28mself\u001B[39m\u001B[38;5;241m.\u001B[39mscale_\n\u001B[0;32m   1065\u001B[0m     \u001B[38;5;28;01mif\u001B[39;00m \u001B[38;5;28mself\u001B[39m\u001B[38;5;241m.\u001B[39mwith_mean:\n\u001B[0;32m   1066\u001B[0m         X \u001B[38;5;241m+\u001B[39m\u001B[38;5;241m=\u001B[39m \u001B[38;5;28mself\u001B[39m\u001B[38;5;241m.\u001B[39mmean_\n",
      "\u001B[1;31mValueError\u001B[0m: operands could not be broadcast together with shapes (200,73) (5,) (200,73) "
     ]
    }
   ],
   "source": [
    "prediction_copies = np.repeat(prediction, df_processed.shape[1], axis=-1)\n",
    "y_pred_future = scaler.inverse_transform(prediction_copies)[:,-1]"
   ],
   "metadata": {
    "collapsed": false,
    "ExecuteTime": {
     "end_time": "2023-08-25T01:36:17.552488Z",
     "start_time": "2023-08-25T01:36:16.145849100Z"
    }
   }
  },
  {
   "cell_type": "code",
   "execution_count": null,
   "outputs": [],
   "source": [
    "y_pred_future"
   ],
   "metadata": {
    "collapsed": false
   }
  },
  {
   "cell_type": "code",
   "execution_count": null,
   "outputs": [],
   "source": [
    "true = df_raw['traffic_volume'][-n_days_for_prediction:].values"
   ],
   "metadata": {
    "collapsed": false
   }
  },
  {
   "cell_type": "code",
   "execution_count": null,
   "outputs": [],
   "source": [
    "true"
   ],
   "metadata": {
    "collapsed": false
   }
  },
  {
   "cell_type": "code",
   "execution_count": null,
   "outputs": [],
   "source": [
    "# Plot the training and validation accuracy\n",
    "plt.plot(y_pred_future)\n",
    "plt.plot(true)\n",
    "plt.title('Compare')\n",
    "plt.xlabel('Datetime')\n",
    "plt.ylabel('Traffic Volume (Unscaled)')\n",
    "plt.legend(['Prediction','True'], loc='upper left')\n",
    "plt.show()"
   ],
   "metadata": {
    "collapsed": false
   }
  },
  {
   "cell_type": "markdown",
   "source": [
    "# Modeling"
   ],
   "metadata": {
    "collapsed": false
   }
  },
  {
   "cell_type": "code",
   "execution_count": 42,
   "outputs": [
    {
     "name": "stdout",
     "output_type": "stream",
     "text": [
      "trainX shape == (33736, 14, 4).\n",
      "trainY shape == (33736, 1).\n"
     ]
    }
   ],
   "source": [
    "print('trainX shape == {}.'.format(trainX.shape))\n",
    "print('trainY shape == {}.'.format(trainY.shape))"
   ],
   "metadata": {
    "collapsed": false,
    "ExecuteTime": {
     "end_time": "2023-08-25T01:36:24.651315100Z",
     "start_time": "2023-08-25T01:36:24.620136Z"
    }
   }
  },
  {
   "cell_type": "code",
   "execution_count": 43,
   "outputs": [],
   "source": [
    "total_samples = trainX.shape[0]\n",
    "split_index = int(total_samples * 0.7)\n",
    "\n",
    "X_train = trainX[:split_index]\n",
    "y_train = trainY[:split_index]\n",
    "X_test = trainX[split_index:]\n",
    "y_test = trainY[split_index:]"
   ],
   "metadata": {
    "collapsed": false,
    "ExecuteTime": {
     "end_time": "2023-08-25T01:36:24.795423300Z",
     "start_time": "2023-08-25T01:36:24.770881Z"
    }
   }
  },
  {
   "cell_type": "code",
   "execution_count": 44,
   "outputs": [
    {
     "data": {
      "text/plain": "23615"
     },
     "execution_count": 44,
     "metadata": {},
     "output_type": "execute_result"
    }
   ],
   "source": [
    "len(X_train)"
   ],
   "metadata": {
    "collapsed": false,
    "ExecuteTime": {
     "end_time": "2023-08-25T01:36:24.940972200Z",
     "start_time": "2023-08-25T01:36:24.912981500Z"
    }
   }
  },
  {
   "cell_type": "code",
   "execution_count": 45,
   "outputs": [
    {
     "data": {
      "text/plain": "10121"
     },
     "execution_count": 45,
     "metadata": {},
     "output_type": "execute_result"
    }
   ],
   "source": [
    "len(X_test)"
   ],
   "metadata": {
    "collapsed": false,
    "ExecuteTime": {
     "end_time": "2023-08-25T01:36:25.078540200Z",
     "start_time": "2023-08-25T01:36:25.049543300Z"
    }
   }
  },
  {
   "cell_type": "code",
   "execution_count": 46,
   "outputs": [
    {
     "name": "stdout",
     "output_type": "stream",
     "text": [
      "Model: \"sequential_1\"\n",
      "_________________________________________________________________\n",
      " Layer (type)                Output Shape              Param #   \n",
      "=================================================================\n",
      " gru_2 (GRU)                 (None, 14, 128)           51456     \n",
      "                                                                 \n",
      " gru_3 (GRU)                 (None, 64)                37248     \n",
      "                                                                 \n",
      " dropout_1 (Dropout)         (None, 64)                0         \n",
      "                                                                 \n",
      " dense_1 (Dense)             (None, 1)                 65        \n",
      "                                                                 \n",
      "=================================================================\n",
      "Total params: 88,769\n",
      "Trainable params: 88,769\n",
      "Non-trainable params: 0\n",
      "_________________________________________________________________\n"
     ]
    }
   ],
   "source": [
    "model = Sequential()\n",
    "model.add(GRU(128, activation='relu', input_shape=(trainX.shape[1], trainX.shape[2]), return_sequences=True))\n",
    "model.add(GRU(64, activation='relu', return_sequences=False))\n",
    "model.add(Dropout(0.2))\n",
    "model.add(Dense(trainY.shape[1]))\n",
    "\n",
    "model.compile(optimizer='adam', loss='mse')\n",
    "model.summary()"
   ],
   "metadata": {
    "collapsed": false,
    "ExecuteTime": {
     "end_time": "2023-08-25T01:36:25.526075400Z",
     "start_time": "2023-08-25T01:36:25.263816500Z"
    }
   }
  },
  {
   "cell_type": "code",
   "execution_count": 47,
   "outputs": [
    {
     "name": "stdout",
     "output_type": "stream",
     "text": [
      "Epoch 1/5\n",
      "1329/1329 [==============================] - 21s 14ms/step - loss: 0.1407 - val_loss: 0.1224\n",
      "Epoch 2/5\n",
      "1329/1329 [==============================] - 17s 13ms/step - loss: 0.1032 - val_loss: 0.1078\n",
      "Epoch 3/5\n",
      "1329/1329 [==============================] - 18s 13ms/step - loss: 0.0951 - val_loss: 0.1005\n",
      "Epoch 4/5\n",
      "1329/1329 [==============================] - 18s 14ms/step - loss: 0.0897 - val_loss: 0.1414\n",
      "Epoch 5/5\n",
      "1329/1329 [==============================] - 18s 14ms/step - loss: 0.0871 - val_loss: 0.0926\n"
     ]
    },
    {
     "data": {
      "text/plain": "<matplotlib.legend.Legend at 0x18229300f10>"
     },
     "execution_count": 47,
     "metadata": {},
     "output_type": "execute_result"
    },
    {
     "data": {
      "text/plain": "<Figure size 640x480 with 1 Axes>",
      "image/png": "[encoded data removed]"
     },
     "metadata": {},
     "output_type": "display_data"
    }
   ],
   "source": [
    "# fit the model\n",
    "history = model.fit(X_train, y_train, epochs=5, batch_size=16, validation_split=0.1, verbose=1)\n",
    "\n",
    "plt.plot(history.history['loss'], label='Training loss')\n",
    "plt.plot(history.history['val_loss'], label='Validation loss')\n",
    "plt.legend()"
   ],
   "metadata": {
    "collapsed": false,
    "ExecuteTime": {
     "end_time": "2023-08-25T01:37:58.846855900Z",
     "start_time": "2023-08-25T01:36:25.488034100Z"
    }
   }
  },
  {
   "cell_type": "code",
   "execution_count": 48,
   "outputs": [
    {
     "name": "stdout",
     "output_type": "stream",
     "text": [
      "317/317 [==============================] - 2s 6ms/step\n"
     ]
    }
   ],
   "source": [
    "prediction = model.predict(X_test)"
   ],
   "metadata": {
    "collapsed": false,
    "ExecuteTime": {
     "end_time": "2023-08-25T01:38:01.059388200Z",
     "start_time": "2023-08-25T01:37:58.848856700Z"
    }
   }
  },
  {
   "cell_type": "code",
   "execution_count": 49,
   "outputs": [
    {
     "data": {
      "text/plain": "<Figure size 640x480 with 1 Axes>",
      "image/png": "[encoded data removed]"
     },
     "metadata": {},
     "output_type": "display_data"
    }
   ],
   "source": [
    "# Plot the training and validation accuracy\n",
    "plt.plot(prediction[:200])\n",
    "plt.plot(y_test[:200])\n",
    "plt.title('Prediction vs Real (Scaled)')\n",
    "plt.xlabel('Datetime (harusnya)')\n",
    "plt.ylabel('Traffic Volume (Scaled)')\n",
    "plt.legend(['Prediction','True'], loc='upper left')\n",
    "plt.show()"
   ],
   "metadata": {
    "collapsed": false,
    "ExecuteTime": {
     "end_time": "2023-08-25T01:38:01.324172800Z",
     "start_time": "2023-08-25T01:38:01.069794Z"
    }
   }
  },
  {
   "cell_type": "code",
   "execution_count": 50,
   "outputs": [
    {
     "name": "stdout",
     "output_type": "stream",
     "text": [
      "738/738 [==============================] - 4s 6ms/step\n",
      "317/317 [==============================] - 2s 6ms/step\n",
      "Train MSE: 0.07619598257436877\n",
      "Train RMSE: 0.2760361979421698\n",
      "Train MAE: 0.1773733034883362\n",
      "Train R2: 0.9256098690736023\n",
      "Test MSE: 0.04849980902464089\n",
      "Test RMSE: 0.22022672186780806\n",
      "Test MAE: 0.15307028227252584\n",
      "Test R2: 0.9485128448274016\n"
     ]
    }
   ],
   "source": [
    "# Evaluate the model on train set\n",
    "train_prediction = model.predict(X_train)\n",
    "train_mse = np.mean((train_prediction - y_train) ** 2)\n",
    "train_rmse = np.sqrt(train_mse)\n",
    "train_mae = np.mean(np.abs(train_prediction - y_train))\n",
    "train_r2 = 1 - (np.sum((y_train - train_prediction) ** 2) / np.sum((y_train - y_train.mean()) ** 2))\n",
    "\n",
    "# Evaluate the model on test set\n",
    "test_prediction = model.predict(X_test)\n",
    "test_mse = np.mean((test_prediction - y_test) ** 2)\n",
    "test_rmse = np.sqrt(test_mse)\n",
    "test_mae = np.mean(np.abs(test_prediction - y_test))\n",
    "test_r2 = 1 - (np.sum((y_test - test_prediction) ** 2) / np.sum((y_test - y_test.mean()) ** 2))\n",
    "\n",
    "print(\"Train MSE:\", train_mse)\n",
    "print(\"Train RMSE:\", train_rmse)\n",
    "print(\"Train MAE:\", train_mae)\n",
    "print(\"Train R2:\", train_r2)\n",
    "\n",
    "print(\"Test MSE:\", test_mse)\n",
    "print(\"Test RMSE:\", test_rmse)\n",
    "print(\"Test MAE:\", test_mae)\n",
    "print(\"Test R2:\", test_r2)"
   ],
   "metadata": {
    "collapsed": false,
    "ExecuteTime": {
     "end_time": "2023-08-25T01:38:07.806700400Z",
     "start_time": "2023-08-25T01:38:01.329184300Z"
    }
   }
  },
  {
   "cell_type": "code",
   "execution_count": 51,
   "outputs": [],
   "source": [
    "prediction_copies = np.repeat(prediction, df_selected.shape[1], axis=-1)\n",
    "y_pred_future = scaler.inverse_transform(prediction_copies)[:, 0]"
   ],
   "metadata": {
    "collapsed": false,
    "ExecuteTime": {
     "end_time": "2023-08-25T01:38:07.822501400Z",
     "start_time": "2023-08-25T01:38:07.807700900Z"
    }
   }
  },
  {
   "cell_type": "code",
   "execution_count": 52,
   "outputs": [
    {
     "data": {
      "text/plain": "array([3668.4163, 3566.679 , 3113.6294, ..., 1985.3738, 1950.3145,\n       1260.9594], dtype=float32)"
     },
     "execution_count": 52,
     "metadata": {},
     "output_type": "execute_result"
    }
   ],
   "source": [
    "y_pred_future"
   ],
   "metadata": {
    "collapsed": false,
    "ExecuteTime": {
     "end_time": "2023-08-25T01:38:07.862162700Z",
     "start_time": "2023-08-25T01:38:07.825484700Z"
    }
   }
  },
  {
   "cell_type": "code",
   "execution_count": 53,
   "outputs": [],
   "source": [
    "true_value = df_raw['traffic_volume'][split_index+14:].values"
   ],
   "metadata": {
    "collapsed": false,
    "ExecuteTime": {
     "end_time": "2023-08-25T01:38:07.863168200Z",
     "start_time": "2023-08-25T01:38:07.840147700Z"
    }
   }
  },
  {
   "cell_type": "code",
   "execution_count": 54,
   "outputs": [
    {
     "data": {
      "text/plain": "33750"
     },
     "execution_count": 54,
     "metadata": {},
     "output_type": "execute_result"
    }
   ],
   "source": [
    "len(df_raw['traffic_volume'])"
   ],
   "metadata": {
    "collapsed": false,
    "ExecuteTime": {
     "end_time": "2023-08-25T01:38:07.877679200Z",
     "start_time": "2023-08-25T01:38:07.859154Z"
    }
   }
  },
  {
   "cell_type": "code",
   "execution_count": 55,
   "outputs": [
    {
     "data": {
      "text/plain": "33736"
     },
     "execution_count": 55,
     "metadata": {},
     "output_type": "execute_result"
    }
   ],
   "source": [
    "len(trainY)"
   ],
   "metadata": {
    "collapsed": false,
    "ExecuteTime": {
     "end_time": "2023-08-25T01:38:07.885683Z",
     "start_time": "2023-08-25T01:38:07.871154500Z"
    }
   }
  },
  {
   "cell_type": "code",
   "execution_count": 56,
   "outputs": [
    {
     "data": {
      "text/plain": "array([4603, 3465, 3140, ..., 2194, 1328, 1328], dtype=int64)"
     },
     "execution_count": 56,
     "metadata": {},
     "output_type": "execute_result"
    }
   ],
   "source": [
    "true_value"
   ],
   "metadata": {
    "collapsed": false,
    "ExecuteTime": {
     "end_time": "2023-08-25T01:38:07.959949800Z",
     "start_time": "2023-08-25T01:38:07.886680800Z"
    }
   }
  },
  {
   "cell_type": "code",
   "execution_count": 57,
   "outputs": [
    {
     "data": {
      "text/plain": "<Figure size 640x480 with 1 Axes>",
      "image/png": "[encoded data removed]"
     },
     "metadata": {},
     "output_type": "display_data"
    }
   ],
   "source": [
    "# Plot Prediction vs Real Data\n",
    "plt.plot(y_pred_future[:200])\n",
    "plt.plot(true_value[:200])\n",
    "plt.title('Prediction vs Real (Unscaled)')\n",
    "plt.xlabel('Datetime (harusnya)')\n",
    "plt.ylabel('Traffic Volume')\n",
    "plt.legend(['Prediction','True'], loc='upper left')\n",
    "plt.show()"
   ],
   "metadata": {
    "collapsed": false,
    "ExecuteTime": {
     "end_time": "2023-08-25T01:38:08.166136400Z",
     "start_time": "2023-08-25T01:38:07.901940400Z"
    }
   }
  },
  {
   "cell_type": "code",
   "execution_count": 58,
   "outputs": [],
   "source": [
    "model.save('XAI_1.h5')"
   ],
   "metadata": {
    "collapsed": false,
    "ExecuteTime": {
     "end_time": "2023-08-25T01:38:08.272583500Z",
     "start_time": "2023-08-25T01:38:08.168124100Z"
    }
   }
  },
  {
   "cell_type": "code",
   "execution_count": 59,
   "outputs": [
    {
     "name": "stdout",
     "output_type": "stream",
     "text": [
      "<class 'pandas.core.frame.DataFrame'>\n",
      "RangeIndex: 33750 entries, 0 to 33749\n",
      "Data columns (total 15 columns):\n",
      " #   Column               Non-Null Count  Dtype  \n",
      "---  ------               --------------  -----  \n",
      " 0   date_time            33750 non-null  object \n",
      " 1   is_holiday           33750 non-null  object \n",
      " 2   air_pollution_index  33750 non-null  int64  \n",
      " 3   humidity             33750 non-null  int64  \n",
      " 4   wind_speed           33750 non-null  int64  \n",
      " 5   wind_direction       33750 non-null  int64  \n",
      " 6   visibility_in_miles  33750 non-null  int64  \n",
      " 7   dew_point            33750 non-null  int64  \n",
      " 8   temperature          33750 non-null  float64\n",
      " 9   rain_p_h             33750 non-null  float64\n",
      " 10  snow_p_h             33750 non-null  float64\n",
      " 11  clouds_all           33750 non-null  int64  \n",
      " 12  weather_type         33750 non-null  object \n",
      " 13  weather_description  33750 non-null  object \n",
      " 14  traffic_volume       33750 non-null  int64  \n",
      "dtypes: float64(3), int64(8), object(4)\n",
      "memory usage: 3.9+ MB\n"
     ]
    }
   ],
   "source": [
    "df_raw.info()"
   ],
   "metadata": {
    "collapsed": false,
    "ExecuteTime": {
     "end_time": "2023-08-25T01:38:08.286103900Z",
     "start_time": "2023-08-25T01:38:08.232560100Z"
    }
   }
  },
  {
   "cell_type": "code",
   "execution_count": 60,
   "outputs": [
    {
     "data": {
      "text/plain": "                 date_time is_holiday  air_pollution_index  humidity  \\\n33745  2017-05-17 21:00:00       None                   74        85   \n33746  2017-05-17 22:00:00       None                   81        70   \n33747  2017-05-17 22:00:00       None                  138        70   \n33748  2017-05-17 23:00:00       None                  229        66   \n33749  2017-05-17 23:00:00       None                  140        63   \n\n       wind_speed  wind_direction  visibility_in_miles  dew_point  \\\n33745           1             328                    7          7   \n33746           1              24                    2          2   \n33747           1              24                    1          1   \n33748           1              42                    6          6   \n33749           1              27                    8          8   \n\n       temperature  rain_p_h  snow_p_h  clouds_all weather_type  \\\n33745       287.88       0.0       0.0          90         Mist   \n33746       286.95       0.0       0.0          90         Rain   \n33747       286.95       0.0       0.0          90         Mist   \n33748       285.75       0.0       0.0          90         Rain   \n33749       285.75       0.0       0.0          90         Mist   \n\n        weather_description  traffic_volume  \n33745                  mist            2348  \n33746  heavy intensity rain            2194  \n33747                  mist            2194  \n33748  heavy intensity rain            1328  \n33749                  mist            1328  ",
      "text/html": "<div>\n<style scoped>\n    .dataframe tbody tr th:only-of-type {\n        vertical-align: middle;\n    }\n\n    .dataframe tbody tr th {\n        vertical-align: top;\n    }\n\n    .dataframe thead th {\n        text-align: right;\n    }\n</style>\n<table border=\"1\" class=\"dataframe\">\n  <thead>\n    <tr style=\"text-align: right;\">\n      <th></th>\n      <th>date_time</th>\n      <th>is_holiday</th>\n      <th>air_pollution_index</th>\n      <th>humidity</th>\n      <th>wind_speed</th>\n      <th>wind_direction</th>\n      <th>visibility_in_miles</th>\n      <th>dew_point</th>\n      <th>temperature</th>\n      <th>rain_p_h</th>\n      <th>snow_p_h</th>\n      <th>clouds_all</th>\n      <th>weather_type</th>\n      <th>weather_description</th>\n      <th>traffic_volume</th>\n    </tr>\n  </thead>\n  <tbody>\n    <tr>\n      <th>33745</th>\n      <td>2017-05-17 21:00:00</td>\n      <td>None</td>\n      <td>74</td>\n      <td>85</td>\n      <td>1</td>\n      <td>328</td>\n      <td>7</td>\n      <td>7</td>\n      <td>287.88</td>\n      <td>0.0</td>\n      <td>0.0</td>\n      <td>90</td>\n      <td>Mist</td>\n      <td>mist</td>\n      <td>2348</td>\n    </tr>\n    <tr>\n      <th>33746</th>\n      <td>2017-05-17 22:00:00</td>\n      <td>None</td>\n      <td>81</td>\n      <td>70</td>\n      <td>1</td>\n      <td>24</td>\n      <td>2</td>\n      <td>2</td>\n      <td>286.95</td>\n      <td>0.0</td>\n      <td>0.0</td>\n      <td>90</td>\n      <td>Rain</td>\n      <td>heavy intensity rain</td>\n      <td>2194</td>\n    </tr>\n    <tr>\n      <th>33747</th>\n      <td>2017-05-17 22:00:00</td>\n      <td>None</td>\n      <td>138</td>\n      <td>70</td>\n      <td>1</td>\n      <td>24</td>\n      <td>1</td>\n      <td>1</td>\n      <td>286.95</td>\n      <td>0.0</td>\n      <td>0.0</td>\n      <td>90</td>\n      <td>Mist</td>\n      <td>mist</td>\n      <td>2194</td>\n    </tr>\n    <tr>\n      <th>33748</th>\n      <td>2017-05-17 23:00:00</td>\n      <td>None</td>\n      <td>229</td>\n      <td>66</td>\n      <td>1</td>\n      <td>42</td>\n      <td>6</td>\n      <td>6</td>\n      <td>285.75</td>\n      <td>0.0</td>\n      <td>0.0</td>\n      <td>90</td>\n      <td>Rain</td>\n      <td>heavy intensity rain</td>\n      <td>1328</td>\n    </tr>\n    <tr>\n      <th>33749</th>\n      <td>2017-05-17 23:00:00</td>\n      <td>None</td>\n      <td>140</td>\n      <td>63</td>\n      <td>1</td>\n      <td>27</td>\n      <td>8</td>\n      <td>8</td>\n      <td>285.75</td>\n      <td>0.0</td>\n      <td>0.0</td>\n      <td>90</td>\n      <td>Mist</td>\n      <td>mist</td>\n      <td>1328</td>\n    </tr>\n  </tbody>\n</table>\n</div>"
     },
     "execution_count": 60,
     "metadata": {},
     "output_type": "execute_result"
    }
   ],
   "source": [
    "df_raw.tail()"
   ],
   "metadata": {
    "collapsed": false,
    "ExecuteTime": {
     "end_time": "2023-08-25T01:38:08.350111400Z",
     "start_time": "2023-08-25T01:38:08.279104500Z"
    }
   }
  },
  {
   "cell_type": "code",
   "execution_count": 61,
   "outputs": [],
   "source": [
    "df_test_raw = pd.read_csv('Test.csv')"
   ],
   "metadata": {
    "collapsed": false,
    "ExecuteTime": {
     "end_time": "2023-08-25T01:38:08.486802Z",
     "start_time": "2023-08-25T01:38:08.309104300Z"
    }
   }
  },
  {
   "cell_type": "code",
   "execution_count": 62,
   "outputs": [
    {
     "name": "stdout",
     "output_type": "stream",
     "text": [
      "<class 'pandas.core.frame.DataFrame'>\n",
      "RangeIndex: 14454 entries, 0 to 14453\n",
      "Data columns (total 14 columns):\n",
      " #   Column               Non-Null Count  Dtype  \n",
      "---  ------               --------------  -----  \n",
      " 0   date_time            14454 non-null  object \n",
      " 1   is_holiday           14454 non-null  object \n",
      " 2   air_pollution_index  14454 non-null  int64  \n",
      " 3   humidity             14454 non-null  int64  \n",
      " 4   wind_speed           14454 non-null  int64  \n",
      " 5   wind_direction       14454 non-null  int64  \n",
      " 6   visibility_in_miles  14454 non-null  int64  \n",
      " 7   dew_point            14454 non-null  int64  \n",
      " 8   temperature          14454 non-null  float64\n",
      " 9   rain_p_h             14454 non-null  float64\n",
      " 10  snow_p_h             14454 non-null  int64  \n",
      " 11  clouds_all           14454 non-null  int64  \n",
      " 12  weather_type         14454 non-null  object \n",
      " 13  weather_description  14454 non-null  object \n",
      "dtypes: float64(2), int64(8), object(4)\n",
      "memory usage: 1.5+ MB\n"
     ]
    }
   ],
   "source": [
    "df_test_raw.info()"
   ],
   "metadata": {
    "collapsed": false,
    "ExecuteTime": {
     "end_time": "2023-08-25T01:38:08.532803800Z",
     "start_time": "2023-08-25T01:38:08.355104200Z"
    }
   }
  },
  {
   "cell_type": "code",
   "execution_count": 63,
   "outputs": [],
   "source": [
    "# Convert it to datetime format\n",
    "df_test_raw['date_time'] = pd.to_datetime(df_test_raw['date_time'])\n",
    "\n",
    "# Set 'date_time' as the index\n",
    "df_test_raw.set_index('date_time', inplace=True)"
   ],
   "metadata": {
    "collapsed": false,
    "ExecuteTime": {
     "end_time": "2023-08-25T01:38:08.533805100Z",
     "start_time": "2023-08-25T01:38:08.441636700Z"
    }
   }
  },
  {
   "cell_type": "code",
   "execution_count": 64,
   "outputs": [
    {
     "data": {
      "text/plain": "                    is_holiday  air_pollution_index  humidity  wind_speed  \\\ndate_time                                                                   \n2017-05-18 00:00:00       None                   73        63           1   \n2017-05-18 00:00:00       None                  251        63           1   \n2017-05-18 00:00:00       None                   75        56           1   \n2017-05-18 01:00:00       None                   98        56           1   \n2017-05-18 01:00:00       None                  283        56           1   \n\n                     wind_direction  visibility_in_miles  dew_point  \\\ndate_time                                                             \n2017-05-18 00:00:00              27                    4          4   \n2017-05-18 00:00:00              27                    4          4   \n2017-05-18 00:00:00               0                    1          1   \n2017-05-18 01:00:00             351                    2          2   \n2017-05-18 01:00:00             351                    1          1   \n\n                     temperature  rain_p_h  snow_p_h  clouds_all weather_type  \\\ndate_time                                                                       \n2017-05-18 00:00:00       285.15       0.0         0          90         Rain   \n2017-05-18 00:00:00       285.15       0.0         0          90         Mist   \n2017-05-18 00:00:00       285.15       0.0         0          90      Drizzle   \n2017-05-18 01:00:00       284.79       0.0         0          90         Rain   \n2017-05-18 01:00:00       284.79       0.0         0          90         Mist   \n\n                         weather_description  \ndate_time                                     \n2017-05-18 00:00:00            moderate rain  \n2017-05-18 00:00:00                     mist  \n2017-05-18 00:00:00  light intensity drizzle  \n2017-05-18 01:00:00     heavy intensity rain  \n2017-05-18 01:00:00                     mist  ",
      "text/html": "<div>\n<style scoped>\n    .dataframe tbody tr th:only-of-type {\n        vertical-align: middle;\n    }\n\n    .dataframe tbody tr th {\n        vertical-align: top;\n    }\n\n    .dataframe thead th {\n        text-align: right;\n    }\n</style>\n<table border=\"1\" class=\"dataframe\">\n  <thead>\n    <tr style=\"text-align: right;\">\n      <th></th>\n      <th>is_holiday</th>\n      <th>air_pollution_index</th>\n      <th>humidity</th>\n      <th>wind_speed</th>\n      <th>wind_direction</th>\n      <th>visibility_in_miles</th>\n      <th>dew_point</th>\n      <th>temperature</th>\n      <th>rain_p_h</th>\n      <th>snow_p_h</th>\n      <th>clouds_all</th>\n      <th>weather_type</th>\n      <th>weather_description</th>\n    </tr>\n    <tr>\n      <th>date_time</th>\n      <th></th>\n      <th></th>\n      <th></th>\n      <th></th>\n      <th></th>\n      <th></th>\n      <th></th>\n      <th></th>\n      <th></th>\n      <th></th>\n      <th></th>\n      <th></th>\n      <th></th>\n    </tr>\n  </thead>\n  <tbody>\n    <tr>\n      <th>2017-05-18 00:00:00</th>\n      <td>None</td>\n      <td>73</td>\n      <td>63</td>\n      <td>1</td>\n      <td>27</td>\n      <td>4</td>\n      <td>4</td>\n      <td>285.15</td>\n      <td>0.0</td>\n      <td>0</td>\n      <td>90</td>\n      <td>Rain</td>\n      <td>moderate rain</td>\n    </tr>\n    <tr>\n      <th>2017-05-18 00:00:00</th>\n      <td>None</td>\n      <td>251</td>\n      <td>63</td>\n      <td>1</td>\n      <td>27</td>\n      <td>4</td>\n      <td>4</td>\n      <td>285.15</td>\n      <td>0.0</td>\n      <td>0</td>\n      <td>90</td>\n      <td>Mist</td>\n      <td>mist</td>\n    </tr>\n    <tr>\n      <th>2017-05-18 00:00:00</th>\n      <td>None</td>\n      <td>75</td>\n      <td>56</td>\n      <td>1</td>\n      <td>0</td>\n      <td>1</td>\n      <td>1</td>\n      <td>285.15</td>\n      <td>0.0</td>\n      <td>0</td>\n      <td>90</td>\n      <td>Drizzle</td>\n      <td>light intensity drizzle</td>\n    </tr>\n    <tr>\n      <th>2017-05-18 01:00:00</th>\n      <td>None</td>\n      <td>98</td>\n      <td>56</td>\n      <td>1</td>\n      <td>351</td>\n      <td>2</td>\n      <td>2</td>\n      <td>284.79</td>\n      <td>0.0</td>\n      <td>0</td>\n      <td>90</td>\n      <td>Rain</td>\n      <td>heavy intensity rain</td>\n    </tr>\n    <tr>\n      <th>2017-05-18 01:00:00</th>\n      <td>None</td>\n      <td>283</td>\n      <td>56</td>\n      <td>1</td>\n      <td>351</td>\n      <td>1</td>\n      <td>1</td>\n      <td>284.79</td>\n      <td>0.0</td>\n      <td>0</td>\n      <td>90</td>\n      <td>Mist</td>\n      <td>mist</td>\n    </tr>\n  </tbody>\n</table>\n</div>"
     },
     "execution_count": 64,
     "metadata": {},
     "output_type": "execute_result"
    }
   ],
   "source": [
    "df_test_raw.head()"
   ],
   "metadata": {
    "collapsed": false,
    "ExecuteTime": {
     "end_time": "2023-08-25T01:38:08.535825600Z",
     "start_time": "2023-08-25T01:38:08.442640600Z"
    }
   }
  },
  {
   "cell_type": "code",
   "execution_count": 65,
   "outputs": [],
   "source": [
    "df_is_holiday = pd.get_dummies(df_test_raw['is_holiday'])\n",
    "df_weather_type = pd.get_dummies(df_test_raw['weather_type'])\n",
    "df_weather_description = pd.get_dummies(df_test_raw['weather_description'])"
   ],
   "metadata": {
    "collapsed": false,
    "ExecuteTime": {
     "end_time": "2023-08-25T01:38:08.539803800Z",
     "start_time": "2023-08-25T01:38:08.442640600Z"
    }
   }
  },
  {
   "cell_type": "code",
   "execution_count": 66,
   "outputs": [],
   "source": [
    "df_test_processed = pd.concat([df_test_raw, df_is_holiday, df_weather_type, df_weather_description], axis=1)"
   ],
   "metadata": {
    "collapsed": false,
    "ExecuteTime": {
     "end_time": "2023-08-25T01:38:08.563425700Z",
     "start_time": "2023-08-25T01:38:08.451650200Z"
    }
   }
  },
  {
   "cell_type": "code",
   "execution_count": 67,
   "outputs": [
    {
     "name": "stdout",
     "output_type": "stream",
     "text": [
      "<class 'pandas.core.frame.DataFrame'>\n",
      "DatetimeIndex: 14454 entries, 2017-05-18 00:00:00 to 2018-09-30 23:00:00\n",
      "Data columns (total 67 columns):\n",
      " #   Column                               Non-Null Count  Dtype  \n",
      "---  ------                               --------------  -----  \n",
      " 0   is_holiday                           14454 non-null  object \n",
      " 1   air_pollution_index                  14454 non-null  int64  \n",
      " 2   humidity                             14454 non-null  int64  \n",
      " 3   wind_speed                           14454 non-null  int64  \n",
      " 4   wind_direction                       14454 non-null  int64  \n",
      " 5   visibility_in_miles                  14454 non-null  int64  \n",
      " 6   dew_point                            14454 non-null  int64  \n",
      " 7   temperature                          14454 non-null  float64\n",
      " 8   rain_p_h                             14454 non-null  float64\n",
      " 9   snow_p_h                             14454 non-null  int64  \n",
      " 10  clouds_all                           14454 non-null  int64  \n",
      " 11  weather_type                         14454 non-null  object \n",
      " 12  weather_description                  14454 non-null  object \n",
      " 13  Christmas Day                        14454 non-null  uint8  \n",
      " 14  Columbus Day                         14454 non-null  uint8  \n",
      " 15  Independence Day                     14454 non-null  uint8  \n",
      " 16  Labor Day                            14454 non-null  uint8  \n",
      " 17  Martin Luther King Jr Day            14454 non-null  uint8  \n",
      " 18  Memorial Day                         14454 non-null  uint8  \n",
      " 19  New Years Day                        14454 non-null  uint8  \n",
      " 20  None                                 14454 non-null  uint8  \n",
      " 21  State Fair                           14454 non-null  uint8  \n",
      " 22  Thanksgiving Day                     14454 non-null  uint8  \n",
      " 23  Veterans Day                         14454 non-null  uint8  \n",
      " 24  Washingtons Birthday                 14454 non-null  uint8  \n",
      " 25  Clear                                14454 non-null  uint8  \n",
      " 26  Clouds                               14454 non-null  uint8  \n",
      " 27  Drizzle                              14454 non-null  uint8  \n",
      " 28  Fog                                  14454 non-null  uint8  \n",
      " 29  Haze                                 14454 non-null  uint8  \n",
      " 30  Mist                                 14454 non-null  uint8  \n",
      " 31  Rain                                 14454 non-null  uint8  \n",
      " 32  Smoke                                14454 non-null  uint8  \n",
      " 33  Snow                                 14454 non-null  uint8  \n",
      " 34  Thunderstorm                         14454 non-null  uint8  \n",
      " 35  Sky is Clear                         14454 non-null  uint8  \n",
      " 36  broken clouds                        14454 non-null  uint8  \n",
      " 37  drizzle                              14454 non-null  uint8  \n",
      " 38  few clouds                           14454 non-null  uint8  \n",
      " 39  fog                                  14454 non-null  uint8  \n",
      " 40  haze                                 14454 non-null  uint8  \n",
      " 41  heavy intensity drizzle              14454 non-null  uint8  \n",
      " 42  heavy intensity rain                 14454 non-null  uint8  \n",
      " 43  heavy snow                           14454 non-null  uint8  \n",
      " 44  light intensity drizzle              14454 non-null  uint8  \n",
      " 45  light intensity shower rain          14454 non-null  uint8  \n",
      " 46  light rain                           14454 non-null  uint8  \n",
      " 47  light shower snow                    14454 non-null  uint8  \n",
      " 48  light snow                           14454 non-null  uint8  \n",
      " 49  mist                                 14454 non-null  uint8  \n",
      " 50  moderate rain                        14454 non-null  uint8  \n",
      " 51  overcast clouds                      14454 non-null  uint8  \n",
      " 52  proximity shower rain                14454 non-null  uint8  \n",
      " 53  proximity thunderstorm               14454 non-null  uint8  \n",
      " 54  proximity thunderstorm with drizzle  14454 non-null  uint8  \n",
      " 55  proximity thunderstorm with rain     14454 non-null  uint8  \n",
      " 56  scattered clouds                     14454 non-null  uint8  \n",
      " 57  shower drizzle                       14454 non-null  uint8  \n",
      " 58  sky is clear                         14454 non-null  uint8  \n",
      " 59  sleet                                14454 non-null  uint8  \n",
      " 60  smoke                                14454 non-null  uint8  \n",
      " 61  snow                                 14454 non-null  uint8  \n",
      " 62  thunderstorm                         14454 non-null  uint8  \n",
      " 63  thunderstorm with heavy rain         14454 non-null  uint8  \n",
      " 64  thunderstorm with light drizzle      14454 non-null  uint8  \n",
      " 65  thunderstorm with light rain         14454 non-null  uint8  \n",
      " 66  thunderstorm with rain               14454 non-null  uint8  \n",
      "dtypes: float64(2), int64(8), object(3), uint8(54)\n",
      "memory usage: 2.3+ MB\n"
     ]
    }
   ],
   "source": [
    "df_test_processed.info()"
   ],
   "metadata": {
    "collapsed": false,
    "ExecuteTime": {
     "end_time": "2023-08-25T01:38:08.572427800Z",
     "start_time": "2023-08-25T01:38:08.467653400Z"
    }
   }
  },
  {
   "cell_type": "code",
   "execution_count": 68,
   "outputs": [
    {
     "name": "stdout",
     "output_type": "stream",
     "text": [
      "<class 'pandas.core.frame.DataFrame'>\n",
      "DatetimeIndex: 33750 entries, 2012-10-02 09:00:00 to 2017-05-17 23:00:00\n",
      "Data columns (total 73 columns):\n",
      " #   Column                               Non-Null Count  Dtype  \n",
      "---  ------                               --------------  -----  \n",
      " 0   air_pollution_index                  33750 non-null  int64  \n",
      " 1   humidity                             33750 non-null  int64  \n",
      " 2   wind_speed                           33750 non-null  int64  \n",
      " 3   wind_direction                       33750 non-null  int64  \n",
      " 4   visibility_in_miles                  33750 non-null  int64  \n",
      " 5   dew_point                            33750 non-null  int64  \n",
      " 6   temperature                          33750 non-null  float64\n",
      " 7   rain_p_h                             33750 non-null  float64\n",
      " 8   snow_p_h                             33750 non-null  float64\n",
      " 9   clouds_all                           33750 non-null  int64  \n",
      " 10  hour                                 33750 non-null  int64  \n",
      " 11  Christmas Day                        33750 non-null  uint8  \n",
      " 12  Columbus Day                         33750 non-null  uint8  \n",
      " 13  Independence Day                     33750 non-null  uint8  \n",
      " 14  Labor Day                            33750 non-null  uint8  \n",
      " 15  Martin Luther King Jr Day            33750 non-null  uint8  \n",
      " 16  Memorial Day                         33750 non-null  uint8  \n",
      " 17  New Years Day                        33750 non-null  uint8  \n",
      " 18  None                                 33750 non-null  uint8  \n",
      " 19  State Fair                           33750 non-null  uint8  \n",
      " 20  Thanksgiving Day                     33750 non-null  uint8  \n",
      " 21  Veterans Day                         33750 non-null  uint8  \n",
      " 22  Washingtons Birthday                 33750 non-null  uint8  \n",
      " 23  Clear                                33750 non-null  uint8  \n",
      " 24  Clouds                               33750 non-null  uint8  \n",
      " 25  Drizzle                              33750 non-null  uint8  \n",
      " 26  Fog                                  33750 non-null  uint8  \n",
      " 27  Haze                                 33750 non-null  uint8  \n",
      " 28  Mist                                 33750 non-null  uint8  \n",
      " 29  Rain                                 33750 non-null  uint8  \n",
      " 30  Smoke                                33750 non-null  uint8  \n",
      " 31  Snow                                 33750 non-null  uint8  \n",
      " 32  Squall                               33750 non-null  uint8  \n",
      " 33  Thunderstorm                         33750 non-null  uint8  \n",
      " 34  SQUALLS                              33750 non-null  uint8  \n",
      " 35  Sky is Clear                         33750 non-null  uint8  \n",
      " 36  broken clouds                        33750 non-null  uint8  \n",
      " 37  drizzle                              33750 non-null  uint8  \n",
      " 38  few clouds                           33750 non-null  uint8  \n",
      " 39  fog                                  33750 non-null  uint8  \n",
      " 40  freezing rain                        33750 non-null  uint8  \n",
      " 41  haze                                 33750 non-null  uint8  \n",
      " 42  heavy intensity drizzle              33750 non-null  uint8  \n",
      " 43  heavy intensity rain                 33750 non-null  uint8  \n",
      " 44  heavy snow                           33750 non-null  uint8  \n",
      " 45  light intensity drizzle              33750 non-null  uint8  \n",
      " 46  light intensity shower rain          33750 non-null  uint8  \n",
      " 47  light rain                           33750 non-null  uint8  \n",
      " 48  light rain and snow                  33750 non-null  uint8  \n",
      " 49  light shower snow                    33750 non-null  uint8  \n",
      " 50  light snow                           33750 non-null  uint8  \n",
      " 51  mist                                 33750 non-null  uint8  \n",
      " 52  moderate rain                        33750 non-null  uint8  \n",
      " 53  overcast clouds                      33750 non-null  uint8  \n",
      " 54  proximity shower rain                33750 non-null  uint8  \n",
      " 55  proximity thunderstorm               33750 non-null  uint8  \n",
      " 56  proximity thunderstorm with drizzle  33750 non-null  uint8  \n",
      " 57  proximity thunderstorm with rain     33750 non-null  uint8  \n",
      " 58  scattered clouds                     33750 non-null  uint8  \n",
      " 59  shower drizzle                       33750 non-null  uint8  \n",
      " 60  shower snow                          33750 non-null  uint8  \n",
      " 61  sky is clear                         33750 non-null  uint8  \n",
      " 62  sleet                                33750 non-null  uint8  \n",
      " 63  smoke                                33750 non-null  uint8  \n",
      " 64  snow                                 33750 non-null  uint8  \n",
      " 65  thunderstorm                         33750 non-null  uint8  \n",
      " 66  thunderstorm with drizzle            33750 non-null  uint8  \n",
      " 67  thunderstorm with heavy rain         33750 non-null  uint8  \n",
      " 68  thunderstorm with light drizzle      33750 non-null  uint8  \n",
      " 69  thunderstorm with light rain         33750 non-null  uint8  \n",
      " 70  thunderstorm with rain               33750 non-null  uint8  \n",
      " 71  very heavy rain                      33750 non-null  uint8  \n",
      " 72  traffic_volume                       33750 non-null  int64  \n",
      "dtypes: float64(3), int64(9), uint8(61)\n",
      "memory usage: 5.3 MB\n"
     ]
    }
   ],
   "source": [
    "df_processed.info()"
   ],
   "metadata": {
    "collapsed": false,
    "ExecuteTime": {
     "end_time": "2023-08-25T01:38:08.572427800Z",
     "start_time": "2023-08-25T01:38:08.498802300Z"
    }
   }
  },
  {
   "cell_type": "code",
   "execution_count": 69,
   "outputs": [],
   "source": [
    "df_test_processed.drop(columns=['is_holiday', 'weather_type', 'weather_description'], inplace=True)"
   ],
   "metadata": {
    "collapsed": false,
    "ExecuteTime": {
     "end_time": "2023-08-25T01:38:08.573427500Z",
     "start_time": "2023-08-25T01:38:08.535825600Z"
    }
   }
  },
  {
   "cell_type": "code",
   "execution_count": 70,
   "outputs": [],
   "source": [
    "train_columns = df_processed.columns\n",
    "test_columns = df_test_processed.columns"
   ],
   "metadata": {
    "collapsed": false,
    "ExecuteTime": {
     "end_time": "2023-08-25T01:38:08.676063200Z",
     "start_time": "2023-08-25T01:38:08.560421300Z"
    }
   }
  },
  {
   "cell_type": "code",
   "execution_count": 71,
   "outputs": [],
   "source": [
    "diff = []\n",
    "for i, col in enumerate(train_columns):\n",
    "  if col not in test_columns:\n",
    "    diff.append([i, col])"
   ],
   "metadata": {
    "collapsed": false,
    "ExecuteTime": {
     "end_time": "2023-08-25T01:38:08.686613400Z",
     "start_time": "2023-08-25T01:38:08.575429200Z"
    }
   }
  },
  {
   "cell_type": "code",
   "execution_count": 72,
   "outputs": [
    {
     "data": {
      "text/plain": "[[10, 'hour'],\n [32, 'Squall'],\n [34, 'SQUALLS'],\n [40, 'freezing rain'],\n [48, 'light rain and snow'],\n [60, 'shower snow'],\n [66, 'thunderstorm with drizzle'],\n [71, 'very heavy rain'],\n [72, 'traffic_volume']]"
     },
     "execution_count": 72,
     "metadata": {},
     "output_type": "execute_result"
    }
   ],
   "source": [
    "diff"
   ],
   "metadata": {
    "collapsed": false,
    "ExecuteTime": {
     "end_time": "2023-08-25T01:38:08.722613800Z",
     "start_time": "2023-08-25T01:38:08.589950900Z"
    }
   }
  },
  {
   "cell_type": "code",
   "execution_count": 73,
   "outputs": [],
   "source": [
    "length = df_test_processed.shape[0]\n",
    "zero_array = np.zeros(length)"
   ],
   "metadata": {
    "collapsed": false,
    "ExecuteTime": {
     "end_time": "2023-08-25T01:38:08.753603900Z",
     "start_time": "2023-08-25T01:38:08.604959400Z"
    }
   }
  },
  {
   "cell_type": "code",
   "execution_count": 74,
   "outputs": [],
   "source": [
    "for col in diff:\n",
    "  df_test_processed.insert(col[0], col[1], zero_array)"
   ],
   "metadata": {
    "collapsed": false,
    "ExecuteTime": {
     "end_time": "2023-08-25T01:38:08.757615200Z",
     "start_time": "2023-08-25T01:38:08.619953700Z"
    }
   }
  },
  {
   "cell_type": "code",
   "execution_count": 75,
   "outputs": [
    {
     "name": "stdout",
     "output_type": "stream",
     "text": [
      "<class 'pandas.core.frame.DataFrame'>\n",
      "DatetimeIndex: 14454 entries, 2017-05-18 00:00:00 to 2018-09-30 23:00:00\n",
      "Data columns (total 73 columns):\n",
      " #   Column                               Non-Null Count  Dtype  \n",
      "---  ------                               --------------  -----  \n",
      " 0   air_pollution_index                  14454 non-null  int64  \n",
      " 1   humidity                             14454 non-null  int64  \n",
      " 2   wind_speed                           14454 non-null  int64  \n",
      " 3   wind_direction                       14454 non-null  int64  \n",
      " 4   visibility_in_miles                  14454 non-null  int64  \n",
      " 5   dew_point                            14454 non-null  int64  \n",
      " 6   temperature                          14454 non-null  float64\n",
      " 7   rain_p_h                             14454 non-null  float64\n",
      " 8   snow_p_h                             14454 non-null  int64  \n",
      " 9   clouds_all                           14454 non-null  int64  \n",
      " 10  hour                                 14454 non-null  float64\n",
      " 11  Christmas Day                        14454 non-null  uint8  \n",
      " 12  Columbus Day                         14454 non-null  uint8  \n",
      " 13  Independence Day                     14454 non-null  uint8  \n",
      " 14  Labor Day                            14454 non-null  uint8  \n",
      " 15  Martin Luther King Jr Day            14454 non-null  uint8  \n",
      " 16  Memorial Day                         14454 non-null  uint8  \n",
      " 17  New Years Day                        14454 non-null  uint8  \n",
      " 18  None                                 14454 non-null  uint8  \n",
      " 19  State Fair                           14454 non-null  uint8  \n",
      " 20  Thanksgiving Day                     14454 non-null  uint8  \n",
      " 21  Veterans Day                         14454 non-null  uint8  \n",
      " 22  Washingtons Birthday                 14454 non-null  uint8  \n",
      " 23  Clear                                14454 non-null  uint8  \n",
      " 24  Clouds                               14454 non-null  uint8  \n",
      " 25  Drizzle                              14454 non-null  uint8  \n",
      " 26  Fog                                  14454 non-null  uint8  \n",
      " 27  Haze                                 14454 non-null  uint8  \n",
      " 28  Mist                                 14454 non-null  uint8  \n",
      " 29  Rain                                 14454 non-null  uint8  \n",
      " 30  Smoke                                14454 non-null  uint8  \n",
      " 31  Snow                                 14454 non-null  uint8  \n",
      " 32  Squall                               14454 non-null  float64\n",
      " 33  Thunderstorm                         14454 non-null  uint8  \n",
      " 34  SQUALLS                              14454 non-null  float64\n",
      " 35  Sky is Clear                         14454 non-null  uint8  \n",
      " 36  broken clouds                        14454 non-null  uint8  \n",
      " 37  drizzle                              14454 non-null  uint8  \n",
      " 38  few clouds                           14454 non-null  uint8  \n",
      " 39  fog                                  14454 non-null  uint8  \n",
      " 40  freezing rain                        14454 non-null  float64\n",
      " 41  haze                                 14454 non-null  uint8  \n",
      " 42  heavy intensity drizzle              14454 non-null  uint8  \n",
      " 43  heavy intensity rain                 14454 non-null  uint8  \n",
      " 44  heavy snow                           14454 non-null  uint8  \n",
      " 45  light intensity drizzle              14454 non-null  uint8  \n",
      " 46  light intensity shower rain          14454 non-null  uint8  \n",
      " 47  light rain                           14454 non-null  uint8  \n",
      " 48  light rain and snow                  14454 non-null  float64\n",
      " 49  light shower snow                    14454 non-null  uint8  \n",
      " 50  light snow                           14454 non-null  uint8  \n",
      " 51  mist                                 14454 non-null  uint8  \n",
      " 52  moderate rain                        14454 non-null  uint8  \n",
      " 53  overcast clouds                      14454 non-null  uint8  \n",
      " 54  proximity shower rain                14454 non-null  uint8  \n",
      " 55  proximity thunderstorm               14454 non-null  uint8  \n",
      " 56  proximity thunderstorm with drizzle  14454 non-null  uint8  \n",
      " 57  proximity thunderstorm with rain     14454 non-null  uint8  \n",
      " 58  scattered clouds                     14454 non-null  uint8  \n",
      " 59  shower drizzle                       14454 non-null  uint8  \n",
      " 60  shower snow                          14454 non-null  float64\n",
      " 61  sky is clear                         14454 non-null  uint8  \n",
      " 62  sleet                                14454 non-null  uint8  \n",
      " 63  smoke                                14454 non-null  uint8  \n",
      " 64  snow                                 14454 non-null  uint8  \n",
      " 65  thunderstorm                         14454 non-null  uint8  \n",
      " 66  thunderstorm with drizzle            14454 non-null  float64\n",
      " 67  thunderstorm with heavy rain         14454 non-null  uint8  \n",
      " 68  thunderstorm with light drizzle      14454 non-null  uint8  \n",
      " 69  thunderstorm with light rain         14454 non-null  uint8  \n",
      " 70  thunderstorm with rain               14454 non-null  uint8  \n",
      " 71  very heavy rain                      14454 non-null  float64\n",
      " 72  traffic_volume                       14454 non-null  float64\n",
      "dtypes: float64(11), int64(8), uint8(54)\n",
      "memory usage: 2.9 MB\n"
     ]
    }
   ],
   "source": [
    "df_test_processed.info()"
   ],
   "metadata": {
    "collapsed": false,
    "ExecuteTime": {
     "end_time": "2023-08-25T01:38:08.758618Z",
     "start_time": "2023-08-25T01:38:08.635961700Z"
    }
   }
  },
  {
   "cell_type": "code",
   "execution_count": null,
   "outputs": [],
   "source": [
    "df_raya = df_test_processed.copy()"
   ],
   "metadata": {
    "collapsed": false
   }
  },
  {
   "cell_type": "code",
   "execution_count": null,
   "outputs": [],
   "source": [],
   "metadata": {
    "collapsed": false
   }
  }
 ],
 "metadata": {
  "kernelspec": {
   "display_name": "Python 3",
   "language": "python",
   "name": "python3"
  },
  "language_info": {
   "codemirror_mode": {
    "name": "ipython",
    "version": 2
   },
   "file_extension": ".py",
   "mimetype": "text/x-python",
   "name": "python",
   "nbconvert_exporter": "python",
   "pygments_lexer": "ipython2",
   "version": "2.7.6"
  }
 },
 "nbformat": 4,
 "nbformat_minor": 0
}
