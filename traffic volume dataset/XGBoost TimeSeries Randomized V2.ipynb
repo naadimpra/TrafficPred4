{
 "cells": [
  {
   "cell_type": "code",
   "execution_count": 1,
   "outputs": [
    {
     "data": {
      "text/plain": "                 date_time is_holiday  air_pollution_index  humidity  \\\n0      2012-10-02 09:00:00       None                  121        89   \n1      2012-10-02 10:00:00       None                  178        67   \n2      2012-10-02 11:00:00       None                  113        66   \n3      2012-10-02 12:00:00       None                   20        66   \n4      2012-10-02 13:00:00       None                  281        65   \n...                    ...        ...                  ...       ...   \n33745  2017-05-17 21:00:00       None                   74        85   \n33746  2017-05-17 22:00:00       None                   81        70   \n33747  2017-05-17 22:00:00       None                  138        70   \n33748  2017-05-17 23:00:00       None                  229        66   \n33749  2017-05-17 23:00:00       None                  140        63   \n\n       wind_speed  wind_direction  visibility_in_miles  dew_point  \\\n0               2             329                    1          1   \n1               3             330                    1          1   \n2               3             329                    2          2   \n3               3             329                    5          5   \n4               3             329                    7          7   \n...           ...             ...                  ...        ...   \n33745           1             328                    7          7   \n33746           1              24                    2          2   \n33747           1              24                    1          1   \n33748           1              42                    6          6   \n33749           1              27                    8          8   \n\n       temperature  rain_p_h  snow_p_h  clouds_all weather_type  \\\n0           288.28       0.0       0.0          40       Clouds   \n1           289.36       0.0       0.0          75       Clouds   \n2           289.58       0.0       0.0          90       Clouds   \n3           290.13       0.0       0.0          90       Clouds   \n4           291.14       0.0       0.0          75       Clouds   \n...            ...       ...       ...         ...          ...   \n33745       287.88       0.0       0.0          90         Mist   \n33746       286.95       0.0       0.0          90         Rain   \n33747       286.95       0.0       0.0          90         Mist   \n33748       285.75       0.0       0.0          90         Rain   \n33749       285.75       0.0       0.0          90         Mist   \n\n        weather_description  traffic_volume  \n0          scattered clouds            5545  \n1             broken clouds            4516  \n2           overcast clouds            4767  \n3           overcast clouds            5026  \n4             broken clouds            4918  \n...                     ...             ...  \n33745                  mist            2348  \n33746  heavy intensity rain            2194  \n33747                  mist            2194  \n33748  heavy intensity rain            1328  \n33749                  mist            1328  \n\n[33750 rows x 15 columns]",
      "text/html": "<div>\n<style scoped>\n    .dataframe tbody tr th:only-of-type {\n        vertical-align: middle;\n    }\n\n    .dataframe tbody tr th {\n        vertical-align: top;\n    }\n\n    .dataframe thead th {\n        text-align: right;\n    }\n</style>\n<table border=\"1\" class=\"dataframe\">\n  <thead>\n    <tr style=\"text-align: right;\">\n      <th></th>\n      <th>date_time</th>\n      <th>is_holiday</th>\n      <th>air_pollution_index</th>\n      <th>humidity</th>\n      <th>wind_speed</th>\n      <th>wind_direction</th>\n      <th>visibility_in_miles</th>\n      <th>dew_point</th>\n      <th>temperature</th>\n      <th>rain_p_h</th>\n      <th>snow_p_h</th>\n      <th>clouds_all</th>\n      <th>weather_type</th>\n      <th>weather_description</th>\n      <th>traffic_volume</th>\n    </tr>\n  </thead>\n  <tbody>\n    <tr>\n      <th>0</th>\n      <td>2012-10-02 09:00:00</td>\n      <td>None</td>\n      <td>121</td>\n      <td>89</td>\n      <td>2</td>\n      <td>329</td>\n      <td>1</td>\n      <td>1</td>\n      <td>288.28</td>\n      <td>0.0</td>\n      <td>0.0</td>\n      <td>40</td>\n      <td>Clouds</td>\n      <td>scattered clouds</td>\n      <td>5545</td>\n    </tr>\n    <tr>\n      <th>1</th>\n      <td>2012-10-02 10:00:00</td>\n      <td>None</td>\n      <td>178</td>\n      <td>67</td>\n      <td>3</td>\n      <td>330</td>\n      <td>1</td>\n      <td>1</td>\n      <td>289.36</td>\n      <td>0.0</td>\n      <td>0.0</td>\n      <td>75</td>\n      <td>Clouds</td>\n      <td>broken clouds</td>\n      <td>4516</td>\n    </tr>\n    <tr>\n      <th>2</th>\n      <td>2012-10-02 11:00:00</td>\n      <td>None</td>\n      <td>113</td>\n      <td>66</td>\n      <td>3</td>\n      <td>329</td>\n      <td>2</td>\n      <td>2</td>\n      <td>289.58</td>\n      <td>0.0</td>\n      <td>0.0</td>\n      <td>90</td>\n      <td>Clouds</td>\n      <td>overcast clouds</td>\n      <td>4767</td>\n    </tr>\n    <tr>\n      <th>3</th>\n      <td>2012-10-02 12:00:00</td>\n      <td>None</td>\n      <td>20</td>\n      <td>66</td>\n      <td>3</td>\n      <td>329</td>\n      <td>5</td>\n      <td>5</td>\n      <td>290.13</td>\n      <td>0.0</td>\n      <td>0.0</td>\n      <td>90</td>\n      <td>Clouds</td>\n      <td>overcast clouds</td>\n      <td>5026</td>\n    </tr>\n    <tr>\n      <th>4</th>\n      <td>2012-10-02 13:00:00</td>\n      <td>None</td>\n      <td>281</td>\n      <td>65</td>\n      <td>3</td>\n      <td>329</td>\n      <td>7</td>\n      <td>7</td>\n      <td>291.14</td>\n      <td>0.0</td>\n      <td>0.0</td>\n      <td>75</td>\n      <td>Clouds</td>\n      <td>broken clouds</td>\n      <td>4918</td>\n    </tr>\n    <tr>\n      <th>...</th>\n      <td>...</td>\n      <td>...</td>\n      <td>...</td>\n      <td>...</td>\n      <td>...</td>\n      <td>...</td>\n      <td>...</td>\n      <td>...</td>\n      <td>...</td>\n      <td>...</td>\n      <td>...</td>\n      <td>...</td>\n      <td>...</td>\n      <td>...</td>\n      <td>...</td>\n    </tr>\n    <tr>\n      <th>33745</th>\n      <td>2017-05-17 21:00:00</td>\n      <td>None</td>\n      <td>74</td>\n      <td>85</td>\n      <td>1</td>\n      <td>328</td>\n      <td>7</td>\n      <td>7</td>\n      <td>287.88</td>\n      <td>0.0</td>\n      <td>0.0</td>\n      <td>90</td>\n      <td>Mist</td>\n      <td>mist</td>\n      <td>2348</td>\n    </tr>\n    <tr>\n      <th>33746</th>\n      <td>2017-05-17 22:00:00</td>\n      <td>None</td>\n      <td>81</td>\n      <td>70</td>\n      <td>1</td>\n      <td>24</td>\n      <td>2</td>\n      <td>2</td>\n      <td>286.95</td>\n      <td>0.0</td>\n      <td>0.0</td>\n      <td>90</td>\n      <td>Rain</td>\n      <td>heavy intensity rain</td>\n      <td>2194</td>\n    </tr>\n    <tr>\n      <th>33747</th>\n      <td>2017-05-17 22:00:00</td>\n      <td>None</td>\n      <td>138</td>\n      <td>70</td>\n      <td>1</td>\n      <td>24</td>\n      <td>1</td>\n      <td>1</td>\n      <td>286.95</td>\n      <td>0.0</td>\n      <td>0.0</td>\n      <td>90</td>\n      <td>Mist</td>\n      <td>mist</td>\n      <td>2194</td>\n    </tr>\n    <tr>\n      <th>33748</th>\n      <td>2017-05-17 23:00:00</td>\n      <td>None</td>\n      <td>229</td>\n      <td>66</td>\n      <td>1</td>\n      <td>42</td>\n      <td>6</td>\n      <td>6</td>\n      <td>285.75</td>\n      <td>0.0</td>\n      <td>0.0</td>\n      <td>90</td>\n      <td>Rain</td>\n      <td>heavy intensity rain</td>\n      <td>1328</td>\n    </tr>\n    <tr>\n      <th>33749</th>\n      <td>2017-05-17 23:00:00</td>\n      <td>None</td>\n      <td>140</td>\n      <td>63</td>\n      <td>1</td>\n      <td>27</td>\n      <td>8</td>\n      <td>8</td>\n      <td>285.75</td>\n      <td>0.0</td>\n      <td>0.0</td>\n      <td>90</td>\n      <td>Mist</td>\n      <td>mist</td>\n      <td>1328</td>\n    </tr>\n  </tbody>\n</table>\n<p>33750 rows × 15 columns</p>\n</div>"
     },
     "execution_count": 1,
     "metadata": {},
     "output_type": "execute_result"
    }
   ],
   "source": [
    "import pandas as pd\n",
    "\n",
    "# Load the dataset\n",
    "df = pd.read_csv('Train.csv')\n",
    "\n",
    "# Display the first few rows to check for a column that might indicate holidays\n",
    "print(df.head())\n"
   ],
   "metadata": {
    "collapsed": false,
    "ExecuteTime": {
     "end_time": "2023-11-26T13:17:21.991263500Z",
     "start_time": "2023-11-26T13:17:21.288708400Z"
    }
   },
   "id": "9a53a4c71404b9c"
  },
  {
   "cell_type": "code",
   "execution_count": 2,
   "outputs": [
    {
     "name": "stdout",
     "output_type": "stream",
     "text": [
      "['None' 'Columbus Day' 'Veterans Day' 'Thanksgiving Day' 'Christmas Day'\n",
      " 'New Years Day' 'Washingtons Birthday' 'Memorial Day' 'Independence Day'\n",
      " 'State Fair' 'Labor Day' 'Martin Luther King Jr Day']\n",
      "0    33707\n",
      "1       43\n",
      "Name: is_holiday, dtype: int64\n"
     ]
    }
   ],
   "source": [
    "import pandas as pd\n",
    "\n",
    "# Load the dataset\n",
    "df = pd.read_csv('Train.csv')\n",
    "\n",
    "# Check unique values in the 'is_holiday' column\n",
    "print(df['is_holiday'].unique())\n",
    "\n",
    "# Convert any value that is not 'None' to 1 (indicating a holiday) and 'None' to 0\n",
    "df['is_holiday'] = df['is_holiday'].apply(lambda x: 0 if x == 'None' else 1)\n",
    "\n",
    "# Verify the conversion\n",
    "print(df['is_holiday'].value_counts())\n"
   ],
   "metadata": {
    "collapsed": false,
    "ExecuteTime": {
     "end_time": "2023-11-26T13:17:21.991263500Z",
     "start_time": "2023-11-26T13:17:21.383705500Z"
    }
   },
   "id": "a98cee913eb1cc7"
  },
  {
   "cell_type": "code",
   "execution_count": 3,
   "outputs": [
    {
     "name": "stdout",
     "output_type": "stream",
     "text": [
      "is_holiday\n",
      "0    3243.182395\n",
      "1     838.116279\n",
      "Name: traffic_volume, dtype: float64\n"
     ]
    }
   ],
   "source": [
    "# Group by the 'is_holiday' column and calculate average traffic volume\n",
    "average_traffic_by_holiday = df.groupby('is_holiday')['traffic_volume'].mean()\n",
    "print(average_traffic_by_holiday)"
   ],
   "metadata": {
    "collapsed": false,
    "ExecuteTime": {
     "end_time": "2023-11-26T13:17:21.992264800Z",
     "start_time": "2023-11-26T13:17:21.473708800Z"
    }
   },
   "id": "acadb4bd248eb689"
  },
  {
   "cell_type": "code",
   "execution_count": 4,
   "outputs": [
    {
     "data": {
      "text/plain": "<Figure size 640x480 with 1 Axes>",
      "image/png": "[encoded data removed]"
     },
     "metadata": {},
     "output_type": "display_data"
    }
   ],
   "source": [
    "import matplotlib.pyplot as plt\n",
    "\n",
    "# Plot average traffic volume by holiday status\n",
    "average_traffic_by_holiday.plot(kind='bar')\n",
    "plt.title('Average Traffic Volume by Holiday Status')\n",
    "plt.xlabel('Is Holiday')\n",
    "plt.ylabel('Average Traffic Volume')\n",
    "plt.xticks(ticks=[0, 1], labels=['Non-Holiday', 'Holiday'], rotation=0)\n",
    "plt.show()"
   ],
   "metadata": {
    "collapsed": false,
    "ExecuteTime": {
     "end_time": "2023-11-26T13:17:21.993268500Z",
     "start_time": "2023-11-26T13:17:21.491705600Z"
    }
   },
   "id": "df88cfa4ab986f6"
  },
  {
   "cell_type": "code",
   "execution_count": 5,
   "outputs": [
    {
     "data": {
      "text/plain": "<Figure size 1000x600 with 1 Axes>",
      "image/png": "[encoded data removed]"
     },
     "metadata": {},
     "output_type": "display_data"
    },
    {
     "data": {
      "text/plain": "<Figure size 1500x500 with 1 Axes>",
      "image/png": "[encoded data removed]"
     },
     "metadata": {},
     "output_type": "display_data"
    }
   ],
   "source": [
    "import pandas as pd\n",
    "import matplotlib.pyplot as plt\n",
    "import seaborn as sns\n",
    "\n",
    "# Load the dataset\n",
    "df_raw = pd.read_csv('Train.csv')\n",
    "df_raw['date_time'] = pd.to_datetime(df_raw['date_time'])\n",
    "df_raw.sort_values('date_time', inplace=True)\n",
    "df_raw.set_index('date_time', inplace=True)\n",
    "\n",
    "# Extract hour from the 'date_time' column\n",
    "df_raw['hour'] = df_raw.index.hour\n",
    "\n",
    "# One-hot encode categorical features\n",
    "df = pd.get_dummies(df_raw, columns=['is_holiday', 'weather_type', 'weather_description'], drop_first=True)\n",
    "\n",
    "# Feature engineering: create lagged and rolling features\n",
    "target = 'traffic_volume'\n",
    "for i in range(1, 4):\n",
    "    df[f'traffic_volume_lag_{i}'] = df[target].shift(i)\n",
    "df['traffic_volume_rolling_mean'] = df[target].rolling(window=3).mean().shift(1)\n",
    "df['traffic_volume_rolling_std'] = df[target].rolling(window=3).std().shift(1)\n",
    "\n",
    "# Drop rows with NaN values resulting from lagged features\n",
    "df.dropna(inplace=True)\n",
    "\n",
    "# Calculate IQR for outlier detection\n",
    "Q1 = df[target].quantile(0.25)\n",
    "Q3 = df[target].quantile(0.75)\n",
    "IQR = Q3 - Q1\n",
    "\n",
    "# Define outliers as those outside of Q1 - 1.5*IQR and Q3 + 1.5*IQR\n",
    "outliers = df[(df[target] < (Q1 - 1.5 * IQR)) | (df[target] > (Q3 + 1.5 * IQR))]\n",
    "\n",
    "# Plot to visualize outliers using a boxplot\n",
    "plt.figure(figsize=(10, 6))\n",
    "sns.boxplot(x=df[target])\n",
    "plt.title('Boxplot for Traffic Volume')\n",
    "plt.show()\n",
    "\n",
    "# Plot a time series graph highlighting outliers\n",
    "plt.figure(figsize=(15, 5))\n",
    "plt.plot(df.index, df[target], label='Traffic Volume')\n",
    "plt.scatter(outliers.index, outliers[target], color='red', label='Outliers', zorder=5)\n",
    "plt.title('Traffic Volume with Outliers Highlighted')\n",
    "plt.xlabel('Date Time')\n",
    "plt.ylabel('Traffic Volume')\n",
    "plt.legend()\n",
    "plt.show()\n"
   ],
   "metadata": {
    "collapsed": false,
    "ExecuteTime": {
     "end_time": "2023-11-26T13:17:23.071788200Z",
     "start_time": "2023-11-26T13:17:21.794271300Z"
    }
   },
   "id": "2b2e043675ace439"
  },
  {
   "cell_type": "code",
   "execution_count": 6,
   "outputs": [],
   "source": [
    "import pandas as pd\n",
    "import numpy as np\n",
    "import xgboost as xgb\n",
    "from sklearn.model_selection import TimeSeriesSplit\n",
    "from sklearn.preprocessing import StandardScaler\n",
    "from sklearn.metrics import mean_squared_error, mean_absolute_error, r2_score, make_scorer\n",
    "from sklearn.model_selection import RandomizedSearchCV\n",
    "from tqdm import tqdm\n",
    "import joblib\n",
    "import matplotlib.pyplot as plt"
   ],
   "metadata": {
    "collapsed": false,
    "ExecuteTime": {
     "end_time": "2023-11-26T13:17:23.261784300Z",
     "start_time": "2023-11-26T13:17:23.072786Z"
    }
   },
   "id": "76a0756df92ef0f9"
  },
  {
   "cell_type": "code",
   "execution_count": 7,
   "outputs": [],
   "source": [
    "# Define custom scorer for MAPE\n",
    "def mape_scorer(y_true, y_pred):\n",
    "    y_true, y_pred = np.array(y_true), np.array(y_pred)\n",
    "    non_zero_mask = y_true != 0\n",
    "    return np.mean(np.abs((y_true[non_zero_mask] - y_pred[non_zero_mask]) / y_true[non_zero_mask])) * 100\n",
    "\n",
    "# Make scorers from custom scoring functions\n",
    "mape = make_scorer(mape_scorer, greater_is_better=False)"
   ],
   "metadata": {
    "collapsed": false,
    "ExecuteTime": {
     "end_time": "2023-11-26T13:17:23.268785800Z",
     "start_time": "2023-11-26T13:17:23.256785600Z"
    }
   },
   "id": "ea799f3ffebda420"
  },
  {
   "cell_type": "code",
   "execution_count": null,
   "id": "initial_id",
   "metadata": {
    "collapsed": true,
    "ExecuteTime": {
     "start_time": "2023-11-26T13:17:25.576860700Z"
    }
   },
   "outputs": [],
   "source": [
    "\n",
    "# Load the dataset\n",
    "df_raw = pd.read_csv('Train.csv')\n",
    "\n",
    "# Convert the 'date_time' column to datetime and sort the dataset\n",
    "df_raw['date_time'] = pd.to_datetime(df_raw['date_time'])\n",
    "df_raw.sort_values('date_time', inplace=True)\n",
    "df_raw.set_index('date_time', inplace=True)\n",
    "\n",
    "# Convert 'is_holiday' from categorical to binary (1 for any holiday, 0 for non-holiday)\n",
    "df_raw['is_holiday'] = df_raw['is_holiday'].apply(lambda x: 0 if x == 'None' else 1)\n",
    "\n",
    "# Extract hour from the 'date_time' column\n",
    "df_raw['hour'] = df_raw.index.hour\n",
    "\n",
    "# One-hot encode categorical features\n",
    "df = pd.get_dummies(df_raw, columns=['weather_type', 'weather_description'], drop_first=True)\n",
    "\n",
    "# Feature engineering: create lagged and rolling features\n",
    "target = 'traffic_volume'\n",
    "for i in range(1, 4):\n",
    "    df[f'traffic_volume_lag_{i}'] = df[target].shift(i)\n",
    "df['traffic_volume_rolling_mean'] = df[target].rolling(window=3).mean().shift(1)\n",
    "df['traffic_volume_rolling_std'] = df[target].rolling(window=3).std().shift(1)\n",
    "\n",
    "# Remove rows with NaN values resulting from lagged features\n",
    "df.dropna(inplace=True)\n",
    "\n",
    "# Split the dataset into features and the target\n",
    "X = df.drop(target, axis=1)\n",
    "y = df[target]\n",
    "\n",
    "# Split the dataset into numerical and categorical features for scaling\n",
    "X_numerical = df.drop(list(df.filter(regex='is_holiday')), axis=1)\n",
    "X_categorical = df.filter(regex='is_holiday')\n",
    "\n",
    "# Scale the numerical features\n",
    "scaler = StandardScaler()\n",
    "X_numerical_scaled = scaler.fit_transform(X_numerical)\n",
    "\n",
    "# Combine scaled numerical and categorical features\n",
    "X_scaled = np.concatenate((X_numerical_scaled, X_categorical), axis=1)\n",
    "\n",
    "# Split the data into train and test sets\n",
    "total_samples = X_scaled.shape[0]\n",
    "split_index = int(total_samples * 0.9)\n",
    "\n",
    "X_train = X_scaled[:split_index]\n",
    "y_train = y.iloc[:split_index]\n",
    "X_test = X_scaled[split_index:]\n",
    "y_test = y.iloc[split_index:]\n",
    "\n",
    "# Initialize the XGBoost regressor\n",
    "xgboost_model = xgb.XGBRegressor(objective='reg:squarederror')\n",
    "\n",
    "# Define the parameter distributions for RandomizedSearchCV\n",
    "param_distributions = {\n",
    "    'n_estimators': [100, 200, 300],\n",
    "    'max_depth': [3, 5, 7],\n",
    "    'learning_rate': [0.01, 0.1, 0.2],\n",
    "    'subsample': [0.8, 0.9, 1.0],\n",
    "    'colsample_bytree': [0.8, 0.9, 1.0],\n",
    "    'gamma': [0, 0.1, 0.5, 1],\n",
    "    'reg_alpha': [0, 0.1, 1, 10]\n",
    "}\n",
    "\n",
    "# Update the scoring parameter with a dictionary of metrics\n",
    "scoring = {\n",
    "    'RMSE': 'neg_root_mean_squared_error',\n",
    "    'MSE': 'neg_mean_squared_error',\n",
    "    'MAE': 'neg_mean_absolute_error',\n",
    "    'MAPE': mape\n",
    "}\n",
    "\n",
    "# Create a TimeSeriesSplit cross-validator\n",
    "tscv = TimeSeriesSplit(n_splits=5)\n",
    "\n",
    "# Initialize the TqdmRandomizedSearchCV object with the time series cross-validator\n",
    "random_search = TqdmRandomizedSearchCV(\n",
    "    estimator=xgboost_model,\n",
    "    param_distributions=param_distributions,\n",
    "    n_iter=100,\n",
    "    scoring=scoring,\n",
    "    refit='RMSE',\n",
    "    cv=tscv,\n",
    "    verbose=1,\n",
    "    random_state=42\n",
    ")\n",
    "\n",
    "# Fit the random search to the scaled data\n",
    "random_search.fit(X_train, y_train)\n",
    "\n",
    "# Get the best parameters\n",
    "best_parameters = random_search.best_params_\n",
    "print(f\"Best parameters found: {best_parameters}\")\n",
    "\n",
    "# Train the best model on the scaled data\n",
    "best_model = random_search.best_estimator_\n",
    "\n",
    "# Evaluate the model using time series cross-validation on the training data\n",
    "train_rmse_list = []\n",
    "train_mae_list = []\n",
    "train_r2_list = []\n",
    "train_mape_list = []\n",
    "\n",
    "for train_index, test_index in tscv.split(X_train):\n",
    "    X_train_fold, X_test_fold = X_train[train_index], X_train[test_index]\n",
    "    y_train_fold, y_test_fold = y_train.iloc[train_index], y_train.iloc[test_index]\n",
    "\n",
    "    best_model.fit(X_train_fold, y_train_fold)\n",
    "    y_pred_train_fold = best_model.predict(X_train_fold)\n",
    "\n",
    "    rmse_train_fold = np.sqrt(mean_squared_error(y_train_fold, y_pred_train_fold))\n",
    "    mae_train_fold = mean_absolute_error(y_train_fold, y_pred_train_fold)\n",
    "    r2_train_fold = r2_score(y_train_fold, y_pred_train_fold)\n",
    "    mape_train_fold = mape_scorer(y_train_fold, y_pred_train_fold)\n",
    "\n",
    "    train_rmse_list.append(rmse_train_fold)\n",
    "    train_mae_list.append(mae_train_fold)\n",
    "    train_r2_list.append(r2_train_fold)\n",
    "    train_mape_list.append(mape_train_fold)\n",
    "\n",
    "# Print the average metrics over all folds for training data\n",
    "print(\"Average Training Metrics:\")\n",
    "print(f\"RMSE: {np.mean(train_rmse_list)}\")\n",
    "print(f\"MAE: {np.mean(train_mae_list)}\")\n",
    "print(f\"R-squared: {np.mean(train_r2_list)}\")\n",
    "print(f\"MAPE: {np.mean(train_mape_list)}\")\n",
    "\n",
    "# Evaluate the model using metrics on the validation data\n",
    "y_pred_val = best_model.predict(X_train[test_index])\n",
    "\n",
    "# Calculate the metrics for the validation set\n",
    "rmse_val = np.sqrt(mean_squared_error(y_train[test_index], y_pred_val))\n",
    "mae_val = mean_absolute_error(y_train[test_index], y_pred_val)\n",
    "r2_val = r2_score(y_train[test_index], y_pred_val)\n",
    "mape_val = mape_scorer(y_train[test_index], y_pred_val)\n",
    "\n",
    "# Print the metrics for the validation set\n",
    "print(\"\\nMetrics for Validation Set:\")\n",
    "print(f\"RMSE: {rmse_val}\")\n",
    "print(f\"MAE: {mae_val}\")\n",
    "print(f\"R-squared: {r2_val}\")\n",
    "print(f\"MAPE: {mape_val}\")"
   ]
  },
  {
   "cell_type": "code",
   "execution_count": null,
   "outputs": [],
   "source": [
    "# Plot the results for the unseen 7 days in the validation set\n",
    "comparison_val_df = pd.DataFrame({'Actual': y_train[test_index], 'Predicted': y_pred_val}, index=y_train[test_index].index)\n",
    "last_7_days_val = comparison_val_df.last('7D')  # '7D' for 7 days\n",
    "\n",
    "plt.figure(figsize=(15, 5))\n",
    "plt.plot(last_7_days_val['Actual'], label='Actual (Validation)', marker='o')\n",
    "plt.plot(last_7_days_val['Predicted'], label='Predicted (Validation)', marker='x', linestyle='--')\n",
    "plt.title('Actual vs Predicted Traffic Volume Over the Last 7 Days (Validation Set)')\n",
    "plt.xlabel('Date Time')\n",
    "plt.ylabel('Traffic Volume')\n",
    "plt.legend()\n",
    "plt.xticks(rotation=45)\n",
    "plt.tight_layout()\n",
    "plt.show()"
   ],
   "metadata": {
    "collapsed": false,
    "ExecuteTime": {
     "start_time": "2023-11-26T13:17:25.580866100Z"
    }
   },
   "id": "d852d70ec476163"
  },
  {
   "cell_type": "code",
   "execution_count": null,
   "outputs": [],
   "source": [
    "# ...\n",
    "\n",
    "# Print the date ranges for the last training split and the first few test splits\n",
    "for i, (train_index, test_index) in enumerate(tscv.split(X_train), 1):\n",
    "    train_start_date, train_end_date = df.index[train_index[0]], df.index[train_index[-1]]\n",
    "    test_start_date, test_end_date = df.index[test_index[0]], df.index[test_index[-1]]\n",
    "    \n",
    "    print(f\"Split {i}:\")\n",
    "    print(f\"Last Training Split: {train_start_date} to {train_end_date}\")\n",
    "    print(f\"First Test Split: {test_start_date} to {test_end_date}\")\n",
    "    print()\n",
    "\n",
    "# ...\n"
   ],
   "metadata": {
    "collapsed": false,
    "ExecuteTime": {
     "start_time": "2023-11-26T13:17:25.584869200Z"
    }
   },
   "id": "a9a2c9778dd48132"
  },
  {
   "cell_type": "code",
   "execution_count": null,
   "outputs": [],
   "source": [
    "# Calculate residuals\n",
    "residuals = y_test - y_pred\n",
    "\n",
    "# Plot residuals\n",
    "plt.figure(figsize=(10, 5))\n",
    "plt.scatter(y_test.index, residuals, label='Residuals')\n",
    "plt.hlines(y=0, xmin=y_test.index.min(), xmax=y_test.index.max(), color='red', linestyles='dashed', label='Zero Line')\n",
    "plt.title('Residuals of Traffic Volume Predictions')\n",
    "plt.xlabel('Date Time')\n",
    "plt.ylabel('Residuals')\n",
    "plt.legend()\n",
    "plt.show()\n"
   ],
   "metadata": {
    "collapsed": false,
    "ExecuteTime": {
     "start_time": "2023-11-26T13:17:25.587865300Z"
    }
   },
   "id": "bc6f8e43ca1df658"
  },
  {
   "cell_type": "code",
   "execution_count": null,
   "outputs": [],
   "source": [
    "from math import sqrt\n",
    "\n",
    "# Lists to store the RMSE of each fold\n",
    "train_rmse_list = []\n",
    "val_rmse_list = []\n",
    "\n",
    "#By using TimeSeriesSplit, you ensure that the validation data is always \"unseen\" to the model at the time of training.\n",
    "for train_index, val_index in tscv.split(X_scaled):\n",
    "    X_train_fold, X_val_fold = X_scaled[train_index], X_scaled[val_index]\n",
    "    y_train_fold, y_val_fold = y.iloc[train_index], y.iloc[val_index]\n",
    "\n",
    "    # Fit the model on the training fold\n",
    "    model = xgb.XGBRegressor(objective='reg:squarederror')\n",
    "    model.fit(X_train_fold, y_train_fold)\n",
    "\n",
    "    # Predict on the training and validation fold\n",
    "    y_train_pred = model.predict(X_train_fold)\n",
    "    y_val_pred = model.predict(X_val_fold)\n",
    "\n",
    "    # Calculate RMSE for the current fold\n",
    "    train_rmse = sqrt(mean_squared_error(y_train_fold, y_train_pred))\n",
    "    val_rmse = sqrt(mean_squared_error(y_val_fold, y_val_pred))\n",
    "\n",
    "    # Append to lists\n",
    "    train_rmse_list.append(train_rmse)\n",
    "    val_rmse_list.append(val_rmse)\n",
    "\n",
    "# Output the average RMSE across all folds\n",
    "print(f\"Average Train RMSE: {np.mean(train_rmse_list)}\")\n",
    "print(f\"Average Validation RMSE: {np.mean(val_rmse_list)}\")"
   ],
   "metadata": {
    "collapsed": false,
    "ExecuteTime": {
     "start_time": "2023-11-26T13:17:25.590862100Z"
    }
   },
   "id": "5c59a7165dbf421"
  },
  {
   "cell_type": "code",
   "execution_count": null,
   "outputs": [],
   "source": [
    "from sklearn.model_selection import cross_val_score\n",
    "\n",
    "# Perform cross-validation\n",
    "scores = cross_val_score(best_model, X_scaled, y, cv=tscv, scoring='neg_mean_squared_error')\n",
    "\n",
    "# Convert scores to positive RMSE\n",
    "rmse_scores = np.sqrt(-scores)\n",
    "\n",
    "# Plot the scores\n",
    "plt.figure(figsize=(10, 5))\n",
    "plt.plot(range(1, len(rmse_scores) + 1), rmse_scores, marker='o')\n",
    "plt.title('Cross-Validation RMSE Across Folds')\n",
    "plt.xlabel('Fold')\n",
    "plt.ylabel('RMSE')\n",
    "plt.show()\n"
   ],
   "metadata": {
    "collapsed": false,
    "ExecuteTime": {
     "end_time": "2023-11-26T13:17:25.653863200Z",
     "start_time": "2023-11-26T13:17:25.592866700Z"
    }
   },
   "id": "622e4b1050e78ab0"
  },
  {
   "cell_type": "code",
   "execution_count": null,
   "outputs": [],
   "source": [
    "from sklearn.model_selection import learning_curve\n",
    "\n",
    "train_sizes, train_scores, val_scores = learning_curve(\n",
    "    best_model, X_scaled, y, train_sizes=np.linspace(0.1, 1.0, 10), cv=tscv, scoring='neg_mean_squared_error')\n",
    "\n",
    "# Calculate mean and standard deviation for train and validation scores\n",
    "train_mean = np.mean(np.sqrt(-train_scores), axis=1)\n",
    "train_std = np.std(np.sqrt(-train_scores), axis=1)\n",
    "val_mean = np.mean(np.sqrt(-val_scores), axis=1)\n",
    "val_std = np.std(np.sqrt(-val_scores), axis=1)\n",
    "\n",
    "# Plot the learning curves\n",
    "plt.figure(figsize=(10, 5))\n",
    "plt.plot(train_sizes, train_mean, 'o-', color=\"r\", label=\"Training score\")\n",
    "plt.plot(train_sizes, val_mean, 'o-', color=\"g\", label=\"Cross-validation score\")\n",
    "plt.fill_between(train_sizes, train_mean - train_std, train_mean + train_std, alpha=0.1, color=\"r\")\n",
    "plt.fill_between(train_sizes, val_mean - val_std, val_mean + val_std, alpha=0.1, color=\"g\")\n",
    "plt.title('Learning Curves')\n",
    "plt.xlabel('Training Set Size')\n",
    "plt.ylabel('RMSE')\n",
    "plt.legend(loc=\"best\")\n",
    "plt.show()\n"
   ],
   "metadata": {
    "collapsed": false,
    "ExecuteTime": {
     "start_time": "2023-11-26T13:17:25.594854800Z"
    }
   },
   "id": "8210a2c19096c5fc"
  },
  {
   "cell_type": "code",
   "execution_count": null,
   "outputs": [],
   "source": [
    "import shap\n",
    "\n",
    "# Assuming your best model is trained and named best_model\n",
    "# and your feature matrix is named X_test_scaled\n",
    "\n",
    "# Initialize the SHAP explainer with your model\n",
    "explainer = shap.Explainer(best_model)\n",
    "\n",
    "# Compute SHAP values for the test set\n",
    "shap_values = explainer(X_test_scaled)\n",
    "\n",
    "# Visualize the first prediction's explanation\n",
    "shap.plots.waterfall(shap_values[0], max_display=10)\n",
    "\n",
    "# For a global understanding, you can plot summary plots\n",
    "shap.summary_plot(shap_values, X_test_scaled)\n",
    "\n",
    "# If you want to convert scaled features back to original for better interpretability:\n",
    "# Inverse transform the scaled features\n",
    "X_test_unscaled = scaler.inverse_transform(X_test_scaled)\n",
    "\n",
    "# Make a DataFrame from the unscaled features for better interpretability\n",
    "X_test_unscaled_df = pd.DataFrame(X_test_unscaled, columns=X_numerical.columns)\n",
    "\n",
    "# Compute SHAP values on the unscaled features\n",
    "shap_values_unscaled = explainer(X_test_unscaled_df)\n",
    "\n",
    "# Summary plot with unscaled features\n",
    "shap.summary_plot(shap_values_unscaled, X_test_unscaled_df)\n"
   ],
   "metadata": {
    "collapsed": false,
    "ExecuteTime": {
     "start_time": "2023-11-26T13:17:25.596863Z"
    }
   },
   "id": "27ec693fe013dba0"
  },
  {
   "cell_type": "code",
   "execution_count": null,
   "outputs": [],
   "source": [
    "import shap\n",
    "\n",
    "# Initialize the SHAP explainer with your model\n",
    "explainer = shap.Explainer(best_model)\n",
    "\n",
    "# Compute SHAP values for the test set\n",
    "shap_values = explainer(X_test_scaled)\n",
    "\n",
    "# Summarize the effects of all the features\n",
    "shap.summary_plot(shap_values, X_test_scaled)\n",
    "\n",
    "# Visualize the first prediction's explanation with a force plot\n",
    "shap.plots.force(shap_values[0])\n",
    "\n",
    "# For a global understanding, you can plot summary plots\n",
    "shap.plots.beeswarm(shap_values)\n",
    "\n",
    "# If you need to display SHAP values in a Jupyter notebook:\n",
    "shap.initjs()\n",
    "\n",
    "# Plot SHAP values for the first sample from the test set\n",
    "shap.plots.force(shap_values[0])\n"
   ],
   "metadata": {
    "collapsed": false,
    "ExecuteTime": {
     "start_time": "2023-11-26T13:17:25.598862Z"
    }
   },
   "id": "6831e296c2ddfaa9"
  },
  {
   "cell_type": "code",
   "execution_count": null,
   "outputs": [],
   "source": [
    "df_test.head()"
   ],
   "metadata": {
    "collapsed": false,
    "ExecuteTime": {
     "start_time": "2023-11-26T13:17:25.601865200Z"
    }
   },
   "id": "7fbdcb9e5a2dd361"
  },
  {
   "cell_type": "code",
   "execution_count": null,
   "outputs": [],
   "source": [
    "feature_list = df_test.columns.tolist()\n",
    "\n",
    "# Print the list of features\n",
    "print(feature_list)\n"
   ],
   "metadata": {
    "collapsed": false,
    "ExecuteTime": {
     "start_time": "2023-11-26T13:17:25.604864900Z"
    }
   },
   "id": "86240da69ef9b161"
  },
  {
   "cell_type": "code",
   "execution_count": null,
   "outputs": [],
   "source": [
    "# Your existing code remains unchanged until after the model evaluation.\n",
    "\n",
    "# ... [Your existing code for training and evaluating the XGBoost model]\n",
    "\n",
    "# Import LIME packages\n",
    "from lime import lime_tabular\n",
    "\n",
    "# Initialize the LIME explainer\n",
    "explainer = lime_tabular.LimeTabularExplainer(\n",
    "    training_data=X_train_scaled,\n",
    "    feature_names=df.drop(target, axis=1).columns.tolist(),\n",
    "    class_names=[target],\n",
    "    mode='regression'\n",
    ")\n",
    "\n",
    "# Choose a specific instance to explain, for example, the first instance in the test set\n",
    "instance_index = 0\n",
    "instance = X_test_scaled[instance_index]\n",
    "\n",
    "# Generate LIME explanation for this instance\n",
    "exp = explainer.explain_instance(\n",
    "    data_row=instance, \n",
    "    predict_fn=best_model.predict\n",
    ")\n",
    "\n",
    "# Display the explanation\n",
    "# Note: This will work in a Jupyter Notebook to display inline.\n",
    "# If you are not in a Jupyter environment, you may need to use exp.save_to_file('lime_explanation.html') instead.\n",
    "exp.show_in_notebook(show_table=True, show_all=False)\n"
   ],
   "metadata": {
    "collapsed": false,
    "ExecuteTime": {
     "start_time": "2023-11-26T13:17:25.606866300Z"
    }
   },
   "id": "f51561963e319650"
  },
  {
   "cell_type": "code",
   "execution_count": null,
   "outputs": [],
   "source": [
    "import pandas as pd\n",
    "import numpy as np\n",
    "import xgboost as xgb\n",
    "import joblib\n",
    "import matplotlib.pyplot as plt\n",
    "\n",
    "# Load the test dataset (replace 'Test.csv' with the actual file path)\n",
    "df_test = pd.read_csv('Test.csv')\n",
    "\n",
    "# Convert the 'date_time' column to datetime\n",
    "df_test['date_time'] = pd.to_datetime(df_test['date_time'])\n",
    "\n",
    "# Feature engineering: create lagged and rolling features (similar to what you did for training data)\n",
    "for i in range(1, 4):\n",
    "    df_test[f'traffic_volume_lag_{i}'] = df_test['traffic_volume'].shift(i)\n",
    "df_test['traffic_volume_rolling_mean'] = df_test['traffic_volume'].rolling(window=3).mean().shift(1)\n",
    "df_test['traffic_volume_rolling_std'] = df_test['traffic_volume'].rolling(window=3).std().shift(1)\n",
    "\n",
    "# One-hot encode categorical features (similar to what you did for training data)\n",
    "df_test = pd.get_dummies(df_test, columns=['weather_type', 'weather_description'], drop_first=True)\n",
    "\n",
    "# Split the test dataset into numerical and categorical features for scaling\n",
    "X_test_numerical = df_test.drop(list(df_test.filter(regex='is_holiday')), axis=1)\n",
    "X_test_categorical = df_test.filter(regex='is_holiday')\n",
    "\n",
    "# Load the trained scaler used for training data\n",
    "scaler = joblib.load('scaler.save')\n",
    "\n",
    "# Scale the numerical features using the same scaler used for training data\n",
    "X_test_numerical_scaled = scaler.transform(X_test_numerical)\n",
    "\n",
    "# Combine scaled numerical and categorical features\n",
    "X_test_scaled = np.concatenate((X_test_numerical_scaled, X_test_categorical), axis=1)\n",
    "\n",
    "# Load the trained XGBoost model\n",
    "best_model = xgb.XGBRegressor(objective='reg:squarederror')\n",
    "best_model.load_model('best_xgboost_model.json')\n",
    "\n",
    "# Use the trained XGBoost model to make predictions on the test data\n",
    "y_test_pred = best_model.predict(X_test_scaled)\n",
    "\n",
    "# Plot the results\n",
    "plt.figure(figsize=(15, 5))\n",
    "plt.plot(df_test['date_time'], y_test_pred, label='Predicted', marker='x', linestyle='--')\n",
    "plt.title('Predicted Traffic Volume Over Time (Test Data)')\n",
    "plt.xlabel('Date Time')\n",
    "plt.ylabel('Traffic Volume')\n",
    "plt.legend()\n",
    "plt.xticks(rotation=45)\n",
    "plt.tight_layout()\n",
    "plt.show()\n"
   ],
   "metadata": {
    "collapsed": false,
    "ExecuteTime": {
     "start_time": "2023-11-26T13:17:25.608867Z"
    }
   },
   "id": "94b1ee957d3143ae"
  }
 ],
 "metadata": {
  "kernelspec": {
   "display_name": "Python 3",
   "language": "python",
   "name": "python3"
  },
  "language_info": {
   "codemirror_mode": {
    "name": "ipython",
    "version": 2
   },
   "file_extension": ".py",
   "mimetype": "text/x-python",
   "name": "python",
   "nbconvert_exporter": "python",
   "pygments_lexer": "ipython2",
   "version": "2.7.6"
  }
 },
 "nbformat": 4,
 "nbformat_minor": 5
}
